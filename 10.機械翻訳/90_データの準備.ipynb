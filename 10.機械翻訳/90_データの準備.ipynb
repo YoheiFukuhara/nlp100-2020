{
  "cells": [
    {
      "cell_type": "markdown",
      "metadata": {
        "id": "view-in-github",
        "colab_type": "text"
      },
      "source": [
        "<a href=\"https://colab.research.google.com/github/YoheiFukuhara/nlp100-2020/blob/main/10.%E6%A9%9F%E6%A2%B0%E7%BF%BB%E8%A8%B3/90_%E3%83%87%E3%83%BC%E3%82%BF%E3%81%AE%E6%BA%96%E5%82%99.ipynb\" target=\"_parent\"><img src=\"https://colab.research.google.com/assets/colab-badge.svg\" alt=\"Open In Colab\"/></a>"
      ]
    },
    {
      "cell_type": "markdown",
      "metadata": {
        "id": "Dmdgll8Go5qa"
      },
      "source": [
        "機械翻訳のデータセットをダウンロードせよ．訓練データ，開発データ，評価データを整形し，必要に応じてトークン化などの前処理を行うこと．ただし，この段階ではトークンの単位として形態素（日本語）および単語（英語）を採用せよ．"
      ]
    },
    {
      "cell_type": "code",
      "execution_count": 1,
      "metadata": {
        "colab": {
          "base_uri": "https://localhost:8080/"
        },
        "id": "_AU1UTnVpYW-",
        "outputId": "dac99f04-9108-4ad8-cc5a-92687afdac9b"
      },
      "outputs": [
        {
          "output_type": "stream",
          "name": "stdout",
          "text": [
            "Looking in indexes: https://pypi.org/simple, https://us-python.pkg.dev/colab-wheels/public/simple/\n",
            "Collecting ginza\n",
            "  Downloading ginza-5.1.2-py3-none-any.whl (20 kB)\n",
            "Collecting ja_ginza\n",
            "  Downloading ja_ginza-5.1.2-py3-none-any.whl (59.1 MB)\n",
            "\u001b[K     |████████████████████████████████| 59.1 MB 1.3 MB/s \n",
            "\u001b[?25hCollecting SudachiPy<0.7.0,>=0.6.2\n",
            "  Downloading SudachiPy-0.6.6-cp37-cp37m-manylinux_2_5_x86_64.manylinux1_x86_64.manylinux_2_12_x86_64.manylinux2010_x86_64.whl (2.2 MB)\n",
            "\u001b[K     |████████████████████████████████| 2.2 MB 31.7 MB/s \n",
            "\u001b[?25hCollecting plac>=1.3.3\n",
            "  Downloading plac-1.3.5-py2.py3-none-any.whl (22 kB)\n",
            "Requirement already satisfied: spacy<3.5.0,>=3.2.0 in /usr/local/lib/python3.7/dist-packages (from ginza) (3.4.1)\n",
            "Collecting SudachiDict-core>=20210802\n",
            "  Downloading SudachiDict-core-20220729.tar.gz (9.1 kB)\n",
            "Requirement already satisfied: pathy>=0.3.5 in /usr/local/lib/python3.7/dist-packages (from spacy<3.5.0,>=3.2.0->ginza) (0.6.2)\n",
            "Requirement already satisfied: preshed<3.1.0,>=3.0.2 in /usr/local/lib/python3.7/dist-packages (from spacy<3.5.0,>=3.2.0->ginza) (3.0.7)\n",
            "Requirement already satisfied: srsly<3.0.0,>=2.4.3 in /usr/local/lib/python3.7/dist-packages (from spacy<3.5.0,>=3.2.0->ginza) (2.4.4)\n",
            "Requirement already satisfied: catalogue<2.1.0,>=2.0.6 in /usr/local/lib/python3.7/dist-packages (from spacy<3.5.0,>=3.2.0->ginza) (2.0.8)\n",
            "Requirement already satisfied: setuptools in /usr/local/lib/python3.7/dist-packages (from spacy<3.5.0,>=3.2.0->ginza) (57.4.0)\n",
            "Requirement already satisfied: thinc<8.2.0,>=8.1.0 in /usr/local/lib/python3.7/dist-packages (from spacy<3.5.0,>=3.2.0->ginza) (8.1.0)\n",
            "Requirement already satisfied: tqdm<5.0.0,>=4.38.0 in /usr/local/lib/python3.7/dist-packages (from spacy<3.5.0,>=3.2.0->ginza) (4.64.1)\n",
            "Requirement already satisfied: spacy-loggers<2.0.0,>=1.0.0 in /usr/local/lib/python3.7/dist-packages (from spacy<3.5.0,>=3.2.0->ginza) (1.0.3)\n",
            "Requirement already satisfied: jinja2 in /usr/local/lib/python3.7/dist-packages (from spacy<3.5.0,>=3.2.0->ginza) (2.11.3)\n",
            "Requirement already satisfied: typing-extensions<4.2.0,>=3.7.4 in /usr/local/lib/python3.7/dist-packages (from spacy<3.5.0,>=3.2.0->ginza) (4.1.1)\n",
            "Requirement already satisfied: wasabi<1.1.0,>=0.9.1 in /usr/local/lib/python3.7/dist-packages (from spacy<3.5.0,>=3.2.0->ginza) (0.10.1)\n",
            "Requirement already satisfied: murmurhash<1.1.0,>=0.28.0 in /usr/local/lib/python3.7/dist-packages (from spacy<3.5.0,>=3.2.0->ginza) (1.0.8)\n",
            "Requirement already satisfied: spacy-legacy<3.1.0,>=3.0.9 in /usr/local/lib/python3.7/dist-packages (from spacy<3.5.0,>=3.2.0->ginza) (3.0.10)\n",
            "Requirement already satisfied: pydantic!=1.8,!=1.8.1,<1.10.0,>=1.7.4 in /usr/local/lib/python3.7/dist-packages (from spacy<3.5.0,>=3.2.0->ginza) (1.9.2)\n",
            "Requirement already satisfied: cymem<2.1.0,>=2.0.2 in /usr/local/lib/python3.7/dist-packages (from spacy<3.5.0,>=3.2.0->ginza) (2.0.6)\n",
            "Requirement already satisfied: packaging>=20.0 in /usr/local/lib/python3.7/dist-packages (from spacy<3.5.0,>=3.2.0->ginza) (21.3)\n",
            "Requirement already satisfied: langcodes<4.0.0,>=3.2.0 in /usr/local/lib/python3.7/dist-packages (from spacy<3.5.0,>=3.2.0->ginza) (3.3.0)\n",
            "Requirement already satisfied: typer<0.5.0,>=0.3.0 in /usr/local/lib/python3.7/dist-packages (from spacy<3.5.0,>=3.2.0->ginza) (0.4.2)\n",
            "Requirement already satisfied: numpy>=1.15.0 in /usr/local/lib/python3.7/dist-packages (from spacy<3.5.0,>=3.2.0->ginza) (1.21.6)\n",
            "Requirement already satisfied: requests<3.0.0,>=2.13.0 in /usr/local/lib/python3.7/dist-packages (from spacy<3.5.0,>=3.2.0->ginza) (2.23.0)\n",
            "Requirement already satisfied: zipp>=0.5 in /usr/local/lib/python3.7/dist-packages (from catalogue<2.1.0,>=2.0.6->spacy<3.5.0,>=3.2.0->ginza) (3.8.1)\n",
            "Requirement already satisfied: pyparsing!=3.0.5,>=2.0.2 in /usr/local/lib/python3.7/dist-packages (from packaging>=20.0->spacy<3.5.0,>=3.2.0->ginza) (3.0.9)\n",
            "Requirement already satisfied: smart-open<6.0.0,>=5.2.1 in /usr/local/lib/python3.7/dist-packages (from pathy>=0.3.5->spacy<3.5.0,>=3.2.0->ginza) (5.2.1)\n",
            "Requirement already satisfied: idna<3,>=2.5 in /usr/local/lib/python3.7/dist-packages (from requests<3.0.0,>=2.13.0->spacy<3.5.0,>=3.2.0->ginza) (2.10)\n",
            "Requirement already satisfied: chardet<4,>=3.0.2 in /usr/local/lib/python3.7/dist-packages (from requests<3.0.0,>=2.13.0->spacy<3.5.0,>=3.2.0->ginza) (3.0.4)\n",
            "Requirement already satisfied: certifi>=2017.4.17 in /usr/local/lib/python3.7/dist-packages (from requests<3.0.0,>=2.13.0->spacy<3.5.0,>=3.2.0->ginza) (2022.6.15)\n",
            "Requirement already satisfied: urllib3!=1.25.0,!=1.25.1,<1.26,>=1.21.1 in /usr/local/lib/python3.7/dist-packages (from requests<3.0.0,>=2.13.0->spacy<3.5.0,>=3.2.0->ginza) (1.24.3)\n",
            "Requirement already satisfied: blis<0.8.0,>=0.7.8 in /usr/local/lib/python3.7/dist-packages (from thinc<8.2.0,>=8.1.0->spacy<3.5.0,>=3.2.0->ginza) (0.7.8)\n",
            "Requirement already satisfied: click<9.0.0,>=7.1.1 in /usr/local/lib/python3.7/dist-packages (from typer<0.5.0,>=0.3.0->spacy<3.5.0,>=3.2.0->ginza) (7.1.2)\n",
            "Requirement already satisfied: MarkupSafe>=0.23 in /usr/local/lib/python3.7/dist-packages (from jinja2->spacy<3.5.0,>=3.2.0->ginza) (2.0.1)\n",
            "Building wheels for collected packages: SudachiDict-core\n",
            "  Building wheel for SudachiDict-core (setup.py) ... \u001b[?25l\u001b[?25hdone\n",
            "  Created wheel for SudachiDict-core: filename=SudachiDict_core-20220729-py3-none-any.whl size=71570387 sha256=f806a368c0a29154427c414643821ae2d0e2ac0a31ae7c1a9af634f2f0f95e99\n",
            "  Stored in directory: /root/.cache/pip/wheels/ff/47/2b/6dcb905d9086fc6f9b7af821f7145f785d36070b827b7f80b7\n",
            "Successfully built SudachiDict-core\n",
            "Installing collected packages: SudachiPy, SudachiDict-core, plac, ginza, ja-ginza\n",
            "Successfully installed SudachiDict-core-20220729 SudachiPy-0.6.6 ginza-5.1.2 ja-ginza-5.1.2 plac-1.3.5\n"
          ]
        }
      ],
      "source": [
        "!pip install ginza ja_ginza"
      ]
    },
    {
      "cell_type": "code",
      "execution_count": 2,
      "metadata": {
        "colab": {
          "base_uri": "https://localhost:8080/"
        },
        "id": "_Dj62iwMpBO8",
        "outputId": "b95af6bf-7d45-4c5c-e557-02338cd8a382"
      },
      "outputs": [
        {
          "output_type": "stream",
          "name": "stdout",
          "text": [
            "Mounted at /content/drive\n"
          ]
        }
      ],
      "source": [
        "from google.colab import drive\n",
        "#import tensorflow as tf\n",
        "#import tensorflow_hub as hub\n",
        "\n",
        "import ginza\n",
        "import pandas as pd\n",
        "import spacy\n",
        "\n",
        "drive.mount('/content/drive')"
      ]
    },
    {
      "cell_type": "code",
      "execution_count": 3,
      "metadata": {
        "id": "Bj0LwWKyrQvA"
      },
      "outputs": [],
      "source": [
        "BASE_PATH = '/content/drive/MyDrive/ColabNotebooks/ML/NLP100_2020/10.MachineTranslation/data/'"
      ]
    },
    {
      "cell_type": "code",
      "execution_count": 4,
      "metadata": {
        "id": "ArH3CFo4tL-U"
      },
      "outputs": [],
      "source": [
        "def read_dataset(type_, language):\n",
        "    filename = 'kyoto-'+type_+'.'+language\n",
        "    with open(BASE_PATH+filename) as f:\n",
        "        texts = f.read().splitlines()\n",
        "    print(f'---File: {filename}---')\n",
        "    print(f'Number of lines: {len(texts):,}')\n",
        "    print(f'Sample: {texts[:3]} \\n')\n",
        "    return texts"
      ]
    },
    {
      "cell_type": "code",
      "execution_count": 5,
      "metadata": {
        "id": "drFGwrAwu8p1"
      },
      "outputs": [],
      "source": [
        "def tokenize(lines, type_, nlp):\n",
        "    filename = 'token-'+type_+'.'+nlp.lang\n",
        "    print(f'Start Writing to {filename}')\n",
        "    with open(BASE_PATH+filename, 'w') as f:\n",
        "        for i, line in enumerate(lines):\n",
        "            tokens = []\n",
        "            for sent in nlp(line).sents:\n",
        "                tokens += [token.text for token in sent]\n",
        "            f.write(' '.join(tokens)+'\\n')\n",
        "\n",
        "            # https://hibiki-press.tech/python/print-progress/5416\n",
        "            print(f\"\\r\\033[K#{i+1}/{len(lines)}\", end=\"\")\n",
        "    print('\\n')"
      ]
    },
    {
      "cell_type": "code",
      "execution_count": 6,
      "metadata": {
        "id": "cqJzsEaUtnrM"
      },
      "outputs": [],
      "source": [
        "nlp_ja = spacy.load('ja_ginza')\n",
        "nlp_en = spacy.load('en_core_web_sm')\n",
        "def read_tokenize(type_):\n",
        "    lines = read_dataset(type_, nlp_ja.lang)\n",
        "    tokenize(lines, type_, nlp_ja)\n",
        "\n",
        "    lines = read_dataset(type_, nlp_en.lang)\n",
        "    tokenize(lines, type_, nlp_en)"
      ]
    },
    {
      "cell_type": "code",
      "execution_count": 7,
      "metadata": {
        "colab": {
          "base_uri": "https://localhost:8080/"
        },
        "id": "g30mrtkcvswt",
        "outputId": "42bdb057-59ee-43c5-c0e8-2ca657dea5b6"
      },
      "outputs": [
        {
          "output_type": "stream",
          "name": "stdout",
          "text": [
            "---File: kyoto-dev.ja---\n",
            "Number of lines: 1,166\n",
            "Sample: ['臨済宗（臨濟宗、りんざいしゅう）は、中国禅五家七宗（ごけしちしゅう）（臨済、潙仰宗、曹洞宗、雲門宗、法眼宗）のひとつで、唐の臨済義玄（？-867年）を宗祖とする。', '彼は『喝の臨済』『臨済将軍』の異名で知られ、豪放な家風を特徴として中国禅興隆の頂点を極めた。', '公案に参究することにより見性しようとする看話禅（かんなぜん）で、ただ座禅する曹洞宗の黙照禅とはこの点が異なる。'] \n",
            "\n",
            "Start Writing to token-dev.ja\n",
            "\u001b[K#1166/1166\n",
            "\n",
            "---File: kyoto-dev.en---\n",
            "Number of lines: 1,166\n",
            "Sample: ['Rinzai Zen Buddhism is one of the Chinese five Houses/seven Schools of Zen (Rinzai, Igyou, Soto, Unmon, Hogan) and Gigen RINZAI (? - 867) of Tang was its founder.', 'He was known as \"RINZAI of Katu (meaning to help wake up the sleeping mind) \" and \"General RINZAI\", and rose to the top of Chinese Zen with his distinctive style.', 'With its Zen Talks that try to awaken self awareness through study of Koan, it differs from the Silent Zen of the Soto sect, which just does meditation.'] \n",
            "\n",
            "Start Writing to token-dev.en\n",
            "\u001b[K#1166/1166\n",
            "\n",
            "CPU times: user 35.1 s, sys: 750 ms, total: 35.8 s\n",
            "Wall time: 38.6 s\n"
          ]
        }
      ],
      "source": [
        "%%time\n",
        "read_tokenize('dev')"
      ]
    },
    {
      "cell_type": "code",
      "execution_count": 8,
      "metadata": {
        "colab": {
          "base_uri": "https://localhost:8080/"
        },
        "id": "wcrMpkLIxa2_",
        "outputId": "8dbb50d5-d9a8-4665-f858-143692a25643"
      },
      "outputs": [
        {
          "output_type": "stream",
          "name": "stdout",
          "text": [
            "---File: kyoto-test.ja---\n",
            "Number of lines: 1,160\n",
            "Sample: ['InfoboxBuddhist', '道元（どうげん）は、鎌倉時代初期の禅僧。', '曹洞宗の開祖。'] \n",
            "\n",
            "Start Writing to token-test.ja\n",
            "\u001b[K#1160/1160\n",
            "\n",
            "---File: kyoto-test.en---\n",
            "Number of lines: 1,160\n",
            "Sample: ['Infobox Buddhist', 'Dogen was a Zen monk in the early Kamakura period.', 'The founder of Soto Zen'] \n",
            "\n",
            "Start Writing to token-test.en\n",
            "\u001b[K#1160/1160\n",
            "\n",
            "CPU times: user 34.1 s, sys: 712 ms, total: 34.8 s\n",
            "Wall time: 35.9 s\n"
          ]
        }
      ],
      "source": [
        "%%time\n",
        "read_tokenize('test')"
      ]
    },
    {
      "cell_type": "code",
      "execution_count": 9,
      "metadata": {
        "colab": {
          "base_uri": "https://localhost:8080/"
        },
        "id": "aOeqLqvJy99j",
        "outputId": "0531d7bc-330b-46ef-8697-fb2e790cecc2"
      },
      "outputs": [
        {
          "output_type": "stream",
          "name": "stdout",
          "text": [
            "---File: kyoto-train.ja---\n",
            "Number of lines: 440,288\n",
            "Sample: ['雪舟（せっしゅう、1420年（応永27年）-1506年（永正3年））は号で、15世紀後半室町時代に活躍した水墨画家・禅僧で、画聖とも称えられる。', '日本の水墨画を一変させた。', '諱は「等楊（とうよう）」、もしくは「拙宗（せっしゅう）」と号した。'] \n",
            "\n",
            "Start Writing to token-train.ja\n",
            "\u001b[K#440288/440288\n",
            "\n",
            "---File: kyoto-train.en---\n",
            "Number of lines: 440,288\n",
            "Sample: ['Known as Sesshu (1420 - 1506), he was an ink painter and Zen monk active in the Muromachi period in the latter half of the 15th century, and was called a master painter.', 'He revolutionized the Japanese ink painting.', 'He was given the posthumous name \"Toyo\" or \"Sesshu (拙宗).\"'] \n",
            "\n",
            "Start Writing to token-train.en\n",
            "\u001b[K#440288/440288\n",
            "\n",
            "CPU times: user 3h 43min 58s, sys: 4min 24s, total: 3h 48min 23s\n",
            "Wall time: 3h 44min 15s\n"
          ]
        }
      ],
      "source": [
        "%%time\n",
        "read_tokenize('train')"
      ]
    },
    {
      "cell_type": "code",
      "execution_count": 9,
      "metadata": {
        "id": "QAYmlG1lzDFc"
      },
      "outputs": [],
      "source": []
    }
  ],
  "metadata": {
    "colab": {
      "collapsed_sections": [],
      "provenance": [],
      "authorship_tag": "ABX9TyPz4O3X3SuWgtISHznaJSwD",
      "include_colab_link": true
    },
    "kernelspec": {
      "display_name": "Python 3",
      "name": "python3"
    },
    "language_info": {
      "name": "python"
    }
  },
  "nbformat": 4,
  "nbformat_minor": 0
}