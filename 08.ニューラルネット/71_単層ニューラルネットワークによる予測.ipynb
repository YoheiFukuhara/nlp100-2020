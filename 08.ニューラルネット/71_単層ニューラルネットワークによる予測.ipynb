{
  "nbformat": 4,
  "nbformat_minor": 0,
  "metadata": {
    "colab": {
      "name": "71.単層ニューラルネットワークによる予測.ipynb",
      "provenance": [],
      "collapsed_sections": [],
      "authorship_tag": "ABX9TyOTDtTGAy1wW4g5FBKGbzr6",
      "include_colab_link": true
    },
    "kernelspec": {
      "name": "python3",
      "display_name": "Python 3"
    },
    "language_info": {
      "name": "python"
    }
  },
  "cells": [
    {
      "cell_type": "markdown",
      "metadata": {
        "id": "view-in-github",
        "colab_type": "text"
      },
      "source": [
        "<a href=\"https://colab.research.google.com/github/YoheiFukuhara/nlp100-2020/blob/main/08.%E3%83%8B%E3%83%A5%E3%83%BC%E3%83%A9%E3%83%AB%E3%83%8D%E3%83%83%E3%83%88/71_%E5%8D%98%E5%B1%A4%E3%83%8B%E3%83%A5%E3%83%BC%E3%83%A9%E3%83%AB%E3%83%8D%E3%83%83%E3%83%88%E3%83%AF%E3%83%BC%E3%82%AF%E3%81%AB%E3%82%88%E3%82%8B%E4%BA%88%E6%B8%AC.ipynb\" target=\"_parent\"><img src=\"https://colab.research.google.com/assets/colab-badge.svg\" alt=\"Open In Colab\"/></a>"
      ]
    },
    {
      "cell_type": "markdown",
      "metadata": {
        "id": "fKXOsQB7HhlL"
      },
      "source": [
        "問題70で保存した行列を読み込み，学習データについて以下の計算を実行せよ．\n",
        "\n",
        "```math\n",
        "\\hat{\\boldsymbol y_1} = {\\rm softmax}(\\boldsymbol x_1 W), \\\\\n",
        "\\hat{Y} = {\\rm softmax}(X_{[1:4]} W)\n",
        "```\n",
        "\n",
        "ただし，${\\rm softmax}$はソフトマックス関数，$X_{[1:4]} \\in \\mathbb{R}^{4 \\times d}$は特徴ベクトル$\\boldsymbol x_1, \\boldsymbol x_2, \\boldsymbol x_3, \\boldsymbol x_4$を縦に並べた行列である．\n",
        "\n",
        "```math\n",
        "X_{[1:4]} = \\begin{pmatrix} \n",
        "  \\boldsymbol x_1 \\\\ \n",
        "  \\boldsymbol x_2 \\\\ \n",
        "  \\boldsymbol x_3 \\\\ \n",
        "  \\boldsymbol x_4 \\\\ \n",
        "\\end{pmatrix}\n",
        "```\n",
        "\n",
        "行列$W \\in \\mathbb{R}^{d \\times L}$は単層ニューラルネットワークの重み行列で，ここではランダムな値で初期化すればよい（問題73以降で学習して求める）．なお，$\\hat{\\boldsymbol y_1} \\in \\mathbb{N}^L$は未学習の行列$W$で事例$x_1$を分類したときに，各カテゴリに属する確率を表すベクトルである．\n",
        "同様に，$\\hat{Y} \\in \\mathbb{N}^{n \\times L}$は，学習データの事例$x_1, x_2, x_3, x_4$について，各カテゴリに属する確率を行列として表現している．"
      ]
    },
    {
      "cell_type": "code",
      "metadata": {
        "colab": {
          "base_uri": "https://localhost:8080/"
        },
        "id": "jF0QVW4IG3A7",
        "outputId": "34ad0a86-d5cc-4e6c-84ad-0fc0791587ce"
      },
      "source": [
        "import tensorflow as tf\n",
        "from google.colab import drive\n",
        "\n",
        "drive.mount('/content/drive')"
      ],
      "execution_count": 2,
      "outputs": [
        {
          "output_type": "stream",
          "name": "stdout",
          "text": [
            "Mounted at /content/drive\n"
          ]
        }
      ]
    },
    {
      "cell_type": "code",
      "metadata": {
        "colab": {
          "base_uri": "https://localhost:8080/"
        },
        "id": "b7EqkFMAIfSN",
        "outputId": "cd101721-0630-4b9c-ff4d-8317fc927ef9"
      },
      "source": [
        "!python --version\n",
        "!pip show google tensorflow"
      ],
      "execution_count": 3,
      "outputs": [
        {
          "output_type": "stream",
          "name": "stdout",
          "text": [
            "Python 3.7.12\n",
            "Name: google\n",
            "Version: 2.0.3\n",
            "Summary: Python bindings to the Google search engine.\n",
            "Home-page: http://breakingcode.wordpress.com/\n",
            "Author: Mario Vilas\n",
            "Author-email: mvilas@gmail.com\n",
            "License: UNKNOWN\n",
            "Location: /usr/local/lib/python3.7/dist-packages\n",
            "Requires: beautifulsoup4\n",
            "Required-by: \n",
            "---\n",
            "Name: tensorflow\n",
            "Version: 2.6.0\n",
            "Summary: TensorFlow is an open source machine learning framework for everyone.\n",
            "Home-page: https://www.tensorflow.org/\n",
            "Author: Google Inc.\n",
            "Author-email: packages@tensorflow.org\n",
            "License: Apache 2.0\n",
            "Location: /usr/local/lib/python3.7/dist-packages\n",
            "Requires: tensorboard, grpcio, wheel, absl-py, wrapt, termcolor, typing-extensions, protobuf, six, google-pasta, clang, tensorflow-estimator, keras-preprocessing, opt-einsum, numpy, gast, flatbuffers, h5py, keras, astunparse\n",
            "Required-by: kapre\n"
          ]
        }
      ]
    },
    {
      "cell_type": "code",
      "metadata": {
        "colab": {
          "base_uri": "https://localhost:8080/"
        },
        "id": "sVbfr3LtyHj6",
        "outputId": "2df5df33-b1b2-476a-f406-e04c8d9e357b"
      },
      "source": [
        "BASE_PATH = '/content/drive/MyDrive/ColabNotebooks/ML/NLP100_2020/08.NeuralNetworks/'\n",
        "train_raw = tf.data.TFRecordDataset(BASE_PATH+'train.tfrecord')\n",
        "print(train_raw)"
      ],
      "execution_count": 4,
      "outputs": [
        {
          "output_type": "stream",
          "name": "stdout",
          "text": [
            "<TFRecordDatasetV2 shapes: (), types: tf.string>\n"
          ]
        }
      ]
    },
    {
      "cell_type": "code",
      "metadata": {
        "id": "q3vAcr71R1iI"
      },
      "source": [
        "def _parse_function(example_proto):\n",
        "    # 特徴の記述\n",
        "    feature_description = {\n",
        "        'title': tf.io.FixedLenFeature([], tf.string),\n",
        "        'category': tf.io.FixedLenFeature([], tf.string)}\n",
        "  \n",
        "  # 上記の記述を使って入力の tf.Example を処理\n",
        "    features = tf.io.parse_single_example(example_proto, feature_description)\n",
        "    X = tf.io.decode_raw(features['title'], tf.float32)\n",
        "    y = tf.io.decode_raw(features['category'], tf.int32)\n",
        "    return X, y"
      ],
      "execution_count": 5,
      "outputs": []
    },
    {
      "cell_type": "code",
      "metadata": {
        "colab": {
          "base_uri": "https://localhost:8080/"
        },
        "id": "w8RiwJ6glRcJ",
        "outputId": "d44520cb-57bc-40e4-8306-8f53b39d4db8"
      },
      "source": [
        "dense_layer = tf.keras.layers.Dense(4, activation='softmax', use_bias=False, input_dim=300, kernel_initializer='random_uniform')\n",
        "\n",
        "for X, y in train_raw.map(_parse_function).batch(4).take(1):\n",
        "\n",
        "    # 元データ\n",
        "    print(X.numpy())\n",
        "    print(y.numpy())  # 使わないけど確認だけする\n",
        "\n",
        "    print('---出力データ---')\n",
        "    print(dense_layer(X))"
      ],
      "execution_count": 6,
      "outputs": [
        {
          "output_type": "stream",
          "name": "stdout",
          "text": [
            "[[ 0.08366042  0.00563401  0.00681481 ...  0.07512489  0.04330679\n",
            "  -0.08679669]\n",
            " [ 0.02719116  0.02655029 -0.0947113  ... -0.10462952 -0.04891968\n",
            "  -0.00921631]\n",
            " [ 0.05766805 -0.01586914 -0.07795715 ... -0.0420634   0.12289429\n",
            "   0.08764648]\n",
            " [-0.05554669  0.04959811  0.06200233 ... -0.01362493  0.03897799\n",
            "  -0.02062988]]\n",
            "[[1 0 0 0]\n",
            " [0 1 0 0]\n",
            " [0 0 0 1]\n",
            " [0 0 1 0]]\n",
            "---出力データ---\n",
            "tf.Tensor(\n",
            "[[0.2518806  0.24666102 0.24710031 0.25435802]\n",
            " [0.248636   0.25726244 0.24938346 0.2447181 ]\n",
            " [0.25629058 0.24833342 0.24286988 0.25250617]\n",
            " [0.25795886 0.23971929 0.23602764 0.26629415]], shape=(4, 4), dtype=float32)\n"
          ]
        }
      ]
    },
    {
      "cell_type": "code",
      "metadata": {
        "id": "-348-OLW09jm"
      },
      "source": [
        ""
      ],
      "execution_count": null,
      "outputs": []
    }
  ]
}