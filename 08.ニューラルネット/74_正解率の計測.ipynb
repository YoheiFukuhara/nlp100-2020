{
  "nbformat": 4,
  "nbformat_minor": 0,
  "metadata": {
    "colab": {
      "name": "74.正解率の計測.ipynb",
      "provenance": [],
      "collapsed_sections": [],
      "authorship_tag": "ABX9TyNZ/of6Y2cWb1MeVcJtQmAn",
      "include_colab_link": true
    },
    "kernelspec": {
      "name": "python3",
      "display_name": "Python 3"
    },
    "language_info": {
      "name": "python"
    },
    "accelerator": "GPU"
  },
  "cells": [
    {
      "cell_type": "markdown",
      "metadata": {
        "id": "view-in-github",
        "colab_type": "text"
      },
      "source": [
        "<a href=\"https://colab.research.google.com/github/YoheiFukuhara/nlp100-2020/blob/main/08.%E3%83%8B%E3%83%A5%E3%83%BC%E3%83%A9%E3%83%AB%E3%83%8D%E3%83%83%E3%83%88/74_%E6%AD%A3%E8%A7%A3%E7%8E%87%E3%81%AE%E8%A8%88%E6%B8%AC.ipynb\" target=\"_parent\"><img src=\"https://colab.research.google.com/assets/colab-badge.svg\" alt=\"Open In Colab\"/></a>"
      ]
    },
    {
      "cell_type": "markdown",
      "metadata": {
        "id": "MQMgBhJqZ6jQ"
      },
      "source": [
        "問題73で求めた行列を用いて学習データおよび評価データの事例を分類したとき，その正解率をそれぞれ求めよ．"
      ]
    },
    {
      "cell_type": "code",
      "metadata": {
        "colab": {
          "base_uri": "https://localhost:8080/"
        },
        "id": "J0hID8-dZj-Z",
        "outputId": "075b0fd8-ec20-47f4-f138-39d8c3c83208"
      },
      "source": [
        "import tensorflow as tf\n",
        "from google.colab import drive\n",
        "\n",
        "drive.mount('/content/drive')"
      ],
      "execution_count": 1,
      "outputs": [
        {
          "output_type": "stream",
          "name": "stdout",
          "text": [
            "Drive already mounted at /content/drive; to attempt to forcibly remount, call drive.mount(\"/content/drive\", force_remount=True).\n"
          ]
        }
      ]
    },
    {
      "cell_type": "code",
      "metadata": {
        "id": "ZoS0vGHFaBm7",
        "colab": {
          "base_uri": "https://localhost:8080/"
        },
        "outputId": "667e1d89-05a3-4812-d2e8-bef9bafe6584"
      },
      "source": [
        "!python --version\n",
        "!pip show google tensorflow"
      ],
      "execution_count": 2,
      "outputs": [
        {
          "output_type": "stream",
          "name": "stdout",
          "text": [
            "Python 3.7.12\n",
            "Name: google\n",
            "Version: 2.0.3\n",
            "Summary: Python bindings to the Google search engine.\n",
            "Home-page: http://breakingcode.wordpress.com/\n",
            "Author: Mario Vilas\n",
            "Author-email: mvilas@gmail.com\n",
            "License: UNKNOWN\n",
            "Location: /usr/local/lib/python3.7/dist-packages\n",
            "Requires: beautifulsoup4\n",
            "Required-by: \n",
            "---\n",
            "Name: tensorflow\n",
            "Version: 2.6.0\n",
            "Summary: TensorFlow is an open source machine learning framework for everyone.\n",
            "Home-page: https://www.tensorflow.org/\n",
            "Author: Google Inc.\n",
            "Author-email: packages@tensorflow.org\n",
            "License: Apache 2.0\n",
            "Location: /usr/local/lib/python3.7/dist-packages\n",
            "Requires: astunparse, h5py, protobuf, typing-extensions, absl-py, google-pasta, tensorboard, grpcio, keras-preprocessing, termcolor, numpy, clang, flatbuffers, tensorflow-estimator, wheel, gast, keras, six, opt-einsum, wrapt\n",
            "Required-by: kapre\n"
          ]
        }
      ]
    },
    {
      "cell_type": "code",
      "metadata": {
        "id": "TnyR6CLnaSHU"
      },
      "source": [
        "def _parse_function(example_proto):\n",
        "    # 特徴の記述\n",
        "    feature_description = {\n",
        "        'title': tf.io.FixedLenFeature([], tf.string),\n",
        "        'category': tf.io.FixedLenFeature([], tf.string)}\n",
        "  \n",
        "  # 上記の記述を使って入力の tf.Example を処理\n",
        "    features = tf.io.parse_single_example(example_proto, feature_description)\n",
        "    X = tf.io.decode_raw(features['title'], tf.float32)\n",
        "    y = tf.io.decode_raw(features['category'], tf.int32)\n",
        "    return X, y"
      ],
      "execution_count": 3,
      "outputs": []
    },
    {
      "cell_type": "code",
      "metadata": {
        "id": "KLNySI5MaDP1"
      },
      "source": [
        "BASE_PATH = '/content/drive/MyDrive/ColabNotebooks/ML/NLP100_2020/08.NeuralNetworks/'\n",
        "\n",
        "def get_dataset(file_name):\n",
        "    ds_raw = tf.data.TFRecordDataset(BASE_PATH+file_name+'.tfrecord')\n",
        "    return ds_raw.map(_parse_function).shuffle(1000).batch(64)"
      ],
      "execution_count": 4,
      "outputs": []
    },
    {
      "cell_type": "code",
      "metadata": {
        "id": "HO1FSg762aML"
      },
      "source": [
        "train_ds = get_dataset('train')\n",
        "test_ds = get_dataset('test')"
      ],
      "execution_count": 5,
      "outputs": []
    },
    {
      "cell_type": "code",
      "metadata": {
        "colab": {
          "base_uri": "https://localhost:8080/"
        },
        "id": "G6vnyJlEca9E",
        "outputId": "c9a97152-9d1b-467c-d131-5ac441e49faa"
      },
      "source": [
        "model = tf.keras.Sequential(\n",
        "    [tf.keras.layers.Dense(\n",
        "        4, \n",
        "        activation='softmax',\n",
        "        use_bias=False,\n",
        "        input_dim=300, \n",
        "        kernel_initializer='random_uniform') ])\n",
        "model.compile(loss='categorical_crossentropy', optimizer='sgd', metrics=['acc'])\n",
        "model.summary()"
      ],
      "execution_count": 6,
      "outputs": [
        {
          "output_type": "stream",
          "name": "stdout",
          "text": [
            "Model: \"sequential\"\n",
            "_________________________________________________________________\n",
            "Layer (type)                 Output Shape              Param #   \n",
            "=================================================================\n",
            "dense (Dense)                (None, 4)                 1200      \n",
            "=================================================================\n",
            "Total params: 1,200\n",
            "Trainable params: 1,200\n",
            "Non-trainable params: 0\n",
            "_________________________________________________________________\n"
          ]
        }
      ]
    },
    {
      "cell_type": "code",
      "metadata": {
        "colab": {
          "base_uri": "https://localhost:8080/"
        },
        "id": "RvJ-3Aepnm9z",
        "outputId": "5794b7e7-b38e-426c-900d-8dfb833a0554"
      },
      "source": [
        "%%time\n",
        "model.fit(train_ds, epochs=100)"
      ],
      "execution_count": 7,
      "outputs": [
        {
          "output_type": "stream",
          "name": "stdout",
          "text": [
            "Epoch 1/100\n",
            "167/167 [==============================] - 2s 8ms/step - loss: 1.3095 - acc: 0.6369\n",
            "Epoch 2/100\n",
            "167/167 [==============================] - 1s 8ms/step - loss: 1.1870 - acc: 0.7662\n",
            "Epoch 3/100\n",
            "167/167 [==============================] - 1s 8ms/step - loss: 1.1005 - acc: 0.7744\n",
            "Epoch 4/100\n",
            "167/167 [==============================] - 1s 8ms/step - loss: 1.0361 - acc: 0.7762\n",
            "Epoch 5/100\n",
            "167/167 [==============================] - 1s 8ms/step - loss: 0.9861 - acc: 0.7768\n",
            "Epoch 6/100\n",
            "167/167 [==============================] - 1s 8ms/step - loss: 0.9460 - acc: 0.7771\n",
            "Epoch 7/100\n",
            "167/167 [==============================] - 1s 8ms/step - loss: 0.9128 - acc: 0.7775\n",
            "Epoch 8/100\n",
            "167/167 [==============================] - 1s 8ms/step - loss: 0.8847 - acc: 0.7776\n",
            "Epoch 9/100\n",
            "167/167 [==============================] - 1s 8ms/step - loss: 0.8605 - acc: 0.7778\n",
            "Epoch 10/100\n",
            "167/167 [==============================] - 1s 8ms/step - loss: 0.8393 - acc: 0.7771\n",
            "Epoch 11/100\n",
            "167/167 [==============================] - 1s 8ms/step - loss: 0.8204 - acc: 0.7775\n",
            "Epoch 12/100\n",
            "167/167 [==============================] - 1s 8ms/step - loss: 0.8035 - acc: 0.7773\n",
            "Epoch 13/100\n",
            "167/167 [==============================] - 1s 8ms/step - loss: 0.7883 - acc: 0.7773\n",
            "Epoch 14/100\n",
            "167/167 [==============================] - 1s 8ms/step - loss: 0.7743 - acc: 0.7776\n",
            "Epoch 15/100\n",
            "167/167 [==============================] - 1s 8ms/step - loss: 0.7614 - acc: 0.7779\n",
            "Epoch 16/100\n",
            "167/167 [==============================] - 1s 8ms/step - loss: 0.7495 - acc: 0.7781\n",
            "Epoch 17/100\n",
            "167/167 [==============================] - 1s 8ms/step - loss: 0.7385 - acc: 0.7785\n",
            "Epoch 18/100\n",
            "167/167 [==============================] - 1s 8ms/step - loss: 0.7282 - acc: 0.7786\n",
            "Epoch 19/100\n",
            "167/167 [==============================] - 1s 8ms/step - loss: 0.7185 - acc: 0.7786\n",
            "Epoch 20/100\n",
            "167/167 [==============================] - 1s 8ms/step - loss: 0.7094 - acc: 0.7788\n",
            "Epoch 21/100\n",
            "167/167 [==============================] - 1s 8ms/step - loss: 0.7008 - acc: 0.7792\n",
            "Epoch 22/100\n",
            "167/167 [==============================] - 1s 8ms/step - loss: 0.6926 - acc: 0.7791\n",
            "Epoch 23/100\n",
            "167/167 [==============================] - 1s 8ms/step - loss: 0.6849 - acc: 0.7793\n",
            "Epoch 24/100\n",
            "167/167 [==============================] - 1s 8ms/step - loss: 0.6775 - acc: 0.7795\n",
            "Epoch 25/100\n",
            "167/167 [==============================] - 1s 8ms/step - loss: 0.6705 - acc: 0.7796\n",
            "Epoch 26/100\n",
            "167/167 [==============================] - 1s 8ms/step - loss: 0.6638 - acc: 0.7798\n",
            "Epoch 27/100\n",
            "167/167 [==============================] - 1s 8ms/step - loss: 0.6574 - acc: 0.7800\n",
            "Epoch 28/100\n",
            "167/167 [==============================] - 1s 8ms/step - loss: 0.6513 - acc: 0.7804\n",
            "Epoch 29/100\n",
            "167/167 [==============================] - 1s 8ms/step - loss: 0.6454 - acc: 0.7806\n",
            "Epoch 30/100\n",
            "167/167 [==============================] - 1s 8ms/step - loss: 0.6397 - acc: 0.7806\n",
            "Epoch 31/100\n",
            "167/167 [==============================] - 1s 8ms/step - loss: 0.6343 - acc: 0.7813\n",
            "Epoch 32/100\n",
            "167/167 [==============================] - 1s 8ms/step - loss: 0.6290 - acc: 0.7814\n",
            "Epoch 33/100\n",
            "167/167 [==============================] - 1s 8ms/step - loss: 0.6239 - acc: 0.7821\n",
            "Epoch 34/100\n",
            "167/167 [==============================] - 1s 8ms/step - loss: 0.6190 - acc: 0.7825\n",
            "Epoch 35/100\n",
            "167/167 [==============================] - 1s 8ms/step - loss: 0.6143 - acc: 0.7829\n",
            "Epoch 36/100\n",
            "167/167 [==============================] - 1s 8ms/step - loss: 0.6097 - acc: 0.7840\n",
            "Epoch 37/100\n",
            "167/167 [==============================] - 1s 8ms/step - loss: 0.6053 - acc: 0.7846\n",
            "Epoch 38/100\n",
            "167/167 [==============================] - 1s 8ms/step - loss: 0.6010 - acc: 0.7856\n",
            "Epoch 39/100\n",
            "167/167 [==============================] - 1s 8ms/step - loss: 0.5968 - acc: 0.7859\n",
            "Epoch 40/100\n",
            "167/167 [==============================] - 1s 8ms/step - loss: 0.5928 - acc: 0.7867\n",
            "Epoch 41/100\n",
            "167/167 [==============================] - 1s 8ms/step - loss: 0.5888 - acc: 0.7875\n",
            "Epoch 42/100\n",
            "167/167 [==============================] - 1s 8ms/step - loss: 0.5850 - acc: 0.7889\n",
            "Epoch 43/100\n",
            "167/167 [==============================] - 1s 8ms/step - loss: 0.5813 - acc: 0.7902\n",
            "Epoch 44/100\n",
            "167/167 [==============================] - 1s 8ms/step - loss: 0.5776 - acc: 0.7915\n",
            "Epoch 45/100\n",
            "167/167 [==============================] - 1s 8ms/step - loss: 0.5741 - acc: 0.7923\n",
            "Epoch 46/100\n",
            "167/167 [==============================] - 1s 8ms/step - loss: 0.5707 - acc: 0.7935\n",
            "Epoch 47/100\n",
            "167/167 [==============================] - 1s 8ms/step - loss: 0.5673 - acc: 0.7955\n",
            "Epoch 48/100\n",
            "167/167 [==============================] - 1s 8ms/step - loss: 0.5640 - acc: 0.7972\n",
            "Epoch 49/100\n",
            "167/167 [==============================] - 1s 8ms/step - loss: 0.5608 - acc: 0.7988\n",
            "Epoch 50/100\n",
            "167/167 [==============================] - 1s 8ms/step - loss: 0.5577 - acc: 0.8003\n",
            "Epoch 51/100\n",
            "167/167 [==============================] - 1s 8ms/step - loss: 0.5547 - acc: 0.8017\n",
            "Epoch 52/100\n",
            "167/167 [==============================] - 1s 8ms/step - loss: 0.5517 - acc: 0.8029\n",
            "Epoch 53/100\n",
            "167/167 [==============================] - 1s 8ms/step - loss: 0.5488 - acc: 0.8041\n",
            "Epoch 54/100\n",
            "167/167 [==============================] - 1s 8ms/step - loss: 0.5459 - acc: 0.8057\n",
            "Epoch 55/100\n",
            "167/167 [==============================] - 1s 8ms/step - loss: 0.5431 - acc: 0.8070\n",
            "Epoch 56/100\n",
            "167/167 [==============================] - 1s 8ms/step - loss: 0.5404 - acc: 0.8083\n",
            "Epoch 57/100\n",
            "167/167 [==============================] - 1s 8ms/step - loss: 0.5377 - acc: 0.8092\n",
            "Epoch 58/100\n",
            "167/167 [==============================] - 1s 8ms/step - loss: 0.5351 - acc: 0.8106\n",
            "Epoch 59/100\n",
            "167/167 [==============================] - 1s 8ms/step - loss: 0.5326 - acc: 0.8122\n",
            "Epoch 60/100\n",
            "167/167 [==============================] - 1s 8ms/step - loss: 0.5300 - acc: 0.8141\n",
            "Epoch 61/100\n",
            "167/167 [==============================] - 1s 8ms/step - loss: 0.5276 - acc: 0.8151\n",
            "Epoch 62/100\n",
            "167/167 [==============================] - 1s 8ms/step - loss: 0.5252 - acc: 0.8158\n",
            "Epoch 63/100\n",
            "167/167 [==============================] - 1s 8ms/step - loss: 0.5228 - acc: 0.8170\n",
            "Epoch 64/100\n",
            "167/167 [==============================] - 1s 8ms/step - loss: 0.5205 - acc: 0.8181\n",
            "Epoch 65/100\n",
            "167/167 [==============================] - 1s 8ms/step - loss: 0.5182 - acc: 0.8189\n",
            "Epoch 66/100\n",
            "167/167 [==============================] - 1s 8ms/step - loss: 0.5160 - acc: 0.8200\n",
            "Epoch 67/100\n",
            "167/167 [==============================] - 1s 8ms/step - loss: 0.5138 - acc: 0.8207\n",
            "Epoch 68/100\n",
            "167/167 [==============================] - 1s 8ms/step - loss: 0.5116 - acc: 0.8219\n",
            "Epoch 69/100\n",
            "167/167 [==============================] - 1s 8ms/step - loss: 0.5095 - acc: 0.8223\n",
            "Epoch 70/100\n",
            "167/167 [==============================] - 1s 8ms/step - loss: 0.5074 - acc: 0.8229\n",
            "Epoch 71/100\n",
            "167/167 [==============================] - 1s 8ms/step - loss: 0.5054 - acc: 0.8236\n",
            "Epoch 72/100\n",
            "167/167 [==============================] - 1s 8ms/step - loss: 0.5034 - acc: 0.8248\n",
            "Epoch 73/100\n",
            "167/167 [==============================] - 1s 8ms/step - loss: 0.5014 - acc: 0.8260\n",
            "Epoch 74/100\n",
            "167/167 [==============================] - 1s 8ms/step - loss: 0.4994 - acc: 0.8269\n",
            "Epoch 75/100\n",
            "167/167 [==============================] - 1s 8ms/step - loss: 0.4975 - acc: 0.8282\n",
            "Epoch 76/100\n",
            "167/167 [==============================] - 1s 8ms/step - loss: 0.4957 - acc: 0.8288\n",
            "Epoch 77/100\n",
            "167/167 [==============================] - 1s 8ms/step - loss: 0.4938 - acc: 0.8297\n",
            "Epoch 78/100\n",
            "167/167 [==============================] - 1s 8ms/step - loss: 0.4920 - acc: 0.8309\n",
            "Epoch 79/100\n",
            "167/167 [==============================] - 1s 8ms/step - loss: 0.4902 - acc: 0.8314\n",
            "Epoch 80/100\n",
            "167/167 [==============================] - 1s 8ms/step - loss: 0.4885 - acc: 0.8320\n",
            "Epoch 81/100\n",
            "167/167 [==============================] - 1s 8ms/step - loss: 0.4867 - acc: 0.8327\n",
            "Epoch 82/100\n",
            "167/167 [==============================] - 1s 8ms/step - loss: 0.4850 - acc: 0.8337\n",
            "Epoch 83/100\n",
            "167/167 [==============================] - 1s 8ms/step - loss: 0.4833 - acc: 0.8350\n",
            "Epoch 84/100\n",
            "167/167 [==============================] - 1s 8ms/step - loss: 0.4817 - acc: 0.8355\n",
            "Epoch 85/100\n",
            "167/167 [==============================] - 1s 8ms/step - loss: 0.4801 - acc: 0.8361\n",
            "Epoch 86/100\n",
            "167/167 [==============================] - 1s 8ms/step - loss: 0.4785 - acc: 0.8367\n",
            "Epoch 87/100\n",
            "167/167 [==============================] - 2s 9ms/step - loss: 0.4769 - acc: 0.8375\n",
            "Epoch 88/100\n",
            "167/167 [==============================] - 1s 8ms/step - loss: 0.4753 - acc: 0.8381\n",
            "Epoch 89/100\n",
            "167/167 [==============================] - 1s 8ms/step - loss: 0.4738 - acc: 0.8386\n",
            "Epoch 90/100\n",
            "167/167 [==============================] - 1s 8ms/step - loss: 0.4723 - acc: 0.8398\n",
            "Epoch 91/100\n",
            "167/167 [==============================] - 1s 8ms/step - loss: 0.4708 - acc: 0.8407\n",
            "Epoch 92/100\n",
            "167/167 [==============================] - 1s 8ms/step - loss: 0.4693 - acc: 0.8411\n",
            "Epoch 93/100\n",
            "167/167 [==============================] - 1s 8ms/step - loss: 0.4679 - acc: 0.8412\n",
            "Epoch 94/100\n",
            "167/167 [==============================] - 1s 8ms/step - loss: 0.4665 - acc: 0.8419\n",
            "Epoch 95/100\n",
            "167/167 [==============================] - 1s 8ms/step - loss: 0.4651 - acc: 0.8424\n",
            "Epoch 96/100\n",
            "167/167 [==============================] - 1s 8ms/step - loss: 0.4637 - acc: 0.8427\n",
            "Epoch 97/100\n",
            "167/167 [==============================] - 1s 8ms/step - loss: 0.4623 - acc: 0.8437\n",
            "Epoch 98/100\n",
            "167/167 [==============================] - 1s 8ms/step - loss: 0.4610 - acc: 0.8443\n",
            "Epoch 99/100\n",
            "167/167 [==============================] - 1s 8ms/step - loss: 0.4596 - acc: 0.8450\n",
            "Epoch 100/100\n",
            "167/167 [==============================] - 1s 8ms/step - loss: 0.4583 - acc: 0.8458\n",
            "CPU times: user 2min 37s, sys: 45.5 s, total: 3min 22s\n",
            "Wall time: 3min 21s\n"
          ]
        },
        {
          "output_type": "execute_result",
          "data": {
            "text/plain": [
              "<keras.callbacks.History at 0x7fd0d047f610>"
            ]
          },
          "metadata": {},
          "execution_count": 7
        }
      ]
    },
    {
      "cell_type": "code",
      "metadata": {
        "id": "xWmR7sj-qZYh",
        "colab": {
          "base_uri": "https://localhost:8080/"
        },
        "outputId": "809f10e4-7a2a-426a-a219-9312f5857a22"
      },
      "source": [
        "model.evaluate(train_ds)"
      ],
      "execution_count": 8,
      "outputs": [
        {
          "output_type": "stream",
          "name": "stdout",
          "text": [
            "167/167 [==============================] - 2s 8ms/step - loss: 0.4576 - acc: 0.8460\n"
          ]
        },
        {
          "output_type": "execute_result",
          "data": {
            "text/plain": [
              "[0.4576301872730255, 0.8460314273834229]"
            ]
          },
          "metadata": {},
          "execution_count": 8
        }
      ]
    },
    {
      "cell_type": "code",
      "metadata": {
        "colab": {
          "base_uri": "https://localhost:8080/"
        },
        "id": "FlY_K5qwuyuE",
        "outputId": "7a95e544-01e5-404f-9c0e-cb8b9dbb83ed"
      },
      "source": [
        "model.evaluate(test_ds)"
      ],
      "execution_count": 9,
      "outputs": [
        {
          "output_type": "stream",
          "name": "stdout",
          "text": [
            "21/21 [==============================] - 0s 5ms/step - loss: 0.4579 - acc: 0.8488\n"
          ]
        },
        {
          "output_type": "execute_result",
          "data": {
            "text/plain": [
              "[0.4579184055328369, 0.848802387714386]"
            ]
          },
          "metadata": {},
          "execution_count": 9
        }
      ]
    },
    {
      "cell_type": "code",
      "metadata": {
        "id": "4P4ud60_vLqP"
      },
      "source": [
        ""
      ],
      "execution_count": 9,
      "outputs": []
    }
  ]
}