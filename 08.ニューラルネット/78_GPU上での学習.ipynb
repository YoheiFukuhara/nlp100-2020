{
  "nbformat": 4,
  "nbformat_minor": 0,
  "metadata": {
    "colab": {
      "name": "78.GPU上での学習.ipynb",
      "provenance": [],
      "collapsed_sections": [],
      "authorship_tag": "ABX9TyPpTGJpweqZxOwfhOgBw0/K",
      "include_colab_link": true
    },
    "kernelspec": {
      "name": "python3",
      "display_name": "Python 3"
    },
    "language_info": {
      "name": "python"
    },
    "accelerator": "GPU"
  },
  "cells": [
    {
      "cell_type": "markdown",
      "metadata": {
        "id": "view-in-github",
        "colab_type": "text"
      },
      "source": [
        "<a href=\"https://colab.research.google.com/github/YoheiFukuhara/nlp100-2020/blob/main/08.%E3%83%8B%E3%83%A5%E3%83%BC%E3%83%A9%E3%83%AB%E3%83%8D%E3%83%83%E3%83%88/78_GPU%E4%B8%8A%E3%81%A7%E3%81%AE%E5%AD%A6%E7%BF%92.ipynb\" target=\"_parent\"><img src=\"https://colab.research.google.com/assets/colab-badge.svg\" alt=\"Open In Colab\"/></a>"
      ]
    },
    {
      "cell_type": "markdown",
      "metadata": {
        "id": "MQMgBhJqZ6jQ"
      },
      "source": [
        "問題77のコードを改変し，GPU上で学習を実行せよ．"
      ]
    },
    {
      "cell_type": "code",
      "metadata": {
        "colab": {
          "base_uri": "https://localhost:8080/"
        },
        "id": "J0hID8-dZj-Z",
        "outputId": "c8d534ed-5521-4aa2-fa99-f2492d76ae9d"
      },
      "source": [
        "import tensorflow as tf\n",
        "from google.colab import drive\n",
        "\n",
        "drive.mount('/content/drive')\n",
        "LOG_DIR = './logs'\n",
        "\n",
        "# Check if GPU is available\n",
        "# https://www.tensorflow.org/guide/gpu?hl=ja\n",
        "tf.config.list_physical_devices('GPU')"
      ],
      "execution_count": null,
      "outputs": [
        {
          "output_type": "stream",
          "name": "stdout",
          "text": [
            "Mounted at /content/drive\n"
          ]
        },
        {
          "output_type": "execute_result",
          "data": {
            "text/plain": [
              "[PhysicalDevice(name='/physical_device:GPU:0', device_type='GPU')]"
            ]
          },
          "metadata": {},
          "execution_count": 1
        }
      ]
    },
    {
      "cell_type": "code",
      "metadata": {
        "id": "stY-dhEfCB3r"
      },
      "source": [
        "%load_ext tensorboard"
      ],
      "execution_count": null,
      "outputs": []
    },
    {
      "cell_type": "code",
      "metadata": {
        "id": "ZoS0vGHFaBm7",
        "colab": {
          "base_uri": "https://localhost:8080/"
        },
        "outputId": "4eef40da-6a47-4554-e2cc-2942473474e3"
      },
      "source": [
        "!python --version\n",
        "!pip show google tensorflow"
      ],
      "execution_count": null,
      "outputs": [
        {
          "output_type": "stream",
          "name": "stdout",
          "text": [
            "Python 3.7.12\n",
            "Name: google\n",
            "Version: 2.0.3\n",
            "Summary: Python bindings to the Google search engine.\n",
            "Home-page: http://breakingcode.wordpress.com/\n",
            "Author: Mario Vilas\n",
            "Author-email: mvilas@gmail.com\n",
            "License: UNKNOWN\n",
            "Location: /usr/local/lib/python3.7/dist-packages\n",
            "Requires: beautifulsoup4\n",
            "Required-by: \n",
            "---\n",
            "Name: tensorflow\n",
            "Version: 2.6.0\n",
            "Summary: TensorFlow is an open source machine learning framework for everyone.\n",
            "Home-page: https://www.tensorflow.org/\n",
            "Author: Google Inc.\n",
            "Author-email: packages@tensorflow.org\n",
            "License: Apache 2.0\n",
            "Location: /usr/local/lib/python3.7/dist-packages\n",
            "Requires: flatbuffers, opt-einsum, numpy, clang, keras, protobuf, wheel, wrapt, grpcio, typing-extensions, absl-py, tensorboard, termcolor, h5py, keras-preprocessing, tensorflow-estimator, six, astunparse, google-pasta, gast\n",
            "Required-by: kapre\n"
          ]
        }
      ]
    },
    {
      "cell_type": "code",
      "metadata": {
        "id": "TnyR6CLnaSHU"
      },
      "source": [
        "def _parse_function(example_proto):\n",
        "    # 特徴の記述\n",
        "    feature_description = {\n",
        "        'title': tf.io.FixedLenFeature([], tf.string),\n",
        "        'category': tf.io.FixedLenFeature([], tf.string)}\n",
        "  \n",
        "  # 上記の記述を使って入力の tf.Example を処理\n",
        "    features = tf.io.parse_single_example(example_proto, feature_description)\n",
        "    X = tf.io.decode_raw(features['title'], tf.float32)\n",
        "    y = tf.io.decode_raw(features['category'], tf.int32)\n",
        "    return X, y"
      ],
      "execution_count": null,
      "outputs": []
    },
    {
      "cell_type": "code",
      "metadata": {
        "id": "KLNySI5MaDP1"
      },
      "source": [
        "BASE_PATH = '/content/drive/MyDrive/ColabNotebooks/ML/NLP100_2020/08.NeuralNetworks/'\n",
        "\n",
        "def get_dataset(file_name):\n",
        "    ds_raw = tf.data.TFRecordDataset(BASE_PATH+file_name+'.tfrecord')\n",
        "\n",
        "    #shuffleはここを見て理解。データ件数取る方法がわからず、1000件に設定\n",
        "    #https://qiita.com/exy81/items/d1388f6f02a11c8f1d7e\n",
        "    return ds_raw.map(_parse_function).shuffle(1000).batch(32)"
      ],
      "execution_count": null,
      "outputs": []
    },
    {
      "cell_type": "code",
      "metadata": {
        "id": "E7pcO2Vsz7Ip"
      },
      "source": [
        "train_ds = get_dataset('train')\n",
        "valid_ds = get_dataset('valid')"
      ],
      "execution_count": null,
      "outputs": []
    },
    {
      "cell_type": "code",
      "metadata": {
        "colab": {
          "base_uri": "https://localhost:8080/"
        },
        "id": "G6vnyJlEca9E",
        "outputId": "bed7da33-7506-463a-cdb3-b3d603ecbef3"
      },
      "source": [
        "model = tf.keras.Sequential(\n",
        "    [tf.keras.layers.Dense(\n",
        "        4, activation='softmax', input_dim=300, use_bias=False, kernel_initializer='random_uniform') ])\n",
        "model.compile(loss='categorical_crossentropy', optimizer='sgd', metrics=['acc'])\n",
        "model.summary()"
      ],
      "execution_count": null,
      "outputs": [
        {
          "output_type": "stream",
          "name": "stdout",
          "text": [
            "Model: \"sequential\"\n",
            "_________________________________________________________________\n",
            "Layer (type)                 Output Shape              Param #   \n",
            "=================================================================\n",
            "dense (Dense)                (None, 4)                 1200      \n",
            "=================================================================\n",
            "Total params: 1,200\n",
            "Trainable params: 1,200\n",
            "Non-trainable params: 0\n",
            "_________________________________________________________________\n"
          ]
        }
      ]
    },
    {
      "cell_type": "code",
      "metadata": {
        "id": "4P4ud60_vLqP"
      },
      "source": [
        "%tensorboard --logdir $LOG_DIR"
      ],
      "execution_count": null,
      "outputs": []
    },
    {
      "cell_type": "code",
      "metadata": {
        "id": "9rBUK5wRaM8h"
      },
      "source": [
        "callbacks = []\n",
        "callbacks.append(tf.keras.callbacks.TensorBoard(log_dir=LOG_DIR))\n",
        "#callbacks.append(tf.keras.callbacks.ModelCheckpoint('./tmp/{epoch:02d}-{val_loss:.2f}'))"
      ],
      "execution_count": null,
      "outputs": []
    },
    {
      "cell_type": "code",
      "metadata": {
        "colab": {
          "base_uri": "https://localhost:8080/"
        },
        "id": "RvJ-3Aepnm9z",
        "outputId": "9ab24324-2d9d-4035-818e-08f978faa4db"
      },
      "source": [
        "%%time\n",
        "model.fit(train_ds, \n",
        "          epochs=30, \n",
        "          validation_data=valid_ds, \n",
        "          callbacks=callbacks)\n",
        "\n",
        "# GPU 30 epochs\n",
        "#CPU times: user 56.6 s, sys: 13.7 s, total: 1min 10s\n",
        "#Wall time: 1min 4s\n",
        "\n",
        "# CPU 30 epochs\n",
        "#CPU times: user 32.1 s, sys: 6.74 s, total: 38.8 s\n",
        "#Wall time: 35.6 s"
      ],
      "execution_count": null,
      "outputs": [
        {
          "output_type": "stream",
          "name": "stdout",
          "text": [
            "Epoch 1/30\n",
            "334/334 [==============================] - 7s 8ms/step - loss: 1.2569 - acc: 0.7012 - val_loss: 1.1444 - val_acc: 0.7769\n",
            "Epoch 2/30\n",
            "334/334 [==============================] - 2s 5ms/step - loss: 1.0722 - acc: 0.7788 - val_loss: 1.0114 - val_acc: 0.7859\n",
            "Epoch 3/30\n",
            "334/334 [==============================] - 2s 4ms/step - loss: 0.9680 - acc: 0.7785 - val_loss: 0.9292 - val_acc: 0.7859\n",
            "Epoch 4/30\n",
            "334/334 [==============================] - 2s 5ms/step - loss: 0.8996 - acc: 0.7781 - val_loss: 0.8721 - val_acc: 0.7852\n",
            "Epoch 5/30\n",
            "334/334 [==============================] - 2s 5ms/step - loss: 0.8502 - acc: 0.7785 - val_loss: 0.8294 - val_acc: 0.7859\n",
            "Epoch 6/30\n",
            "334/334 [==============================] - 2s 5ms/step - loss: 0.8120 - acc: 0.7780 - val_loss: 0.7955 - val_acc: 0.7867\n",
            "Epoch 7/30\n",
            "334/334 [==============================] - 2s 5ms/step - loss: 0.7811 - acc: 0.7785 - val_loss: 0.7676 - val_acc: 0.7859\n",
            "Epoch 8/30\n",
            "334/334 [==============================] - 2s 5ms/step - loss: 0.7552 - acc: 0.7788 - val_loss: 0.7440 - val_acc: 0.7859\n",
            "Epoch 9/30\n",
            "334/334 [==============================] - 2s 5ms/step - loss: 0.7329 - acc: 0.7789 - val_loss: 0.7235 - val_acc: 0.7859\n",
            "Epoch 10/30\n",
            "334/334 [==============================] - 2s 5ms/step - loss: 0.7134 - acc: 0.7795 - val_loss: 0.7055 - val_acc: 0.7867\n",
            "Epoch 11/30\n",
            "334/334 [==============================] - 2s 5ms/step - loss: 0.6962 - acc: 0.7798 - val_loss: 0.6894 - val_acc: 0.7867\n",
            "Epoch 12/30\n",
            "334/334 [==============================] - 2s 5ms/step - loss: 0.6806 - acc: 0.7798 - val_loss: 0.6749 - val_acc: 0.7874\n",
            "Epoch 13/30\n",
            "334/334 [==============================] - 2s 5ms/step - loss: 0.6666 - acc: 0.7798 - val_loss: 0.6618 - val_acc: 0.7874\n",
            "Epoch 14/30\n",
            "334/334 [==============================] - 2s 5ms/step - loss: 0.6537 - acc: 0.7800 - val_loss: 0.6497 - val_acc: 0.7882\n",
            "Epoch 15/30\n",
            "334/334 [==============================] - 2s 5ms/step - loss: 0.6419 - acc: 0.7808 - val_loss: 0.6386 - val_acc: 0.7874\n",
            "Epoch 16/30\n",
            "334/334 [==============================] - 2s 5ms/step - loss: 0.6310 - acc: 0.7814 - val_loss: 0.6283 - val_acc: 0.7874\n",
            "Epoch 17/30\n",
            "334/334 [==============================] - 2s 5ms/step - loss: 0.6208 - acc: 0.7819 - val_loss: 0.6188 - val_acc: 0.7889\n",
            "Epoch 18/30\n",
            "334/334 [==============================] - 2s 5ms/step - loss: 0.6113 - acc: 0.7832 - val_loss: 0.6098 - val_acc: 0.7904\n",
            "Epoch 19/30\n",
            "334/334 [==============================] - 2s 4ms/step - loss: 0.6025 - acc: 0.7852 - val_loss: 0.6015 - val_acc: 0.7919\n",
            "Epoch 20/30\n",
            "334/334 [==============================] - 2s 5ms/step - loss: 0.5941 - acc: 0.7867 - val_loss: 0.5936 - val_acc: 0.7934\n",
            "Epoch 21/30\n",
            "334/334 [==============================] - 2s 5ms/step - loss: 0.5862 - acc: 0.7892 - val_loss: 0.5861 - val_acc: 0.7949\n",
            "Epoch 22/30\n",
            "334/334 [==============================] - 2s 5ms/step - loss: 0.5788 - acc: 0.7907 - val_loss: 0.5791 - val_acc: 0.7972\n",
            "Epoch 23/30\n",
            "334/334 [==============================] - 2s 5ms/step - loss: 0.5717 - acc: 0.7927 - val_loss: 0.5724 - val_acc: 0.7979\n",
            "Epoch 24/30\n",
            "334/334 [==============================] - 2s 4ms/step - loss: 0.5650 - acc: 0.7956 - val_loss: 0.5661 - val_acc: 0.8009\n",
            "Epoch 25/30\n",
            "334/334 [==============================] - 2s 5ms/step - loss: 0.5586 - acc: 0.7990 - val_loss: 0.5601 - val_acc: 0.8024\n",
            "Epoch 26/30\n",
            "334/334 [==============================] - 2s 5ms/step - loss: 0.5525 - acc: 0.8018 - val_loss: 0.5543 - val_acc: 0.8046\n",
            "Epoch 27/30\n",
            "334/334 [==============================] - 2s 5ms/step - loss: 0.5467 - acc: 0.8045 - val_loss: 0.5488 - val_acc: 0.8061\n",
            "Epoch 28/30\n",
            "334/334 [==============================] - 2s 5ms/step - loss: 0.5411 - acc: 0.8069 - val_loss: 0.5436 - val_acc: 0.8099\n",
            "Epoch 29/30\n",
            "334/334 [==============================] - 2s 5ms/step - loss: 0.5358 - acc: 0.8104 - val_loss: 0.5385 - val_acc: 0.8114\n",
            "Epoch 30/30\n",
            "334/334 [==============================] - 2s 5ms/step - loss: 0.5306 - acc: 0.8123 - val_loss: 0.5337 - val_acc: 0.8136\n",
            "CPU times: user 56.1 s, sys: 14.1 s, total: 1min 10s\n",
            "Wall time: 1min 9s\n"
          ]
        },
        {
          "output_type": "execute_result",
          "data": {
            "text/plain": [
              "<keras.callbacks.History at 0x7fc345a6e750>"
            ]
          },
          "metadata": {},
          "execution_count": 10
        }
      ]
    },
    {
      "cell_type": "code",
      "metadata": {
        "id": "IZ5ZHt0DGTbw"
      },
      "source": [
        ""
      ],
      "execution_count": null,
      "outputs": []
    }
  ]
}