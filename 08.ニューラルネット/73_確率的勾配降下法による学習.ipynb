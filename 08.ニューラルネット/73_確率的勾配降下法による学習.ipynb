{
  "nbformat": 4,
  "nbformat_minor": 0,
  "metadata": {
    "colab": {
      "name": "73.確率的勾配降下法による学習.ipynb",
      "provenance": [],
      "collapsed_sections": [],
      "authorship_tag": "ABX9TyO3T1x+O85Xzhl0lckqXEzc",
      "include_colab_link": true
    },
    "kernelspec": {
      "name": "python3",
      "display_name": "Python 3"
    },
    "language_info": {
      "name": "python"
    },
    "accelerator": "GPU"
  },
  "cells": [
    {
      "cell_type": "markdown",
      "metadata": {
        "id": "view-in-github",
        "colab_type": "text"
      },
      "source": [
        "<a href=\"https://colab.research.google.com/github/YoheiFukuhara/nlp100-2020/blob/main/08.%E3%83%8B%E3%83%A5%E3%83%BC%E3%83%A9%E3%83%AB%E3%83%8D%E3%83%83%E3%83%88/73_%E7%A2%BA%E7%8E%87%E7%9A%84%E5%8B%BE%E9%85%8D%E9%99%8D%E4%B8%8B%E6%B3%95%E3%81%AB%E3%82%88%E3%82%8B%E5%AD%A6%E7%BF%92.ipynb\" target=\"_parent\"><img src=\"https://colab.research.google.com/assets/colab-badge.svg\" alt=\"Open In Colab\"/></a>"
      ]
    },
    {
      "cell_type": "markdown",
      "metadata": {
        "id": "MQMgBhJqZ6jQ"
      },
      "source": [
        "確率的勾配降下法（SGD: Stochastic Gradient Descent）を用いて，行列Wを学習せよ．なお，学習は適当な基準で終了させればよい（例えば「100エポックで終了」など）．"
      ]
    },
    {
      "cell_type": "code",
      "metadata": {
        "colab": {
          "base_uri": "https://localhost:8080/"
        },
        "id": "J0hID8-dZj-Z",
        "outputId": "2abfe980-d3bf-4926-de15-015dcbed54d1"
      },
      "source": [
        "import tensorflow as tf\n",
        "from google.colab import drive\n",
        "\n",
        "drive.mount('/content/drive')"
      ],
      "execution_count": 1,
      "outputs": [
        {
          "output_type": "stream",
          "name": "stdout",
          "text": [
            "Mounted at /content/drive\n"
          ]
        }
      ]
    },
    {
      "cell_type": "code",
      "metadata": {
        "id": "ZoS0vGHFaBm7",
        "colab": {
          "base_uri": "https://localhost:8080/"
        },
        "outputId": "004b68c9-147a-40b3-d415-a9ab57812c0b"
      },
      "source": [
        "!python --version\n",
        "!pip show google tensorflow"
      ],
      "execution_count": 2,
      "outputs": [
        {
          "output_type": "stream",
          "name": "stdout",
          "text": [
            "Python 3.7.12\n",
            "Name: google\n",
            "Version: 2.0.3\n",
            "Summary: Python bindings to the Google search engine.\n",
            "Home-page: http://breakingcode.wordpress.com/\n",
            "Author: Mario Vilas\n",
            "Author-email: mvilas@gmail.com\n",
            "License: UNKNOWN\n",
            "Location: /usr/local/lib/python3.7/dist-packages\n",
            "Requires: beautifulsoup4\n",
            "Required-by: \n",
            "---\n",
            "Name: tensorflow\n",
            "Version: 2.6.0\n",
            "Summary: TensorFlow is an open source machine learning framework for everyone.\n",
            "Home-page: https://www.tensorflow.org/\n",
            "Author: Google Inc.\n",
            "Author-email: packages@tensorflow.org\n",
            "License: Apache 2.0\n",
            "Location: /usr/local/lib/python3.7/dist-packages\n",
            "Requires: h5py, grpcio, google-pasta, six, gast, keras-preprocessing, protobuf, flatbuffers, wheel, numpy, opt-einsum, wrapt, clang, keras, tensorboard, termcolor, astunparse, absl-py, typing-extensions, tensorflow-estimator\n",
            "Required-by: kapre\n"
          ]
        }
      ]
    },
    {
      "cell_type": "code",
      "metadata": {
        "colab": {
          "base_uri": "https://localhost:8080/"
        },
        "id": "KLNySI5MaDP1",
        "outputId": "8dcd6b21-2ca5-4186-b06b-7c079902cae4"
      },
      "source": [
        "BASE_PATH = '/content/drive/MyDrive/ColabNotebooks/ML/NLP100_2020/08.NeuralNetworks/'\n",
        "train_raw = tf.data.TFRecordDataset(BASE_PATH+'train.tfrecord')\n",
        "print(train_raw)"
      ],
      "execution_count": 3,
      "outputs": [
        {
          "output_type": "stream",
          "name": "stdout",
          "text": [
            "<TFRecordDatasetV2 shapes: (), types: tf.string>\n"
          ]
        }
      ]
    },
    {
      "cell_type": "code",
      "metadata": {
        "id": "TnyR6CLnaSHU"
      },
      "source": [
        "def _parse_function(example_proto):\n",
        "    # 特徴の記述\n",
        "    feature_description = {\n",
        "        'title': tf.io.FixedLenFeature([], tf.string),\n",
        "        'category': tf.io.FixedLenFeature([], tf.string)}\n",
        "  \n",
        "  # 上記の記述を使って入力の tf.Example を処理\n",
        "    features = tf.io.parse_single_example(example_proto, feature_description)\n",
        "    X = tf.io.decode_raw(features['title'], tf.float32)\n",
        "    y = tf.io.decode_raw(features['category'], tf.int32)\n",
        "    return X, y"
      ],
      "execution_count": 4,
      "outputs": []
    },
    {
      "cell_type": "code",
      "metadata": {
        "colab": {
          "base_uri": "https://localhost:8080/"
        },
        "id": "G6vnyJlEca9E",
        "outputId": "5d04bc78-919d-44c4-88ed-1634e252bba1"
      },
      "source": [
        "model = tf.keras.Sequential(\n",
        "    [tf.keras.layers.Dense(\n",
        "        4, \n",
        "        activation='softmax', \n",
        "        use_bias=False,\n",
        "        input_dim=300, \n",
        "        kernel_initializer='random_uniform') ])\n",
        "model.compile(loss=\"categorical_crossentropy\", optimizer=\"sgd\")\n",
        "model.summary()"
      ],
      "execution_count": 5,
      "outputs": [
        {
          "output_type": "stream",
          "name": "stdout",
          "text": [
            "Model: \"sequential\"\n",
            "_________________________________________________________________\n",
            "Layer (type)                 Output Shape              Param #   \n",
            "=================================================================\n",
            "dense (Dense)                (None, 4)                 1200      \n",
            "=================================================================\n",
            "Total params: 1,200\n",
            "Trainable params: 1,200\n",
            "Non-trainable params: 0\n",
            "_________________________________________________________________\n"
          ]
        }
      ]
    },
    {
      "cell_type": "code",
      "metadata": {
        "colab": {
          "base_uri": "https://localhost:8080/"
        },
        "id": "zuU9sr5shv1w",
        "outputId": "3156737f-b9bc-4ed8-a428-3a8c15d04ee3"
      },
      "source": [
        "#shuffleはここを見て理解。データ件数取る方法がわからず、1000件に設定\n",
        "#https://qiita.com/exy81/items/d1388f6f02a11c8f1d7e\n",
        "train_ds = train_raw.map(_parse_function).shuffle(1000).batch(64)\n",
        "print(train_ds)"
      ],
      "execution_count": 6,
      "outputs": [
        {
          "output_type": "stream",
          "name": "stdout",
          "text": [
            "<BatchDataset shapes: ((None, None), (None, None)), types: (tf.float32, tf.int32)>\n"
          ]
        }
      ]
    },
    {
      "cell_type": "code",
      "metadata": {
        "colab": {
          "base_uri": "https://localhost:8080/"
        },
        "id": "RvJ-3Aepnm9z",
        "outputId": "fc4f0a91-2483-4744-fe6a-67703fd0420b"
      },
      "source": [
        "%%time\n",
        "model.fit(train_ds, epochs=100)"
      ],
      "execution_count": 7,
      "outputs": [
        {
          "output_type": "stream",
          "name": "stdout",
          "text": [
            "Epoch 1/100\n",
            "167/167 [==============================] - 5s 7ms/step - loss: 1.3136\n",
            "Epoch 2/100\n",
            "167/167 [==============================] - 1s 6ms/step - loss: 1.1896\n",
            "Epoch 3/100\n",
            "167/167 [==============================] - 1s 7ms/step - loss: 1.1021\n",
            "Epoch 4/100\n",
            "167/167 [==============================] - 1s 7ms/step - loss: 1.0372\n",
            "Epoch 5/100\n",
            "167/167 [==============================] - 1s 7ms/step - loss: 0.9868\n",
            "Epoch 6/100\n",
            "167/167 [==============================] - 1s 7ms/step - loss: 0.9463\n",
            "Epoch 7/100\n",
            "167/167 [==============================] - 1s 6ms/step - loss: 0.9129\n",
            "Epoch 8/100\n",
            "167/167 [==============================] - 1s 6ms/step - loss: 0.8846\n",
            "Epoch 9/100\n",
            "167/167 [==============================] - 1s 6ms/step - loss: 0.8603\n",
            "Epoch 10/100\n",
            "167/167 [==============================] - 1s 7ms/step - loss: 0.8390\n",
            "Epoch 11/100\n",
            "167/167 [==============================] - 1s 7ms/step - loss: 0.8201\n",
            "Epoch 12/100\n",
            "167/167 [==============================] - 1s 7ms/step - loss: 0.8032\n",
            "Epoch 13/100\n",
            "167/167 [==============================] - 1s 7ms/step - loss: 0.7879\n",
            "Epoch 14/100\n",
            "167/167 [==============================] - 1s 7ms/step - loss: 0.7739\n",
            "Epoch 15/100\n",
            "167/167 [==============================] - 1s 7ms/step - loss: 0.7610\n",
            "Epoch 16/100\n",
            "167/167 [==============================] - 1s 7ms/step - loss: 0.7491\n",
            "Epoch 17/100\n",
            "167/167 [==============================] - 1s 7ms/step - loss: 0.7381\n",
            "Epoch 18/100\n",
            "167/167 [==============================] - 1s 7ms/step - loss: 0.7278\n",
            "Epoch 19/100\n",
            "167/167 [==============================] - 1s 6ms/step - loss: 0.7181\n",
            "Epoch 20/100\n",
            "167/167 [==============================] - 1s 6ms/step - loss: 0.7090\n",
            "Epoch 21/100\n",
            "167/167 [==============================] - 1s 6ms/step - loss: 0.7004\n",
            "Epoch 22/100\n",
            "167/167 [==============================] - 1s 7ms/step - loss: 0.6922\n",
            "Epoch 23/100\n",
            "167/167 [==============================] - 1s 7ms/step - loss: 0.6845\n",
            "Epoch 24/100\n",
            "167/167 [==============================] - 1s 7ms/step - loss: 0.6771\n",
            "Epoch 25/100\n",
            "167/167 [==============================] - 1s 7ms/step - loss: 0.6701\n",
            "Epoch 26/100\n",
            "167/167 [==============================] - 1s 7ms/step - loss: 0.6634\n",
            "Epoch 27/100\n",
            "167/167 [==============================] - 1s 6ms/step - loss: 0.6570\n",
            "Epoch 28/100\n",
            "167/167 [==============================] - 1s 6ms/step - loss: 0.6509\n",
            "Epoch 29/100\n",
            "167/167 [==============================] - 1s 7ms/step - loss: 0.6450\n",
            "Epoch 30/100\n",
            "167/167 [==============================] - 1s 7ms/step - loss: 0.6394\n",
            "Epoch 31/100\n",
            "167/167 [==============================] - 1s 7ms/step - loss: 0.6339\n",
            "Epoch 32/100\n",
            "167/167 [==============================] - 1s 6ms/step - loss: 0.6287\n",
            "Epoch 33/100\n",
            "167/167 [==============================] - 1s 6ms/step - loss: 0.6236\n",
            "Epoch 34/100\n",
            "167/167 [==============================] - 1s 6ms/step - loss: 0.6187\n",
            "Epoch 35/100\n",
            "167/167 [==============================] - 1s 6ms/step - loss: 0.6140\n",
            "Epoch 36/100\n",
            "167/167 [==============================] - 1s 6ms/step - loss: 0.6094\n",
            "Epoch 37/100\n",
            "167/167 [==============================] - 1s 6ms/step - loss: 0.6050\n",
            "Epoch 38/100\n",
            "167/167 [==============================] - 1s 6ms/step - loss: 0.6007\n",
            "Epoch 39/100\n",
            "167/167 [==============================] - 1s 6ms/step - loss: 0.5965\n",
            "Epoch 40/100\n",
            "167/167 [==============================] - 1s 6ms/step - loss: 0.5924\n",
            "Epoch 41/100\n",
            "167/167 [==============================] - 1s 6ms/step - loss: 0.5885\n",
            "Epoch 42/100\n",
            "167/167 [==============================] - 1s 6ms/step - loss: 0.5847\n",
            "Epoch 43/100\n",
            "167/167 [==============================] - 1s 6ms/step - loss: 0.5810\n",
            "Epoch 44/100\n",
            "167/167 [==============================] - 1s 7ms/step - loss: 0.5773\n",
            "Epoch 45/100\n",
            "167/167 [==============================] - 1s 7ms/step - loss: 0.5738\n",
            "Epoch 46/100\n",
            "167/167 [==============================] - 1s 6ms/step - loss: 0.5704\n",
            "Epoch 47/100\n",
            "167/167 [==============================] - 1s 6ms/step - loss: 0.5670\n",
            "Epoch 48/100\n",
            "167/167 [==============================] - 1s 6ms/step - loss: 0.5637\n",
            "Epoch 49/100\n",
            "167/167 [==============================] - 1s 7ms/step - loss: 0.5606\n",
            "Epoch 50/100\n",
            "167/167 [==============================] - 1s 6ms/step - loss: 0.5574\n",
            "Epoch 51/100\n",
            "167/167 [==============================] - 1s 6ms/step - loss: 0.5544\n",
            "Epoch 52/100\n",
            "167/167 [==============================] - 1s 6ms/step - loss: 0.5514\n",
            "Epoch 53/100\n",
            "167/167 [==============================] - 1s 6ms/step - loss: 0.5485\n",
            "Epoch 54/100\n",
            "167/167 [==============================] - 1s 7ms/step - loss: 0.5457\n",
            "Epoch 55/100\n",
            "167/167 [==============================] - 1s 6ms/step - loss: 0.5429\n",
            "Epoch 56/100\n",
            "167/167 [==============================] - 1s 6ms/step - loss: 0.5401\n",
            "Epoch 57/100\n",
            "167/167 [==============================] - 1s 6ms/step - loss: 0.5375\n",
            "Epoch 58/100\n",
            "167/167 [==============================] - 1s 6ms/step - loss: 0.5349\n",
            "Epoch 59/100\n",
            "167/167 [==============================] - 1s 7ms/step - loss: 0.5323\n",
            "Epoch 60/100\n",
            "167/167 [==============================] - 1s 7ms/step - loss: 0.5298\n",
            "Epoch 61/100\n",
            "167/167 [==============================] - 1s 7ms/step - loss: 0.5273\n",
            "Epoch 62/100\n",
            "167/167 [==============================] - 1s 7ms/step - loss: 0.5249\n",
            "Epoch 63/100\n",
            "167/167 [==============================] - 1s 6ms/step - loss: 0.5226\n",
            "Epoch 64/100\n",
            "167/167 [==============================] - 1s 7ms/step - loss: 0.5202\n",
            "Epoch 65/100\n",
            "167/167 [==============================] - 1s 7ms/step - loss: 0.5180\n",
            "Epoch 66/100\n",
            "167/167 [==============================] - 1s 6ms/step - loss: 0.5157\n",
            "Epoch 67/100\n",
            "167/167 [==============================] - 1s 6ms/step - loss: 0.5135\n",
            "Epoch 68/100\n",
            "167/167 [==============================] - 1s 6ms/step - loss: 0.5114\n",
            "Epoch 69/100\n",
            "167/167 [==============================] - 1s 7ms/step - loss: 0.5093\n",
            "Epoch 70/100\n",
            "167/167 [==============================] - 1s 7ms/step - loss: 0.5072\n",
            "Epoch 71/100\n",
            "167/167 [==============================] - 1s 7ms/step - loss: 0.5052\n",
            "Epoch 72/100\n",
            "167/167 [==============================] - 1s 6ms/step - loss: 0.5032\n",
            "Epoch 73/100\n",
            "167/167 [==============================] - 1s 6ms/step - loss: 0.5012\n",
            "Epoch 74/100\n",
            "167/167 [==============================] - 1s 7ms/step - loss: 0.4992\n",
            "Epoch 75/100\n",
            "167/167 [==============================] - 1s 7ms/step - loss: 0.4973\n",
            "Epoch 76/100\n",
            "167/167 [==============================] - 1s 7ms/step - loss: 0.4955\n",
            "Epoch 77/100\n",
            "167/167 [==============================] - 1s 7ms/step - loss: 0.4936\n",
            "Epoch 78/100\n",
            "167/167 [==============================] - 1s 7ms/step - loss: 0.4918\n",
            "Epoch 79/100\n",
            "167/167 [==============================] - 1s 7ms/step - loss: 0.4900\n",
            "Epoch 80/100\n",
            "167/167 [==============================] - 1s 6ms/step - loss: 0.4883\n",
            "Epoch 81/100\n",
            "167/167 [==============================] - 1s 7ms/step - loss: 0.4865\n",
            "Epoch 82/100\n",
            "167/167 [==============================] - 1s 7ms/step - loss: 0.4848\n",
            "Epoch 83/100\n",
            "167/167 [==============================] - 1s 6ms/step - loss: 0.4832\n",
            "Epoch 84/100\n",
            "167/167 [==============================] - 1s 6ms/step - loss: 0.4815\n",
            "Epoch 85/100\n",
            "167/167 [==============================] - 1s 7ms/step - loss: 0.4799\n",
            "Epoch 86/100\n",
            "167/167 [==============================] - 1s 7ms/step - loss: 0.4783\n",
            "Epoch 87/100\n",
            "167/167 [==============================] - 1s 7ms/step - loss: 0.4767\n",
            "Epoch 88/100\n",
            "167/167 [==============================] - 1s 7ms/step - loss: 0.4752\n",
            "Epoch 89/100\n",
            "167/167 [==============================] - 1s 7ms/step - loss: 0.4736\n",
            "Epoch 90/100\n",
            "167/167 [==============================] - 1s 7ms/step - loss: 0.4721\n",
            "Epoch 91/100\n",
            "167/167 [==============================] - 1s 7ms/step - loss: 0.4706\n",
            "Epoch 92/100\n",
            "167/167 [==============================] - 1s 7ms/step - loss: 0.4692\n",
            "Epoch 93/100\n",
            "167/167 [==============================] - 1s 7ms/step - loss: 0.4677\n",
            "Epoch 94/100\n",
            "167/167 [==============================] - 1s 7ms/step - loss: 0.4663\n",
            "Epoch 95/100\n",
            "167/167 [==============================] - 1s 7ms/step - loss: 0.4649\n",
            "Epoch 96/100\n",
            "167/167 [==============================] - 1s 7ms/step - loss: 0.4635\n",
            "Epoch 97/100\n",
            "167/167 [==============================] - 1s 7ms/step - loss: 0.4622\n",
            "Epoch 98/100\n",
            "167/167 [==============================] - 1s 7ms/step - loss: 0.4608\n",
            "Epoch 99/100\n",
            "167/167 [==============================] - 1s 7ms/step - loss: 0.4595\n",
            "Epoch 100/100\n",
            "167/167 [==============================] - 1s 7ms/step - loss: 0.4582\n",
            "CPU times: user 2min 12s, sys: 42.5 s, total: 2min 55s\n",
            "Wall time: 2min 13s\n"
          ]
        },
        {
          "output_type": "execute_result",
          "data": {
            "text/plain": [
              "<keras.callbacks.History at 0x7f591e8704d0>"
            ]
          },
          "metadata": {},
          "execution_count": 7
        }
      ]
    },
    {
      "cell_type": "code",
      "metadata": {
        "id": "xWmR7sj-qZYh"
      },
      "source": [
        ""
      ],
      "execution_count": null,
      "outputs": []
    }
  ]
}