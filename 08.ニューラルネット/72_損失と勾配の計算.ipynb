{
  "nbformat": 4,
  "nbformat_minor": 0,
  "metadata": {
    "colab": {
      "name": "72.損失と勾配の計算.ipynb",
      "provenance": [],
      "collapsed_sections": [],
      "authorship_tag": "ABX9TyM9rSKEX3JDlpaH5nDnITbF",
      "include_colab_link": true
    },
    "kernelspec": {
      "name": "python3",
      "display_name": "Python 3"
    },
    "language_info": {
      "name": "python"
    }
  },
  "cells": [
    {
      "cell_type": "markdown",
      "metadata": {
        "id": "view-in-github",
        "colab_type": "text"
      },
      "source": [
        "<a href=\"https://colab.research.google.com/github/YoheiFukuhara/nlp100-2020/blob/main/08.%E3%83%8B%E3%83%A5%E3%83%BC%E3%83%A9%E3%83%AB%E3%83%8D%E3%83%83%E3%83%88/72_%E6%90%8D%E5%A4%B1%E3%81%A8%E5%8B%BE%E9%85%8D%E3%81%AE%E8%A8%88%E7%AE%97.ipynb\" target=\"_parent\"><img src=\"https://colab.research.google.com/assets/colab-badge.svg\" alt=\"Open In Colab\"/></a>"
      ]
    },
    {
      "cell_type": "markdown",
      "metadata": {
        "id": "MQMgBhJqZ6jQ"
      },
      "source": [
        "学習データの事例$x_1$と事例集合$x_1, x_2, x_3, x_4$に対して，クロスエントロピー損失と，行列$W$に対する勾配を計算せよ．なお，ある事例$x_i$に対して損失は次式で計算される．\n",
        "\n",
        "$$\n",
        "l_i = - \\log [\\mbox{事例}x_i\\mbox{が}y_i\\mbox{に分類される確率}]\n",
        "$$\n",
        "ただし，事例集合に対するクロスエントロピー損失は，その集合に含まれる各事例の損失の平均とする．"
      ]
    },
    {
      "cell_type": "code",
      "metadata": {
        "colab": {
          "base_uri": "https://localhost:8080/"
        },
        "id": "J0hID8-dZj-Z",
        "outputId": "3a35a0a9-a8ff-4156-ec6f-1585f0ebcbee"
      },
      "source": [
        "import tensorflow as tf\n",
        "from google.colab import drive\n",
        "\n",
        "drive.mount('/content/drive')"
      ],
      "execution_count": 1,
      "outputs": [
        {
          "output_type": "stream",
          "name": "stdout",
          "text": [
            "Mounted at /content/drive\n"
          ]
        }
      ]
    },
    {
      "cell_type": "code",
      "metadata": {
        "id": "ZoS0vGHFaBm7",
        "colab": {
          "base_uri": "https://localhost:8080/"
        },
        "outputId": "33298134-7b70-4347-c5a5-408f83ee1f43"
      },
      "source": [
        "!python --version\n",
        "!pip show google tensorflow"
      ],
      "execution_count": 2,
      "outputs": [
        {
          "output_type": "stream",
          "name": "stdout",
          "text": [
            "Python 3.7.12\n",
            "Name: google\n",
            "Version: 2.0.3\n",
            "Summary: Python bindings to the Google search engine.\n",
            "Home-page: http://breakingcode.wordpress.com/\n",
            "Author: Mario Vilas\n",
            "Author-email: mvilas@gmail.com\n",
            "License: UNKNOWN\n",
            "Location: /usr/local/lib/python3.7/dist-packages\n",
            "Requires: beautifulsoup4\n",
            "Required-by: \n",
            "---\n",
            "Name: tensorflow\n",
            "Version: 2.6.0\n",
            "Summary: TensorFlow is an open source machine learning framework for everyone.\n",
            "Home-page: https://www.tensorflow.org/\n",
            "Author: Google Inc.\n",
            "Author-email: packages@tensorflow.org\n",
            "License: Apache 2.0\n",
            "Location: /usr/local/lib/python3.7/dist-packages\n",
            "Requires: astunparse, gast, google-pasta, wheel, h5py, keras-preprocessing, absl-py, flatbuffers, wrapt, termcolor, numpy, typing-extensions, keras, clang, opt-einsum, grpcio, protobuf, tensorboard, six, tensorflow-estimator\n",
            "Required-by: kapre\n"
          ]
        }
      ]
    },
    {
      "cell_type": "code",
      "metadata": {
        "colab": {
          "base_uri": "https://localhost:8080/"
        },
        "id": "KLNySI5MaDP1",
        "outputId": "a3efeb28-c4a7-488c-eb95-c6dfd7d532de"
      },
      "source": [
        "BASE_PATH = '/content/drive/MyDrive/ColabNotebooks/ML/NLP100_2020/08.NeuralNetworks/'\n",
        "train_raw = tf.data.TFRecordDataset(BASE_PATH+'train.tfrecord')\n",
        "print(train_raw)"
      ],
      "execution_count": 3,
      "outputs": [
        {
          "output_type": "stream",
          "name": "stdout",
          "text": [
            "<TFRecordDatasetV2 shapes: (), types: tf.string>\n"
          ]
        }
      ]
    },
    {
      "cell_type": "code",
      "metadata": {
        "id": "TnyR6CLnaSHU"
      },
      "source": [
        "def _parse_function(example_proto):\n",
        "    # 特徴の記述\n",
        "    feature_description = {\n",
        "        'title': tf.io.FixedLenFeature([], tf.string),\n",
        "        'category': tf.io.FixedLenFeature([], tf.string)}\n",
        "  \n",
        "  # 上記の記述を使って入力の tf.Example を処理\n",
        "    features = tf.io.parse_single_example(example_proto, feature_description)\n",
        "    X = tf.io.decode_raw(features['title'], tf.float32)\n",
        "    y = tf.io.decode_raw(features['category'], tf.int32)\n",
        "    return X, y"
      ],
      "execution_count": 4,
      "outputs": []
    },
    {
      "cell_type": "code",
      "metadata": {
        "id": "5iv3RnIZmSeq"
      },
      "source": [
        "dense_layer = tf.keras.layers.Dense(4, activation='softmax', input_dim=300, kernel_initializer='random_uniform')\n",
        "\n",
        "def print_loss_gradients(batch_size):\n",
        "    for X, y_true in train_raw.map(_parse_function).batch(batch_size).take(1):\n",
        "\n",
        "        print('---y_true---')\n",
        "        print(y_true.numpy())\n",
        "\n",
        "        with tf.GradientTape() as tape:\n",
        "            y_pred = dense_layer(X)\n",
        "            print('---y_pred---')\n",
        "            print(y_pred.numpy())\n",
        "            loss = tf.keras.losses.categorical_crossentropy(y_true, y_pred)\n",
        "            print('---loss---')\n",
        "            print(tf.math.reduce_sum((loss.numpy()/batch_size)).numpy())\n",
        "\n",
        "        grad = tape.gradient(loss, dense_layer.trainable_variables)\n",
        "        for var, g in zip(dense_layer.trainable_variables, grad):\n",
        "            print(f'{var.name}, shape: {g.shape}')\n",
        "            print(g.numpy())"
      ],
      "execution_count": 5,
      "outputs": []
    },
    {
      "cell_type": "code",
      "metadata": {
        "colab": {
          "base_uri": "https://localhost:8080/"
        },
        "id": "Uu8Nf96-an2F",
        "outputId": "d1f7b607-5e61-461f-9f58-437fab6c1ae6"
      },
      "source": [
        "print_loss_gradients(1)"
      ],
      "execution_count": 6,
      "outputs": [
        {
          "output_type": "stream",
          "name": "stdout",
          "text": [
            "---y_true---\n",
            "[[1 0 0 0]]\n",
            "---y_pred---\n",
            "[[0.24977544 0.23702973 0.2536065  0.25958833]]\n",
            "---loss---\n",
            "1.3871931\n",
            "dense/kernel:0, shape: (300, 4)\n",
            "[[-0.0627641   0.01983001  0.02121682  0.02171727]\n",
            " [-0.00422678  0.00133543  0.00142882  0.00146252]\n",
            " [-0.00511264  0.00161531  0.00172828  0.00176905]\n",
            " ...\n",
            " [-0.05636054  0.01780683  0.01905216  0.01950154]\n",
            " [-0.03248982  0.010265    0.01098288  0.01124194]\n",
            " [ 0.06511701 -0.02057339 -0.0220122  -0.02253141]]\n",
            "dense/bias:0, shape: (4,)\n",
            "[-0.7502246   0.23702973  0.2536065   0.25958833]\n"
          ]
        }
      ]
    },
    {
      "cell_type": "code",
      "metadata": {
        "colab": {
          "base_uri": "https://localhost:8080/"
        },
        "id": "RxVVId_4d8U8",
        "outputId": "b83f0631-8c72-41e3-8e8d-d3631bed717f"
      },
      "source": [
        "print_loss_gradients(4)"
      ],
      "execution_count": 7,
      "outputs": [
        {
          "output_type": "stream",
          "name": "stdout",
          "text": [
            "---y_true---\n",
            "[[1 0 0 0]\n",
            " [0 1 0 0]\n",
            " [0 0 0 1]\n",
            " [0 0 1 0]]\n",
            "---y_pred---\n",
            "[[0.24977544 0.23702973 0.25360653 0.25958833]\n",
            " [0.2663253  0.23270282 0.24324742 0.2577245 ]\n",
            " [0.27293497 0.24227263 0.24034856 0.24444385]\n",
            " [0.25339198 0.24738249 0.25204796 0.24717763]]\n",
            "---loss---\n",
            "1.408023\n",
            "dense/kernel:0, shape: (300, 4)\n",
            "[[-0.05385786 -0.00080359  0.08323769 -0.02857625]\n",
            " [ 0.01108076 -0.01061149 -0.03302402  0.03255475]\n",
            " [-0.035903    0.07073843 -0.08642166  0.05158622]\n",
            " ...\n",
            " [-0.09915905  0.08452739 -0.00631778  0.02094944]\n",
            " [-0.00209951  0.08721732 -0.00053291 -0.08458491]\n",
            " [ 0.08135682  0.00262913  0.01224182 -0.09622776]]\n",
            "dense/bias:0, shape: (4,)\n",
            "[ 0.04242766 -0.04061237 -0.01074964  0.00893429]\n"
          ]
        }
      ]
    },
    {
      "cell_type": "code",
      "metadata": {
        "id": "fZoq7bCOVcQN"
      },
      "source": [
        ""
      ],
      "execution_count": null,
      "outputs": []
    }
  ]
}