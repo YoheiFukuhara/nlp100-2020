{
  "nbformat": 4,
  "nbformat_minor": 0,
  "metadata": {
    "colab": {
      "name": "50.データの入手・整形.ipynb",
      "provenance": [],
      "collapsed_sections": [],
      "toc_visible": true,
      "authorship_tag": "ABX9TyMVtu11EdMelCmulU5NvR4A",
      "include_colab_link": true
    },
    "kernelspec": {
      "name": "python3",
      "display_name": "Python 3"
    },
    "language_info": {
      "name": "python"
    }
  },
  "cells": [
    {
      "cell_type": "markdown",
      "metadata": {
        "id": "view-in-github",
        "colab_type": "text"
      },
      "source": [
        "<a href=\"https://colab.research.google.com/github/YoheiFukuhara/nlp100-2020/blob/main/06.%E6%A9%9F%E6%A2%B0%E5%AD%A6%E7%BF%92/50_%E3%83%87%E3%83%BC%E3%82%BF%E3%81%AE%E5%85%A5%E6%89%8B%E3%83%BB%E6%95%B4%E5%BD%A2.ipynb\" target=\"_parent\"><img src=\"https://colab.research.google.com/assets/colab-badge.svg\" alt=\"Open In Colab\"/></a>"
      ]
    },
    {
      "cell_type": "markdown",
      "metadata": {
        "id": "iQQNyXPcjeya"
      },
      "source": [
        "[News Aggregator Data Set](https://archive.ics.uci.edu/ml/datasets/News+Aggregator)をダウンロードし、以下の要領で学習データ（train.txt），検証データ（valid.txt），評価データ（test.txt）を作成せよ．\n",
        "\n",
        "1. ダウンロードしたzipファイルを解凍し，readme.txtの説明を読む．\n",
        "1. 情報源（publisher）が”Reuters”, “Huffington Post”, “Businessweek”, “Contactmusic.com”, “Daily Mail”の事例（記事）のみを抽出する．\n",
        "1. 抽出された事例をランダムに並び替える．\n",
        "1. 抽出された事例の80%を学習データ，残りの10%ずつを検証データと評価データに分割し，それぞれtrain.txt，valid.txt，test.txtというファイル名で保存する．ファイルには，１行に１事例を書き出すこととし，カテゴリ名と記事見出しのタブ区切り形式とせよ（このファイルは後に問題70で再利用する）．\n",
        "\n",
        "学習データと評価データを作成したら，各カテゴリの事例数を確認せよ．"
      ]
    },
    {
      "cell_type": "code",
      "metadata": {
        "id": "buzMZza4jIfO",
        "colab": {
          "base_uri": "https://localhost:8080/"
        },
        "outputId": "1dbb7efa-bc4f-4413-9f0f-76c4a18d1dae"
      },
      "source": [
        "from google.colab import drive\n",
        "import pandas as pd\n",
        "from sklearn.model_selection import train_test_split\n",
        "\n",
        "drive.mount('/content/drive')"
      ],
      "execution_count": 1,
      "outputs": [
        {
          "output_type": "stream",
          "text": [
            "Drive already mounted at /content/drive; to attempt to forcibly remount, call drive.mount(\"/content/drive\", force_remount=True).\n"
          ],
          "name": "stdout"
        }
      ]
    },
    {
      "cell_type": "code",
      "metadata": {
        "colab": {
          "base_uri": "https://localhost:8080/"
        },
        "id": "HpyVd-hgq_vf",
        "outputId": "b2f275ab-7aa2-4b02-874c-063c87aabcaf"
      },
      "source": [
        "!python --version\n",
        "!pip show google pandas scikit-learn"
      ],
      "execution_count": 2,
      "outputs": [
        {
          "output_type": "stream",
          "text": [
            "Python 3.7.11\n",
            "Name: google\n",
            "Version: 2.0.3\n",
            "Summary: Python bindings to the Google search engine.\n",
            "Home-page: http://breakingcode.wordpress.com/\n",
            "Author: Mario Vilas\n",
            "Author-email: mvilas@gmail.com\n",
            "License: UNKNOWN\n",
            "Location: /usr/local/lib/python3.7/dist-packages\n",
            "Requires: beautifulsoup4\n",
            "Required-by: \n",
            "---\n",
            "Name: pandas\n",
            "Version: 1.1.5\n",
            "Summary: Powerful data structures for data analysis, time series, and statistics\n",
            "Home-page: https://pandas.pydata.org\n",
            "Author: None\n",
            "Author-email: None\n",
            "License: BSD\n",
            "Location: /usr/local/lib/python3.7/dist-packages\n",
            "Requires: python-dateutil, pytz, numpy\n",
            "Required-by: xarray, vega-datasets, statsmodels, sklearn-pandas, seaborn, pymc3, plotnine, pandas-profiling, pandas-gbq, pandas-datareader, mlxtend, mizani, holoviews, gspread-dataframe, google-colab, fix-yahoo-finance, fbprophet, fastai, cufflinks, cmdstanpy, arviz, altair\n",
            "---\n",
            "Name: scikit-learn\n",
            "Version: 0.22.2.post1\n",
            "Summary: A set of python modules for machine learning and data mining\n",
            "Home-page: http://scikit-learn.org\n",
            "Author: None\n",
            "Author-email: None\n",
            "License: new BSD\n",
            "Location: /usr/local/lib/python3.7/dist-packages\n",
            "Requires: scipy, numpy, joblib\n",
            "Required-by: yellowbrick, sklearn, sklearn-pandas, mlxtend, lightgbm, librosa, imbalanced-learn\n"
          ],
          "name": "stdout"
        }
      ]
    },
    {
      "cell_type": "code",
      "metadata": {
        "id": "9MhILBFlosqo"
      },
      "source": [
        "BASE_PATH = '/content/drive/MyDrive/ColabNotebooks/ML/NLP100_2020/06.MachineLearning'"
      ],
      "execution_count": 3,
      "outputs": []
    },
    {
      "cell_type": "code",
      "metadata": {
        "id": "Y-rjE9xihJ6p"
      },
      "source": [
        "# quotingをデフォルトの0にすると、ダブルコーテーションがTITLEの文字列先頭にあったときに、変な分割をしてしまう\n",
        "df = pd.read_csv(BASE_PATH + '/input/newsCorpora.csv', \n",
        "                 header=None, sep='\\t', usecols=[0, 1, 3, 4], index_col=0, \n",
        "                 names=['id', 'title', 'publisher', 'category'], quoting=3)"
      ],
      "execution_count": 4,
      "outputs": []
    },
    {
      "cell_type": "code",
      "metadata": {
        "colab": {
          "base_uri": "https://localhost:8080/"
        },
        "id": "6BQOo3LPhRwj",
        "outputId": "f4affbab-1ecb-4c9a-83f1-edbc10829dae"
      },
      "source": [
        "df.info()"
      ],
      "execution_count": 5,
      "outputs": [
        {
          "output_type": "stream",
          "text": [
            "<class 'pandas.core.frame.DataFrame'>\n",
            "Int64Index: 422937 entries, 1 to 422937\n",
            "Data columns (total 3 columns):\n",
            " #   Column     Non-Null Count   Dtype \n",
            "---  ------     --------------   ----- \n",
            " 0   title      422937 non-null  object\n",
            " 1   publisher  422935 non-null  object\n",
            " 2   category   422937 non-null  object\n",
            "dtypes: object(3)\n",
            "memory usage: 12.9+ MB\n"
          ],
          "name": "stdout"
        }
      ]
    },
    {
      "cell_type": "code",
      "metadata": {
        "colab": {
          "base_uri": "https://localhost:8080/"
        },
        "id": "QqsdgIE7hTfW",
        "outputId": "d341a57d-2850-4e54-8489-c0276379ce7f"
      },
      "source": [
        "print(df)"
      ],
      "execution_count": 6,
      "outputs": [
        {
          "output_type": "stream",
          "text": [
            "                                                    title  ... category\n",
            "id                                                         ...         \n",
            "1       Fed official says weak data caused by weather,...  ...        b\n",
            "2       Fed's Charles Plosser sees high bar for change...  ...        b\n",
            "3       US open: Stocks fall after Fed official hints ...  ...        b\n",
            "4       Fed risks falling 'behind the curve', Charles ...  ...        b\n",
            "5       Fed's Plosser: Nasty Weather Has Curbed Job Gr...  ...        b\n",
            "...                                                   ...  ...      ...\n",
            "422933  Surgeons to remove 4-year-old's rib to rebuild...  ...        m\n",
            "422934  Boy to have surgery on esophagus after battery...  ...        m\n",
            "422935  Child who swallowed battery to have reconstruc...  ...        m\n",
            "422936  Phoenix boy undergoes surgery to repair throat...  ...        m\n",
            "422937  Phoenix boy undergoes surgery to repair throat...  ...        m\n",
            "\n",
            "[422937 rows x 3 columns]\n"
          ],
          "name": "stdout"
        }
      ]
    },
    {
      "cell_type": "code",
      "metadata": {
        "colab": {
          "base_uri": "https://localhost:8080/"
        },
        "id": "0_nJAQby1wdg",
        "outputId": "527f4326-5495-4316-c790-3e9984eecd63"
      },
      "source": [
        "df['publisher'].value_counts()"
      ],
      "execution_count": 7,
      "outputs": [
        {
          "output_type": "execute_result",
          "data": {
            "text/plain": [
              "Reuters                             3904\n",
              "Huffington Post                     2458\n",
              "Businessweek                        2395\n",
              "Contactmusic.com                    2339\n",
              "Daily Mail                          2260\n",
              "                                    ... \n",
              "Bayonet                                1\n",
              "Commando                               1\n",
              "Banner News \\(subscription\\)           1\n",
              "Vanguard Online \\(subscription\\)       1\n",
              "Virginia Connection Newspapers         1\n",
              "Name: publisher, Length: 10992, dtype: int64"
            ]
          },
          "metadata": {},
          "execution_count": 7
        }
      ]
    },
    {
      "cell_type": "code",
      "metadata": {
        "id": "lnS8NGm0hUbm"
      },
      "source": [
        "df = df.loc[df['publisher'].isin(['Reuters', 'Huffington Post', 'Businessweek', 'Contactmusic.com', 'Daily Mail']), ['title', 'category']]"
      ],
      "execution_count": 8,
      "outputs": []
    },
    {
      "cell_type": "code",
      "metadata": {
        "colab": {
          "base_uri": "https://localhost:8080/"
        },
        "id": "dIZM1vS9s7HX",
        "outputId": "873b4aeb-6fb5-485d-b018-ad99737601fe"
      },
      "source": [
        "df.info()"
      ],
      "execution_count": 9,
      "outputs": [
        {
          "output_type": "stream",
          "text": [
            "<class 'pandas.core.frame.DataFrame'>\n",
            "Int64Index: 13356 entries, 13 to 422838\n",
            "Data columns (total 2 columns):\n",
            " #   Column    Non-Null Count  Dtype \n",
            "---  ------    --------------  ----- \n",
            " 0   title     13356 non-null  object\n",
            " 1   category  13356 non-null  object\n",
            "dtypes: object(2)\n",
            "memory usage: 313.0+ KB\n"
          ],
          "name": "stdout"
        }
      ]
    },
    {
      "cell_type": "code",
      "metadata": {
        "id": "ALvlY1lSs8Tp"
      },
      "source": [
        "train, valid_test = train_test_split(df, test_size=0.2, random_state=123, stratify=df['category'])\n",
        "valid, test = train_test_split(valid_test, test_size=0.5, random_state=123, stratify=valid_test['category'])"
      ],
      "execution_count": 10,
      "outputs": []
    },
    {
      "cell_type": "code",
      "metadata": {
        "id": "yzaxNyNuoJOI"
      },
      "source": [
        "# データの保存\n",
        "train.to_csv(BASE_PATH + '/train.txt', sep='\\t', index=False)\n",
        "valid.to_csv(BASE_PATH + '/valid.txt', sep='\\t', index=False)\n",
        "test.to_csv(BASE_PATH + '/test.txt', sep='\\t', index=False)"
      ],
      "execution_count": 11,
      "outputs": []
    },
    {
      "cell_type": "code",
      "metadata": {
        "colab": {
          "base_uri": "https://localhost:8080/"
        },
        "id": "En-RKalkpXeL",
        "outputId": "e45dfdac-23a1-4efa-ed9f-36d2b9edd2e5"
      },
      "source": [
        "# 事例数の確認\n",
        "print('--total--')\n",
        "print(df['category'].value_counts())\n",
        "print('--train--')\n",
        "print(train['category'].value_counts())\n",
        "print('--valid--')\n",
        "print(valid['category'].value_counts())\n",
        "print('--test--')\n",
        "print(test['category'].value_counts())"
      ],
      "execution_count": 12,
      "outputs": [
        {
          "output_type": "stream",
          "text": [
            "--total--\n",
            "b    5627\n",
            "e    5294\n",
            "t    1525\n",
            "m     910\n",
            "Name: category, dtype: int64\n",
            "--train--\n",
            "b    4501\n",
            "e    4235\n",
            "t    1220\n",
            "m     728\n",
            "Name: category, dtype: int64\n",
            "--valid--\n",
            "b    563\n",
            "e    529\n",
            "t    153\n",
            "m     91\n",
            "Name: category, dtype: int64\n",
            "--test--\n",
            "b    563\n",
            "e    530\n",
            "t    152\n",
            "m     91\n",
            "Name: category, dtype: int64\n"
          ],
          "name": "stdout"
        }
      ]
    },
    {
      "cell_type": "code",
      "metadata": {
        "id": "9OPbf_7hp3Kf"
      },
      "source": [
        ""
      ],
      "execution_count": 12,
      "outputs": []
    }
  ]
}