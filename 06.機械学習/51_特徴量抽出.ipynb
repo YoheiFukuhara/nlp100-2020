{
  "nbformat": 4,
  "nbformat_minor": 0,
  "metadata": {
    "colab": {
      "name": "51.特徴量抽出.ipynb",
      "provenance": [],
      "collapsed_sections": [],
      "mount_file_id": "1HBthcxJsvAdXqPUws_kytUlTuBsOzAXa",
      "authorship_tag": "ABX9TyOhar5kEVUrb1W0fHyXIA6D",
      "include_colab_link": true
    },
    "kernelspec": {
      "name": "python3",
      "display_name": "Python 3"
    },
    "language_info": {
      "name": "python"
    }
  },
  "cells": [
    {
      "cell_type": "markdown",
      "metadata": {
        "id": "view-in-github",
        "colab_type": "text"
      },
      "source": [
        "<a href=\"https://colab.research.google.com/github/YoheiFukuhara/nlp100-2020/blob/main/06.%E6%A9%9F%E6%A2%B0%E5%AD%A6%E7%BF%92/51_%E7%89%B9%E5%BE%B4%E9%87%8F%E6%8A%BD%E5%87%BA.ipynb\" target=\"_parent\"><img src=\"https://colab.research.google.com/assets/colab-badge.svg\" alt=\"Open In Colab\"/></a>"
      ]
    },
    {
      "cell_type": "code",
      "metadata": {
        "colab": {
          "base_uri": "https://localhost:8080/"
        },
        "id": "37duu_xR9SuK",
        "outputId": "f3531ff0-8425-4922-e7a4-86c0f95e5d73"
      },
      "source": [
        "import re\n",
        "\n",
        "import pandas as pd\n",
        "import spacy\n",
        "#from nltk.stem.porter import PorterStemmer as PS\n",
        "from google.colab import drive\n",
        "\n",
        "drive.mount('/content/drive')"
      ],
      "execution_count": 2,
      "outputs": [
        {
          "output_type": "stream",
          "name": "stdout",
          "text": [
            "Drive already mounted at /content/drive; to attempt to forcibly remount, call drive.mount(\"/content/drive\", force_remount=True).\n"
          ]
        }
      ]
    },
    {
      "cell_type": "code",
      "metadata": {
        "id": "ChI4osDcyIih",
        "colab": {
          "base_uri": "https://localhost:8080/"
        },
        "outputId": "71cfa057-ae52-482d-c0e9-c686ee44f673"
      },
      "source": [
        "!python --version\n",
        "!pip show google pandas spacy"
      ],
      "execution_count": 3,
      "outputs": [
        {
          "output_type": "stream",
          "name": "stdout",
          "text": [
            "Python 3.7.12\n",
            "Name: google\n",
            "Version: 2.0.3\n",
            "Summary: Python bindings to the Google search engine.\n",
            "Home-page: http://breakingcode.wordpress.com/\n",
            "Author: Mario Vilas\n",
            "Author-email: mvilas@gmail.com\n",
            "License: UNKNOWN\n",
            "Location: /usr/local/lib/python3.7/dist-packages\n",
            "Requires: beautifulsoup4\n",
            "Required-by: \n",
            "---\n",
            "Name: pandas\n",
            "Version: 1.1.5\n",
            "Summary: Powerful data structures for data analysis, time series, and statistics\n",
            "Home-page: https://pandas.pydata.org\n",
            "Author: None\n",
            "Author-email: None\n",
            "License: BSD\n",
            "Location: /usr/local/lib/python3.7/dist-packages\n",
            "Requires: pytz, python-dateutil, numpy\n",
            "Required-by: xarray, vega-datasets, statsmodels, sklearn-pandas, seaborn, pymc3, plotnine, pandas-profiling, pandas-gbq, pandas-datareader, mlxtend, mizani, holoviews, gspread-dataframe, google-colab, fix-yahoo-finance, fbprophet, fastai, cufflinks, cmdstanpy, arviz, altair\n",
            "---\n",
            "Name: spacy\n",
            "Version: 2.2.4\n",
            "Summary: Industrial-strength Natural Language Processing (NLP) in Python\n",
            "Home-page: https://spacy.io\n",
            "Author: Explosion\n",
            "Author-email: contact@explosion.ai\n",
            "License: MIT\n",
            "Location: /usr/local/lib/python3.7/dist-packages\n",
            "Requires: murmurhash, plac, cymem, tqdm, requests, preshed, setuptools, numpy, wasabi, catalogue, blis, srsly, thinc\n",
            "Required-by: fastai, en-core-web-sm\n"
          ]
        }
      ]
    },
    {
      "cell_type": "code",
      "metadata": {
        "id": "7p8oVqAfqDIj"
      },
      "source": [
        "BASE_PATH = '/content/drive/MyDrive/ColabNotebooks/ML/NLP100_2020/06.MachineLearning/'\n",
        "nlp = spacy.load('en_core_web_sm')\n",
        "\n",
        "reg_sym = re.compile(r'^[!-/:-@[-`{-~]|[!-/:-@[-`{-~]$')\n",
        "reg_dit = re.compile('[0-9]')\n",
        "\n",
        "# Stemming をすると学習済ベクトルでのEmbeddingができなくなるので中止\n",
        "#ps = PS()\n",
        "\n",
        "# RNN・CNN用なので、そんなに除去しない\n",
        "EXC_POS = {'PUNCT',   # 句読点\n",
        "           'X',       # その他\n",
        "           'SYM',     # 記号\n",
        "           'SPACE' }   # SPACE\n",
        " #          'PART',    # 助詞('sなど)\n",
        " #          'CCONJ',   # 接続詞(andなど)\n",
        " #          'AUX',     # 助動詞(wouldなど)\n",
        " #          'PRON',    # 代名詞\n",
        " #          'SCONJ',   # 従位接続詞(whetherなど)\n",
        "#           'ADP',     # 接置詞(inなど)\n",
        "#           'NUM'}     # 番号"
      ],
      "execution_count": 4,
      "outputs": []
    },
    {
      "cell_type": "code",
      "metadata": {
        "id": "YAmVz5kK9qnP"
      },
      "source": [
        "def is_stopword(token):\n",
        "    lemma = reg_sym.sub('', token.lemma_)\n",
        "    return True if lemma == '' \\\n",
        "                 or token.pos_ in EXC_POS \\\n",
        "                 or len(lemma) == 1 \\\n",
        "                 or reg_dit.search(lemma) \\\n",
        "                 else False\n",
        "# token.is_stop  ストップワード除外しない\n",
        "\n",
        "def preproc_text(text):\n",
        "    doc = nlp(text)\n",
        "#    return ' '.join([ps.stem(reg_sym.sub('', token.lemma_)) for token in doc if is_stopword(token) is False])\n",
        "    return ' '.join([reg_sym.sub('', token.lemma_) for token in doc if is_stopword(token) is False])\n",
        "    \n",
        "def change_text(type_):\n",
        "    df = pd.read_table(BASE_PATH+type_+'.txt')\n",
        "    print('---'+type_+'---')\n",
        "    df.info()\n",
        "    df['title'] = df['title'].map(preproc_text)\n",
        "    df.to_csv(BASE_PATH+type_+'.feature.txt', sep='\\t', index=False)"
      ],
      "execution_count": 5,
      "outputs": []
    },
    {
      "cell_type": "code",
      "metadata": {
        "id": "aXSVdy903joi",
        "colab": {
          "base_uri": "https://localhost:8080/"
        },
        "outputId": "a9c517c8-c658-4cc2-bee0-f636529c6b3f"
      },
      "source": [
        "%%time\n",
        "change_text('train')\n",
        "change_text('valid')\n",
        "change_text('test')"
      ],
      "execution_count": 6,
      "outputs": [
        {
          "output_type": "stream",
          "name": "stdout",
          "text": [
            "---train---\n",
            "<class 'pandas.core.frame.DataFrame'>\n",
            "RangeIndex: 10684 entries, 0 to 10683\n",
            "Data columns (total 2 columns):\n",
            " #   Column    Non-Null Count  Dtype \n",
            "---  ------    --------------  ----- \n",
            " 0   title     10684 non-null  object\n",
            " 1   category  10684 non-null  object\n",
            "dtypes: object(2)\n",
            "memory usage: 167.1+ KB\n",
            "---valid---\n",
            "<class 'pandas.core.frame.DataFrame'>\n",
            "RangeIndex: 1336 entries, 0 to 1335\n",
            "Data columns (total 2 columns):\n",
            " #   Column    Non-Null Count  Dtype \n",
            "---  ------    --------------  ----- \n",
            " 0   title     1336 non-null   object\n",
            " 1   category  1336 non-null   object\n",
            "dtypes: object(2)\n",
            "memory usage: 21.0+ KB\n",
            "---test---\n",
            "<class 'pandas.core.frame.DataFrame'>\n",
            "RangeIndex: 1336 entries, 0 to 1335\n",
            "Data columns (total 2 columns):\n",
            " #   Column    Non-Null Count  Dtype \n",
            "---  ------    --------------  ----- \n",
            " 0   title     1336 non-null   object\n",
            " 1   category  1336 non-null   object\n",
            "dtypes: object(2)\n",
            "memory usage: 21.0+ KB\n",
            "CPU times: user 1min 42s, sys: 382 ms, total: 1min 43s\n",
            "Wall time: 1min 45s\n"
          ]
        }
      ]
    },
    {
      "cell_type": "code",
      "metadata": {
        "colab": {
          "base_uri": "https://localhost:8080/"
        },
        "id": "ZvJ3y2LOKxOW",
        "outputId": "3ae669b7-0471-427d-802d-1d28be133b7d"
      },
      "source": [
        "!head /content/drive/MyDrive/ColabNotebooks/ML/NLP100_2020/06.MachineLearning/train.feature.txt"
      ],
      "execution_count": 1,
      "outputs": [
        {
          "output_type": "stream",
          "name": "stdout",
          "text": [
            "title\tcategory\n",
            "REFILE UPDATE car sale up for sixth month as economy recover\tb\n",
            "Amazon plan to fight FTC over Mobile App purchase\tt\n",
            "kid still get codeine in emergency room despite Risky side effect STUDY\tm\n",
            "what on earth happen between Solange and Jay after the Met Gala\te\n",
            "NATO Missile Defense be flight test over Hawaii\tb\n",
            "NYT Publisher Sulzberger say Abramson Firing drive by conduct\tb\n",
            "Argentina Kicillof say have process June debt payment\tb\n",
            "the Perfect and the good on Network Neutrality\tt\n",
            "Scarlett Johansson and Lupita Nyong'o land role in Jungle Book Adaptation\te\n"
          ]
        }
      ]
    },
    {
      "cell_type": "code",
      "metadata": {
        "id": "pZoI_QkN3iBH",
        "colab": {
          "base_uri": "https://localhost:8080/"
        },
        "outputId": "12551832-e13b-4087-f51d-1aff3f73dff5"
      },
      "source": [
        "# More Than $3.2 Billion?\n",
        "# What's in a name?\n",
        "def check_stop_word(sentence):\n",
        "    doc = nlp(sentence)\n",
        "    for token in doc:\n",
        "        lemma = reg_sym.sub('', token.lemma_)\n",
        "        if lemma == '' \\\n",
        "                 or token.pos_ in EXC_POS \\\n",
        "                 or len(lemma) == 1 \\\n",
        "                 or reg_dit.search(lemma):\n",
        "            print('stop word!!!')\n",
        "        print(f'lemma: {lemma}')\n",
        "        if token.pos_ in EXC_POS:\n",
        "            print(f'pos: {token.pos_}')\n",
        "        print(f': {len(lemma)}')\n",
        "        print(f': {reg_dit.search(lemma)}')\n",
        "        print('-----')\n",
        "\n",
        "check_stop_word(\"More Than $3.2 Billion?\")\n",
        "check_stop_word(\"What's in a name?\")"
      ],
      "execution_count": 7,
      "outputs": [
        {
          "output_type": "stream",
          "name": "stdout",
          "text": [
            "lemma: More\n",
            ": 4\n",
            ": None\n",
            "-----\n",
            "lemma: than\n",
            ": 4\n",
            ": None\n",
            "-----\n",
            "stop word!!!\n",
            "lemma: \n",
            "pos: SYM\n",
            ": 0\n",
            ": None\n",
            "-----\n",
            "stop word!!!\n",
            "lemma: 3.2\n",
            ": 3\n",
            ": <re.Match object; span=(0, 1), match='3'>\n",
            "-----\n",
            "lemma: billion\n",
            ": 7\n",
            ": None\n",
            "-----\n",
            "stop word!!!\n",
            "lemma: \n",
            "pos: PUNCT\n",
            ": 0\n",
            ": None\n",
            "-----\n",
            "lemma: what\n",
            ": 4\n",
            ": None\n",
            "-----\n",
            "lemma: be\n",
            ": 2\n",
            ": None\n",
            "-----\n",
            "lemma: in\n",
            ": 2\n",
            ": None\n",
            "-----\n",
            "stop word!!!\n",
            "lemma: a\n",
            ": 1\n",
            ": None\n",
            "-----\n",
            "lemma: name\n",
            ": 4\n",
            ": None\n",
            "-----\n",
            "stop word!!!\n",
            "lemma: \n",
            "pos: PUNCT\n",
            ": 0\n",
            ": None\n",
            "-----\n"
          ]
        }
      ]
    },
    {
      "cell_type": "code",
      "metadata": {
        "id": "Djdud5Gt3Bnr"
      },
      "source": [
        ""
      ],
      "execution_count": 7,
      "outputs": []
    }
  ]
}