{
  "nbformat": 4,
  "nbformat_minor": 0,
  "metadata": {
    "colab": {
      "name": "51.特徴量抽出.ipynb",
      "provenance": [],
      "collapsed_sections": [],
      "mount_file_id": "1HBthcxJsvAdXqPUws_kytUlTuBsOzAXa",
      "authorship_tag": "ABX9TyPs6G8MjCqH96E4XPH4o8Bc",
      "include_colab_link": true
    },
    "kernelspec": {
      "name": "python3",
      "display_name": "Python 3"
    },
    "language_info": {
      "name": "python"
    }
  },
  "cells": [
    {
      "cell_type": "markdown",
      "metadata": {
        "id": "view-in-github",
        "colab_type": "text"
      },
      "source": [
        "<a href=\"https://colab.research.google.com/github/YoheiFukuhara/nlp100-2020/blob/main/06.%E6%A9%9F%E6%A2%B0%E5%AD%A6%E7%BF%92/51_%E7%89%B9%E5%BE%B4%E9%87%8F%E6%8A%BD%E5%87%BA.ipynb\" target=\"_parent\"><img src=\"https://colab.research.google.com/assets/colab-badge.svg\" alt=\"Open In Colab\"/></a>"
      ]
    },
    {
      "cell_type": "code",
      "metadata": {
        "colab": {
          "base_uri": "https://localhost:8080/"
        },
        "id": "37duu_xR9SuK",
        "outputId": "0e156930-2564-4057-a4a8-9e86d1968ef9"
      },
      "source": [
        "import re\n",
        "\n",
        "import pandas as pd\n",
        "import spacy\n",
        "#from nltk.stem.porter import PorterStemmer as PS\n",
        "from google.colab import drive\n",
        "\n",
        "drive.mount('/content/drive')"
      ],
      "execution_count": null,
      "outputs": [
        {
          "output_type": "stream",
          "name": "stdout",
          "text": [
            "Drive already mounted at /content/drive; to attempt to forcibly remount, call drive.mount(\"/content/drive\", force_remount=True).\n"
          ]
        }
      ]
    },
    {
      "cell_type": "code",
      "metadata": {
        "id": "ChI4osDcyIih",
        "colab": {
          "base_uri": "https://localhost:8080/"
        },
        "outputId": "4f836159-3c96-4458-af69-52949d7d426c"
      },
      "source": [
        "!python --version\n",
        "!pip show google pandas spacy"
      ],
      "execution_count": null,
      "outputs": [
        {
          "output_type": "stream",
          "name": "stdout",
          "text": [
            "Python 3.7.12\n",
            "Name: google\n",
            "Version: 2.0.3\n",
            "Summary: Python bindings to the Google search engine.\n",
            "Home-page: http://breakingcode.wordpress.com/\n",
            "Author: Mario Vilas\n",
            "Author-email: mvilas@gmail.com\n",
            "License: UNKNOWN\n",
            "Location: /usr/local/lib/python3.7/dist-packages\n",
            "Requires: beautifulsoup4\n",
            "Required-by: \n",
            "---\n",
            "Name: pandas\n",
            "Version: 1.1.5\n",
            "Summary: Powerful data structures for data analysis, time series, and statistics\n",
            "Home-page: https://pandas.pydata.org\n",
            "Author: None\n",
            "Author-email: None\n",
            "License: BSD\n",
            "Location: /usr/local/lib/python3.7/dist-packages\n",
            "Requires: pytz, python-dateutil, numpy\n",
            "Required-by: xarray, vega-datasets, statsmodels, sklearn-pandas, seaborn, pymc3, plotnine, pandas-profiling, pandas-gbq, pandas-datareader, mlxtend, mizani, holoviews, gspread-dataframe, google-colab, fix-yahoo-finance, fbprophet, fastai, cufflinks, cmdstanpy, arviz, altair\n",
            "---\n",
            "Name: spacy\n",
            "Version: 2.2.4\n",
            "Summary: Industrial-strength Natural Language Processing (NLP) in Python\n",
            "Home-page: https://spacy.io\n",
            "Author: Explosion\n",
            "Author-email: contact@explosion.ai\n",
            "License: MIT\n",
            "Location: /usr/local/lib/python3.7/dist-packages\n",
            "Requires: catalogue, numpy, setuptools, srsly, tqdm, requests, murmurhash, cymem, preshed, thinc, wasabi, plac, blis\n",
            "Required-by: fastai, en-core-web-sm\n",
            "---\n",
            "Name: nltk\n",
            "Version: 3.2.5\n",
            "Summary: Natural Language Toolkit\n",
            "Home-page: http://nltk.org/\n",
            "Author: Steven Bird\n",
            "Author-email: stevenbird1@gmail.com\n",
            "License: Apache License, Version 2.0\n",
            "Location: /usr/local/lib/python3.7/dist-packages\n",
            "Requires: six\n",
            "Required-by: textblob\n"
          ]
        }
      ]
    },
    {
      "cell_type": "code",
      "metadata": {
        "id": "7p8oVqAfqDIj"
      },
      "source": [
        "BASE_PATH = '/content/drive/MyDrive/ColabNotebooks/ML/NLP100_2020/06.MachineLearning/'\n",
        "nlp = spacy.load('en_core_web_sm')\n",
        "\n",
        "reg_sym = re.compile(r'^[!-/:-@[-`{-~]|[!-/:-@[-`{-~]$')\n",
        "reg_dit = re.compile('[0-9]')\n",
        "\n",
        "# Stemming をすると学習済ベクトルでのEmbeddingができなくなるので中止\n",
        "#ps = PS()\n",
        "\n",
        "# RNN・CNN用なので、そんなに除去しない\n",
        "EXC_POS = {'PUNCT',   # 句読点\n",
        "           'X',       # その他\n",
        "           'SYM',     # 記号\n",
        "           'SPACE' }   # SPACE\n",
        " #          'PART',    # 助詞('sなど)\n",
        " #          'CCONJ',   # 接続詞(andなど)\n",
        " #          'AUX',     # 助動詞(wouldなど)\n",
        " #          'PRON',    # 代名詞\n",
        " #          'SCONJ',   # 従位接続詞(whetherなど)\n",
        "#           'ADP',     # 接置詞(inなど)\n",
        "#           'NUM'}     # 番号"
      ],
      "execution_count": null,
      "outputs": []
    },
    {
      "cell_type": "code",
      "metadata": {
        "id": "YAmVz5kK9qnP"
      },
      "source": [
        "def is_stopword(token):\n",
        "    lemma = reg_sym.sub('', token.lemma_)\n",
        "    return True if lemma == '' \\\n",
        "                 or token.pos_ in EXC_POS \\\n",
        "                 or len(lemma) == 1 \\\n",
        "                 or reg_dit.search(lemma) \\\n",
        "                 else False\n",
        "# token.is_stop  ストップワード除外しない\n",
        "\n",
        "def preproc_text(text):\n",
        "    doc = nlp(text)\n",
        "#    return ' '.join([ps.stem(reg_sym.sub('', token.lemma_)) for token in doc if is_stopword(token) is False])\n",
        "    return ' '.join([reg_sym.sub('', token.lemma_) for token in doc if is_stopword(token) is False])\n",
        "    \n",
        "def change_text(type_):\n",
        "    df = pd.read_table(BASE_PATH+type_+'.txt')\n",
        "    print('---'+type_+'---')\n",
        "    df.info()\n",
        "    df['title'] = df['title'].map(preproc_text)\n",
        "    df.to_csv(BASE_PATH+type_+'.feature.txt', sep='\\t', index=False)"
      ],
      "execution_count": null,
      "outputs": []
    },
    {
      "cell_type": "code",
      "metadata": {
        "id": "aXSVdy903joi",
        "colab": {
          "base_uri": "https://localhost:8080/"
        },
        "outputId": "4f227174-5bd6-4d82-b29a-119500e139d3"
      },
      "source": [
        "%%time\n",
        "change_text('train')\n",
        "change_text('valid')\n",
        "change_text('test')"
      ],
      "execution_count": null,
      "outputs": [
        {
          "output_type": "stream",
          "name": "stdout",
          "text": [
            "---train---\n",
            "<class 'pandas.core.frame.DataFrame'>\n",
            "RangeIndex: 10684 entries, 0 to 10683\n",
            "Data columns (total 2 columns):\n",
            " #   Column    Non-Null Count  Dtype \n",
            "---  ------    --------------  ----- \n",
            " 0   title     10684 non-null  object\n",
            " 1   category  10684 non-null  object\n",
            "dtypes: object(2)\n",
            "memory usage: 167.1+ KB\n",
            "---valid---\n",
            "<class 'pandas.core.frame.DataFrame'>\n",
            "RangeIndex: 1336 entries, 0 to 1335\n",
            "Data columns (total 2 columns):\n",
            " #   Column    Non-Null Count  Dtype \n",
            "---  ------    --------------  ----- \n",
            " 0   title     1336 non-null   object\n",
            " 1   category  1336 non-null   object\n",
            "dtypes: object(2)\n",
            "memory usage: 21.0+ KB\n",
            "---test---\n",
            "<class 'pandas.core.frame.DataFrame'>\n",
            "RangeIndex: 1336 entries, 0 to 1335\n",
            "Data columns (total 2 columns):\n",
            " #   Column    Non-Null Count  Dtype \n",
            "---  ------    --------------  ----- \n",
            " 0   title     1336 non-null   object\n",
            " 1   category  1336 non-null   object\n",
            "dtypes: object(2)\n",
            "memory usage: 21.0+ KB\n",
            "CPU times: user 2min 1s, sys: 391 ms, total: 2min 1s\n",
            "Wall time: 2min 3s\n"
          ]
        }
      ]
    },
    {
      "cell_type": "code",
      "metadata": {
        "id": "pZoI_QkN3iBH",
        "colab": {
          "base_uri": "https://localhost:8080/"
        },
        "outputId": "c50865a2-47b8-413c-d74e-38a38a9f4eba"
      },
      "source": [
        "# More Than $3.2 Billion?\n",
        "# What's in a name?\n",
        "def check_stop_word(sentence):\n",
        "    doc = nlp(sentence)\n",
        "    for token in doc:\n",
        "        lemma = reg_sym.sub('', token.lemma_)\n",
        "        if lemma == '' \\\n",
        "                 or token.pos_ in EXC_POS \\\n",
        "                 or len(lemma) == 1 \\\n",
        "                 or reg_dit.search(lemma):\n",
        "            print('stop word!!!')\n",
        "        print(f'lemma: {lemma}')\n",
        "        if token.pos_ in EXC_POS:\n",
        "            print(f'pos: {token.pos_}')\n",
        "        print(f': {len(lemma)}')\n",
        "        print(f': {reg_dit.search(lemma)}')\n",
        "        print('-----')\n",
        "\n",
        "check_stop_word(\"More Than $3.2 Billion?\")\n",
        "check_stop_word(\"What's in a name?\")"
      ],
      "execution_count": null,
      "outputs": [
        {
          "output_type": "stream",
          "name": "stdout",
          "text": [
            "lemma: More\n",
            ": 4\n",
            ": None\n",
            "-----\n",
            "lemma: than\n",
            ": 4\n",
            ": None\n",
            "-----\n",
            "stop word!!!\n",
            "lemma: \n",
            "pos: SYM\n",
            ": 0\n",
            ": None\n",
            "-----\n",
            "stop word!!!\n",
            "lemma: 3.2\n",
            ": 3\n",
            ": <re.Match object; span=(0, 1), match='3'>\n",
            "-----\n",
            "lemma: billion\n",
            ": 7\n",
            ": None\n",
            "-----\n",
            "stop word!!!\n",
            "lemma: \n",
            "pos: PUNCT\n",
            ": 0\n",
            ": None\n",
            "-----\n",
            "lemma: what\n",
            ": 4\n",
            ": None\n",
            "-----\n",
            "lemma: be\n",
            ": 2\n",
            ": None\n",
            "-----\n",
            "lemma: in\n",
            ": 2\n",
            ": None\n",
            "-----\n",
            "stop word!!!\n",
            "lemma: a\n",
            ": 1\n",
            ": None\n",
            "-----\n",
            "lemma: name\n",
            ": 4\n",
            ": None\n",
            "-----\n",
            "stop word!!!\n",
            "lemma: \n",
            "pos: PUNCT\n",
            ": 0\n",
            ": None\n",
            "-----\n"
          ]
        }
      ]
    },
    {
      "cell_type": "code",
      "metadata": {
        "id": "Djdud5Gt3Bnr"
      },
      "source": [
        ""
      ],
      "execution_count": null,
      "outputs": []
    }
  ]
}