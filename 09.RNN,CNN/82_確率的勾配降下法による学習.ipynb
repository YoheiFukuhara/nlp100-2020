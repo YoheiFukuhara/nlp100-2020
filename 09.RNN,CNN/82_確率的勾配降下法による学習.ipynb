{
  "nbformat": 4,
  "nbformat_minor": 0,
  "metadata": {
    "colab": {
      "name": "82.確率的勾配降下法による学習.ipynb",
      "provenance": [],
      "collapsed_sections": [],
      "authorship_tag": "ABX9TyO1sJh37CaGgcZ18YkRysH+",
      "include_colab_link": true
    },
    "kernelspec": {
      "name": "python3",
      "display_name": "Python 3"
    },
    "language_info": {
      "name": "python"
    }
  },
  "cells": [
    {
      "cell_type": "markdown",
      "metadata": {
        "id": "view-in-github",
        "colab_type": "text"
      },
      "source": [
        "<a href=\"https://colab.research.google.com/github/YoheiFukuhara/nlp100-2020/blob/main/09.RNN%2CCNN/82_%E7%A2%BA%E7%8E%87%E7%9A%84%E5%8B%BE%E9%85%8D%E9%99%8D%E4%B8%8B%E6%B3%95%E3%81%AB%E3%82%88%E3%82%8B%E5%AD%A6%E7%BF%92.ipynb\" target=\"_parent\"><img src=\"https://colab.research.google.com/assets/colab-badge.svg\" alt=\"Open In Colab\"/></a>"
      ]
    },
    {
      "cell_type": "markdown",
      "metadata": {
        "id": "Hnhi5curHGob"
      },
      "source": [
        "確率的勾配降下法（SGD: Stochastic Gradient Descent）を用いて，問題81で構築したモデルを学習せよ．訓練データ上の損失と正解率，評価データ上の損失と正解率を表示しながらモデルを学習し，適当な基準（例えば10エポックなど）で終了させよ．"
      ]
    },
    {
      "cell_type": "code",
      "metadata": {
        "colab": {
          "base_uri": "https://localhost:8080/"
        },
        "id": "smIMO5cGG3pf",
        "outputId": "1c3d6d5b-b5ef-44f2-825d-dd2d93824a80"
      },
      "source": [
        "import nltk\n",
        "import pandas as pd\n",
        "import tensorflow as tf\n",
        "from google.colab import drive\n",
        "\n",
        "drive.mount('/content/drive')"
      ],
      "execution_count": null,
      "outputs": [
        {
          "output_type": "stream",
          "name": "stdout",
          "text": [
            "Mounted at /content/drive\n"
          ]
        }
      ]
    },
    {
      "cell_type": "markdown",
      "metadata": {
        "id": "DCxKz_XzHgAV"
      },
      "source": [
        "!python --version\n",
        "!pip show google tensorflow nltk pandas"
      ]
    },
    {
      "cell_type": "code",
      "metadata": {
        "id": "cJPjoNjhHTc3"
      },
      "source": [
        "BASE_PATH = '/content/drive/MyDrive/ColabNotebooks/ML/NLP100_2020/06.MachineLearning/'\n",
        "max_len = 0\n",
        "vocabulary = []"
      ],
      "execution_count": null,
      "outputs": []
    },
    {
      "cell_type": "code",
      "metadata": {
        "id": "BGk9QJ-sHlPk"
      },
      "source": [
        "def read_dataset(type_):\n",
        "    global max_len\n",
        "    global vocabulary\n",
        "    df = pd.read_table(BASE_PATH+type_+'.feature.txt')\n",
        "    df.info()\n",
        "    sr_title = df['title'].str.split().explode()\n",
        "    max_len_ = df['title'].map(lambda x: len(x.split())).max()\n",
        "    if max_len < max_len_:\n",
        "        max_len = max_len_\n",
        "    if len(vocabulary) == 0:\n",
        "        vocabulary = [k for k, v in nltk.FreqDist(sr_title).items() if v > 1]\n",
        "    else:\n",
        "        vocabulary.extend([k for k, v in nltk.FreqDist(sr_title).items() if v > 1])\n",
        "    y = df['category'].replace({'b':0, 't':1, 'e':2, 'm':3})\n",
        "    return df['title'], tf.keras.utils.to_categorical(y, dtype='int32')  # 4値分類なので訓練・検証・テスト共通でone-hot化"
      ],
      "execution_count": null,
      "outputs": []
    },
    {
      "cell_type": "code",
      "metadata": {
        "colab": {
          "base_uri": "https://localhost:8080/"
        },
        "id": "OAx17LNLHmtI",
        "outputId": "376c9f8b-f21e-4a6f-e75a-b283693479a9"
      },
      "source": [
        "X_train, y_train = read_dataset('train')\n",
        "X_valid, y_valid = read_dataset('valid')\n",
        "X_test, y_test = read_dataset('test') # あまりこだわらずにテストデータセットも追加\n",
        "\n",
        "# setで重複削除し、タプル形式に設定\n",
        "tup_voc = tuple(set(vocabulary))\n",
        "\n",
        "print(f'vocabulary size before removing duplicates: {len(vocabulary)}')\n",
        "print(f'vocabulary size after removing duplicates: {len(tup_voc)}')\n",
        "print(f'sample vocabulary: {tup_voc[:10]}')\n",
        "print(f'max length is {max_len}')"
      ],
      "execution_count": null,
      "outputs": [
        {
          "output_type": "stream",
          "name": "stdout",
          "text": [
            "<class 'pandas.core.frame.DataFrame'>\n",
            "RangeIndex: 10684 entries, 0 to 10683\n",
            "Data columns (total 2 columns):\n",
            " #   Column    Non-Null Count  Dtype \n",
            "---  ------    --------------  ----- \n",
            " 0   title     10684 non-null  object\n",
            " 1   category  10684 non-null  object\n",
            "dtypes: object(2)\n",
            "memory usage: 167.1+ KB\n",
            "<class 'pandas.core.frame.DataFrame'>\n",
            "RangeIndex: 1336 entries, 0 to 1335\n",
            "Data columns (total 2 columns):\n",
            " #   Column    Non-Null Count  Dtype \n",
            "---  ------    --------------  ----- \n",
            " 0   title     1336 non-null   object\n",
            " 1   category  1336 non-null   object\n",
            "dtypes: object(2)\n",
            "memory usage: 21.0+ KB\n",
            "<class 'pandas.core.frame.DataFrame'>\n",
            "RangeIndex: 1336 entries, 0 to 1335\n",
            "Data columns (total 2 columns):\n",
            " #   Column    Non-Null Count  Dtype \n",
            "---  ------    --------------  ----- \n",
            " 0   title     1336 non-null   object\n",
            " 1   category  1336 non-null   object\n",
            "dtypes: object(2)\n",
            "memory usage: 21.0+ KB\n",
            "vocabulary size before removing duplicates: 11089\n",
            "vocabulary size after removing duplicates: 7802\n",
            "sample vocabulary: ('Worth', 'believe', 'swipe', 'officially', 'George', 'fiber', 'carpet', 'Rumor', 'produce', 'crucial')\n",
            "max length is 18\n"
          ]
        }
      ]
    },
    {
      "cell_type": "code",
      "metadata": {
        "colab": {
          "base_uri": "https://localhost:8080/"
        },
        "id": "5XAN1PX8HoZX",
        "outputId": "e6b96dd6-68be-4c1e-f9ce-324bacb0267a"
      },
      "source": [
        "vectorize_layer = tf.keras.layers.TextVectorization(\n",
        " output_mode='int',\n",
        " vocabulary=tup_voc,\n",
        " output_sequence_length=max_len)"
      ],
      "execution_count": null,
      "outputs": [
        {
          "output_type": "stream",
          "name": "stdout",
          "text": [
            "['', '[UNK]', 'Worth', 'believe', 'swipe', 'officially', 'George', 'fiber', 'carpet', 'Rumor']\n"
          ]
        }
      ]
    },
    {
      "cell_type": "code",
      "metadata": {
        "colab": {
          "base_uri": "https://localhost:8080/"
        },
        "id": "r_mDjQmeHqi1",
        "outputId": "d6d6b2c4-fd02-4b34-ca12-6fdd5255bdb7"
      },
      "source": [
        "#https://www.tensorflow.org/text/guide/word_embeddings\n",
        "\n",
        "# embeddingのデフォルトinitializerであるuniformはrandom_uniform\n",
        "# https://github.com/keras-team/keras/blob/v2.7.0/keras/initializers/__init__.py#L116\n",
        "\n",
        "# cuDNN を使うようにGRUは基本はデフォルト値\n",
        "# https://www.tensorflow.org/api_docs/python/tf/keras/layers/GRU/\n",
        "\n",
        "model = tf.keras.models.Sequential()\n",
        "model.add(tf.keras.Input(shape=(1,), dtype=tf.string))\n",
        "model.add(vectorize_layer)\n",
        "model.add(tf.keras.layers.Embedding(vectorize_layer.vocabulary_size()+1, 300, mask_zero=True))\n",
        "model.add(tf.keras.layers.GRU(50))\n",
        "model.add(tf.keras.layers.Dense(4, activation='softmax'))\n",
        "model.compile(loss='categorical_crossentropy', optimizer='sgd', metrics=['acc'])\n",
        "model.summary()"
      ],
      "execution_count": null,
      "outputs": [
        {
          "output_type": "stream",
          "name": "stdout",
          "text": [
            "Model: \"sequential\"\n",
            "_________________________________________________________________\n",
            " Layer (type)                Output Shape              Param #   \n",
            "=================================================================\n",
            " text_vectorization (TextVec  (None, 18)               0         \n",
            " torization)                                                     \n",
            "                                                                 \n",
            " embedding (Embedding)       (None, 18, 300)           2341500   \n",
            "                                                                 \n",
            " gru (GRU)                   (None, 50)                52800     \n",
            "                                                                 \n",
            " dense (Dense)               (None, 4)                 204       \n",
            "                                                                 \n",
            "=================================================================\n",
            "Total params: 2,394,504\n",
            "Trainable params: 2,394,504\n",
            "Non-trainable params: 0\n",
            "_________________________________________________________________\n"
          ]
        }
      ]
    },
    {
      "cell_type": "code",
      "metadata": {
        "colab": {
          "base_uri": "https://localhost:8080/",
          "height": 533
        },
        "id": "8XIOoLFVL642",
        "outputId": "3dfe1939-f607-43b1-8cd0-4a39d0c742b7"
      },
      "source": [
        "tf.keras.utils.plot_model(model, show_shapes=True)"
      ],
      "execution_count": null,
      "outputs": [
        {
          "output_type": "execute_result",
          "data": {
            "image/png": "[encoded data removed]",
            "text/plain": [
              "<IPython.core.display.Image object>"
            ]
          },
          "metadata": {},
          "execution_count": 8
        }
      ]
    },
    {
      "cell_type": "code",
      "metadata": {
        "colab": {
          "base_uri": "https://localhost:8080/"
        },
        "id": "RHoesMkQOM1p",
        "outputId": "8d4726a4-6a74-41f4-ad6b-c131adde35e5"
      },
      "source": [
        "%%time\n",
        "model.fit(X_train, y_train, epochs=10, validation_data=(X_valid, y_valid))"
      ],
      "execution_count": null,
      "outputs": [
        {
          "output_type": "stream",
          "name": "stdout",
          "text": [
            "Epoch 1/10\n",
            "334/334 [==============================] - 15s 29ms/step - loss: 1.2011 - acc: 0.4497 - val_loss: 1.1557 - val_acc: 0.4708\n",
            "Epoch 2/10\n",
            "334/334 [==============================] - 8s 25ms/step - loss: 1.1507 - acc: 0.4777 - val_loss: 1.1493 - val_acc: 0.4925\n",
            "Epoch 3/10\n",
            "334/334 [==============================] - 8s 24ms/step - loss: 1.1445 - acc: 0.4891 - val_loss: 1.1429 - val_acc: 0.4880\n",
            "Epoch 4/10\n",
            "334/334 [==============================] - 8s 24ms/step - loss: 1.1383 - acc: 0.4912 - val_loss: 1.1382 - val_acc: 0.4888\n",
            "Epoch 5/10\n",
            "334/334 [==============================] - 8s 24ms/step - loss: 1.1321 - acc: 0.4982 - val_loss: 1.1320 - val_acc: 0.4970\n",
            "Epoch 6/10\n",
            "334/334 [==============================] - 8s 24ms/step - loss: 1.1248 - acc: 0.5053 - val_loss: 1.1248 - val_acc: 0.5037\n",
            "Epoch 7/10\n",
            "334/334 [==============================] - 8s 24ms/step - loss: 1.1156 - acc: 0.5160 - val_loss: 1.1140 - val_acc: 0.5262\n",
            "Epoch 8/10\n",
            "334/334 [==============================] - 8s 24ms/step - loss: 1.1020 - acc: 0.5317 - val_loss: 1.1017 - val_acc: 0.5419\n",
            "Epoch 9/10\n",
            "334/334 [==============================] - 8s 24ms/step - loss: 1.0804 - acc: 0.5633 - val_loss: 1.0694 - val_acc: 0.5719\n",
            "Epoch 10/10\n",
            "334/334 [==============================] - 8s 25ms/step - loss: 1.0397 - acc: 0.5987 - val_loss: 1.0167 - val_acc: 0.6130\n",
            "CPU times: user 2min 17s, sys: 4.93 s, total: 2min 22s\n",
            "Wall time: 2min 26s\n"
          ]
        },
        {
          "output_type": "execute_result",
          "data": {
            "text/plain": [
              "<keras.callbacks.History at 0x7fa99b2bb550>"
            ]
          },
          "metadata": {},
          "execution_count": 9
        }
      ]
    },
    {
      "cell_type": "code",
      "metadata": {
        "id": "x95kP4_gOQH0",
        "colab": {
          "base_uri": "https://localhost:8080/"
        },
        "outputId": "8ed3ccea-95e1-4d0a-847b-1249e8fda3ca"
      },
      "source": [
        "model.evaluate(X_test, y_test)"
      ],
      "execution_count": null,
      "outputs": [
        {
          "output_type": "stream",
          "name": "stdout",
          "text": [
            "42/42 [==============================] - 0s 7ms/step - loss: 1.0089 - acc: 0.6213\n"
          ]
        },
        {
          "output_type": "execute_result",
          "data": {
            "text/plain": [
              "[1.0088515281677246, 0.621257483959198]"
            ]
          },
          "metadata": {},
          "execution_count": 10
        }
      ]
    },
    {
      "cell_type": "code",
      "metadata": {
        "id": "oetcgmbgXZy7"
      },
      "source": [
        ""
      ],
      "execution_count": null,
      "outputs": []
    }
  ]
}