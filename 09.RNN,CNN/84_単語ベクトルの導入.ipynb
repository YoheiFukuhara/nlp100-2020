{
  "nbformat": 4,
  "nbformat_minor": 0,
  "metadata": {
    "colab": {
      "name": "84.単語ベクトルの導入.ipynb",
      "provenance": [],
      "collapsed_sections": [],
      "authorship_tag": "ABX9TyP/zk1sUY7FhO01fUhKD1oH",
      "include_colab_link": true
    },
    "kernelspec": {
      "name": "python3",
      "display_name": "Python 3"
    },
    "language_info": {
      "name": "python"
    },
    "accelerator": "GPU"
  },
  "cells": [
    {
      "cell_type": "markdown",
      "metadata": {
        "id": "view-in-github",
        "colab_type": "text"
      },
      "source": [
        "<a href=\"https://colab.research.google.com/github/YoheiFukuhara/nlp100-2020/blob/main/09.RNN%2CCNN/84_%E5%8D%98%E8%AA%9E%E3%83%99%E3%82%AF%E3%83%88%E3%83%AB%E3%81%AE%E5%B0%8E%E5%85%A5.ipynb\" target=\"_parent\"><img src=\"https://colab.research.google.com/assets/colab-badge.svg\" alt=\"Open In Colab\"/></a>"
      ]
    },
    {
      "cell_type": "markdown",
      "metadata": {
        "id": "Hnhi5curHGob"
      },
      "source": [
        "事前学習済みの単語ベクトル（例えば，Google Newsデータセット（約1,000億単語）での[学習済み単語ベクトル](https://drive.google.com/file/d/0B7XkCwpI5KDYNlNUTTlSS21pQmM/edit?usp=sharing)）で単語埋め込み$\\mathrm{emb}(x)$を初期化し，学習せよ．"
      ]
    },
    {
      "cell_type": "markdown",
      "metadata": {
        "id": "Hwycp7bGVhS-"
      },
      "source": [
        "新しい記事\n",
        "https://keras.io/examples/nlp/pretrained_word_embeddings/\n",
        "\n",
        "少し古いがここの記事\n",
        "https://blog.keras.io/using-pre-trained-word-embeddings-in-a-keras-model.html\n",
        "\n",
        "解説系記事\n",
        "https://work-in-progress.hatenablog.com/entry/2019/03/03/122058"
      ]
    },
    {
      "cell_type": "code",
      "metadata": {
        "colab": {
          "base_uri": "https://localhost:8080/"
        },
        "id": "smIMO5cGG3pf",
        "outputId": "78d0c14c-9caf-452b-e407-b279e524a514"
      },
      "source": [
        "import numpy as np\n",
        "import nltk\n",
        "from gensim.models import KeyedVectors\n",
        "import pandas as pd\n",
        "import tensorflow as tf\n",
        "from google.colab import drive\n",
        "\n",
        "drive.mount('/content/drive')"
      ],
      "execution_count": null,
      "outputs": [
        {
          "output_type": "stream",
          "name": "stdout",
          "text": [
            "Drive already mounted at /content/drive; to attempt to forcibly remount, call drive.mount(\"/content/drive\", force_remount=True).\n"
          ]
        }
      ]
    },
    {
      "cell_type": "markdown",
      "metadata": {
        "id": "DCxKz_XzHgAV"
      },
      "source": [
        "!python --version\n",
        "!pip show numpy gensim google tensorflow nltk pandas"
      ]
    },
    {
      "cell_type": "code",
      "metadata": {
        "id": "cJPjoNjhHTc3"
      },
      "source": [
        "BASE_PATH = '/content/drive/MyDrive/ColabNotebooks/ML/NLP100_2020/'\n",
        "max_len = 0\n",
        "vocabulary = []\n",
        "w2v_model = KeyedVectors.load_word2vec_format(BASE_PATH+'07.WordVector/input/GoogleNews-vectors-negative300.bin.gz', binary=True)"
      ],
      "execution_count": null,
      "outputs": []
    },
    {
      "cell_type": "code",
      "metadata": {
        "id": "BGk9QJ-sHlPk"
      },
      "source": [
        "def read_dataset(type_):\n",
        "    global max_len\n",
        "    global vocabulary\n",
        "    df = pd.read_table(BASE_PATH+'06.MachineLearning/'+type_+'.feature.txt')\n",
        "    df.info()\n",
        "    sr_title = df['title'].str.split().explode()\n",
        "    max_len_ = df['title'].map(lambda x: len(x.split())).max()\n",
        "    if max_len < max_len_:\n",
        "        max_len = max_len_\n",
        "    if len(vocabulary) == 0:\n",
        "        vocabulary = [k for k, v in nltk.FreqDist(sr_title).items() if v > 1]\n",
        "    else:\n",
        "        vocabulary.extend([k for k, v in nltk.FreqDist(sr_title).items() if v > 1])\n",
        "    y = df['category'].replace({'b':0, 't':1, 'e':2, 'm':3})\n",
        "    return df['title'], tf.keras.utils.to_categorical(y, dtype='int32')  # 4値分類なので訓練・検証・テスト共通でone-hot化"
      ],
      "execution_count": null,
      "outputs": []
    },
    {
      "cell_type": "code",
      "metadata": {
        "id": "OAx17LNLHmtI",
        "colab": {
          "base_uri": "https://localhost:8080/"
        },
        "outputId": "68d4c899-2b5a-4ba9-d539-ba769f6d6048"
      },
      "source": [
        "X_train, y_train = read_dataset('train')\n",
        "X_valid, y_valid = read_dataset('valid')\n",
        "X_test, y_test = read_dataset('test') # あまりこだわらずにテストデータセットも追加\n",
        "\n",
        "# setで重複削除し、タプル形式に設定\n",
        "tup_voc = tuple(set(vocabulary))\n",
        "\n",
        "print(f'vocabulary size before removing duplicates: {len(vocabulary)}')\n",
        "print(f'vocabulary size after removing duplicates: {len(tup_voc)}')\n",
        "print(f'sample vocabulary: {tup_voc[:10]}')\n",
        "print(f'max length is {max_len}')"
      ],
      "execution_count": null,
      "outputs": [
        {
          "output_type": "stream",
          "name": "stdout",
          "text": [
            "<class 'pandas.core.frame.DataFrame'>\n",
            "RangeIndex: 10684 entries, 0 to 10683\n",
            "Data columns (total 2 columns):\n",
            " #   Column    Non-Null Count  Dtype \n",
            "---  ------    --------------  ----- \n",
            " 0   title     10684 non-null  object\n",
            " 1   category  10684 non-null  object\n",
            "dtypes: object(2)\n",
            "memory usage: 167.1+ KB\n",
            "<class 'pandas.core.frame.DataFrame'>\n",
            "RangeIndex: 1336 entries, 0 to 1335\n",
            "Data columns (total 2 columns):\n",
            " #   Column    Non-Null Count  Dtype \n",
            "---  ------    --------------  ----- \n",
            " 0   title     1336 non-null   object\n",
            " 1   category  1336 non-null   object\n",
            "dtypes: object(2)\n",
            "memory usage: 21.0+ KB\n",
            "<class 'pandas.core.frame.DataFrame'>\n",
            "RangeIndex: 1336 entries, 0 to 1335\n",
            "Data columns (total 2 columns):\n",
            " #   Column    Non-Null Count  Dtype \n",
            "---  ------    --------------  ----- \n",
            " 0   title     1336 non-null   object\n",
            " 1   category  1336 non-null   object\n",
            "dtypes: object(2)\n",
            "memory usage: 21.0+ KB\n",
            "vocabulary size before removing duplicates: 11089\n",
            "vocabulary size after removing duplicates: 7802\n",
            "sample vocabulary: ('McLarty', 'Better', 'hawkish', 'income', 'taxpayer', 'MS', 'hide', 'inflow', 'record', 'changed')\n",
            "max length is 18\n"
          ]
        }
      ]
    },
    {
      "cell_type": "code",
      "metadata": {
        "colab": {
          "base_uri": "https://localhost:8080/"
        },
        "id": "N_R8EAy1IPHc",
        "outputId": "0bb076ce-0696-413f-efa0-915bc41046ec"
      },
      "source": [
        "vectorize_layer = tf.keras.layers.TextVectorization(\n",
        " output_mode='int',\n",
        " vocabulary=tup_voc,\n",
        " output_sequence_length=max_len)\n",
        "\n",
        "print(f'vocabulary size is {vectorize_layer.vocabulary_size()}')"
      ],
      "execution_count": null,
      "outputs": [
        {
          "output_type": "stream",
          "name": "stdout",
          "text": [
            "vocabulary size is 7804\n"
          ]
        }
      ]
    },
    {
      "cell_type": "code",
      "metadata": {
        "id": "ySfeswMhgtYI"
      },
      "source": [
        "voc = vectorize_layer.get_vocabulary()\n",
        "word_index = dict(zip(voc, range(len(voc))))"
      ],
      "execution_count": null,
      "outputs": []
    },
    {
      "cell_type": "code",
      "metadata": {
        "colab": {
          "base_uri": "https://localhost:8080/"
        },
        "id": "_eGNTfv6bWlU",
        "outputId": "88720b93-0f49-47f6-9687-8d474fcfa508"
      },
      "source": [
        "%%time\n",
        "num_tokens = len(voc) + 2\n",
        "embedding_dim = 300\n",
        "hits = 0\n",
        "misses = 0\n",
        "\n",
        "#https://radimrehurek.com/gensim/models/keyedvectors.html#gensim.models.keyedvectors.KeyedVectors.get_vector\n",
        "\n",
        "# Prepare embedding matrix\n",
        "embedding_matrix = np.zeros((num_tokens, embedding_dim))\n",
        "for word, i in word_index.items():\n",
        "    try:\n",
        "        # Words not found in embedding index will be all-zeros.\n",
        "        # This includes the representation for \"padding\" and \"OOV\"\n",
        "        embedding_matrix[i] = w2v_model.get_vector(word)\n",
        "        hits += 1\n",
        "    except:\n",
        "        misses += 1\n",
        "        if misses < 7:\n",
        "            print(word)\n",
        "\n",
        "#    embedding_vector = w2v_model.get_vector(word)\n",
        "#    if embedding_vector is not None:\n",
        "#        embedding_matrix[i] = embedding_vector\n",
        "#        hits += 1\n",
        "#    else:\n",
        "#        misses += 1\n",
        "print(\"Converted %d words (%d misses)\" % (hits, misses))"
      ],
      "execution_count": null,
      "outputs": [
        {
          "output_type": "stream",
          "name": "stdout",
          "text": [
            "\n",
            "[UNK]\n",
            "brandeis\n",
            "S**t\n",
            "barclay\n",
            "Gox\n",
            "Converted 7664 words (140 misses)\n",
            "CPU times: user 40.6 ms, sys: 6.23 ms, total: 46.8 ms\n",
            "Wall time: 45.7 ms\n"
          ]
        }
      ]
    },
    {
      "cell_type": "code",
      "metadata": {
        "id": "Sqjy7bW159Ok"
      },
      "source": [
        "embedding_layer = tf.keras.layers.Embedding(\n",
        "    num_tokens,\n",
        "    embedding_dim,\n",
        "    embeddings_initializer=tf.keras.initializers.Constant(embedding_matrix),\n",
        "    trainable=False\n",
        ")"
      ],
      "execution_count": null,
      "outputs": []
    },
    {
      "cell_type": "code",
      "metadata": {
        "id": "r_mDjQmeHqi1",
        "colab": {
          "base_uri": "https://localhost:8080/"
        },
        "outputId": "ea4c8387-b2d5-40f8-9dc9-491299023cb6"
      },
      "source": [
        "#https://www.tensorflow.org/text/guide/word_embeddings\n",
        "\n",
        "# embeddingのデフォルトinitializerであるuniformはrandom_uniform\n",
        "# https://github.com/keras-team/keras/blob/v2.7.0/keras/initializers/__init__.py#L116\n",
        "\n",
        "# cuDNN を使うようにGRUは基本はデフォルト値\n",
        "# https://www.tensorflow.org/api_docs/python/tf/keras/layers/GRU/\n",
        "\n",
        "model = tf.keras.models.Sequential()\n",
        "model.add(tf.keras.Input(shape=(1,), dtype=tf.string))\n",
        "model.add(vectorize_layer)\n",
        "model.add(embedding_layer)\n",
        "#model.add(w2v_model.get_keras_embedding(train_embeddings=False))\n",
        "model.add(tf.keras.layers.GRU(50))\n",
        "model.add(tf.keras.layers.Dense(4, activation='softmax'))\n",
        "model.compile(loss='categorical_crossentropy', optimizer='sgd', metrics=['acc'])\n",
        "model.summary()"
      ],
      "execution_count": null,
      "outputs": [
        {
          "output_type": "stream",
          "name": "stdout",
          "text": [
            "Model: \"sequential_1\"\n",
            "_________________________________________________________________\n",
            " Layer (type)                Output Shape              Param #   \n",
            "=================================================================\n",
            " text_vectorization_1 (TextV  (None, 18)               0         \n",
            " ectorization)                                                   \n",
            "                                                                 \n",
            " embedding_1 (Embedding)     (None, 18, 300)           2341800   \n",
            "                                                                 \n",
            " gru_1 (GRU)                 (None, 50)                52800     \n",
            "                                                                 \n",
            " dense_1 (Dense)             (None, 4)                 204       \n",
            "                                                                 \n",
            "=================================================================\n",
            "Total params: 2,394,804\n",
            "Trainable params: 53,004\n",
            "Non-trainable params: 2,341,800\n",
            "_________________________________________________________________\n"
          ]
        }
      ]
    },
    {
      "cell_type": "code",
      "metadata": {
        "colab": {
          "base_uri": "https://localhost:8080/",
          "height": 533
        },
        "id": "8XIOoLFVL642",
        "outputId": "7edc16c6-71af-442e-ecdd-ff7ef88ba85e"
      },
      "source": [
        "tf.keras.utils.plot_model(model, show_shapes=True)"
      ],
      "execution_count": null,
      "outputs": [
        {
          "output_type": "execute_result",
          "data": {
            "image/png": "[encoded data removed]",
            "text/plain": [
              "<IPython.core.display.Image object>"
            ]
          },
          "metadata": {},
          "execution_count": 22
        }
      ]
    },
    {
      "cell_type": "code",
      "metadata": {
        "colab": {
          "base_uri": "https://localhost:8080/"
        },
        "id": "RHoesMkQOM1p",
        "outputId": "26465ecd-34a6-4508-aee9-d69e021a6745"
      },
      "source": [
        "%%time\n",
        "model.fit(X_train, y_train, epochs=100, validation_data=(X_valid, y_valid))"
      ],
      "execution_count": null,
      "outputs": [
        {
          "output_type": "stream",
          "name": "stdout",
          "text": [
            "Epoch 1/100\n",
            "334/334 [==============================] - 3s 9ms/step - loss: 1.1614 - acc: 0.4244 - val_loss: 1.1617 - val_acc: 0.4214\n",
            "Epoch 2/100\n",
            "334/334 [==============================] - 3s 9ms/step - loss: 1.1613 - acc: 0.4262 - val_loss: 1.1614 - val_acc: 0.4214\n",
            "Epoch 3/100\n",
            "334/334 [==============================] - 3s 9ms/step - loss: 1.1611 - acc: 0.4246 - val_loss: 1.1615 - val_acc: 0.4903\n",
            "Epoch 4/100\n",
            "334/334 [==============================] - 3s 9ms/step - loss: 1.1609 - acc: 0.4287 - val_loss: 1.1613 - val_acc: 0.4731\n",
            "Epoch 5/100\n",
            "334/334 [==============================] - 3s 9ms/step - loss: 1.1608 - acc: 0.4276 - val_loss: 1.1609 - val_acc: 0.4439\n",
            "Epoch 6/100\n",
            "334/334 [==============================] - 3s 9ms/step - loss: 1.1605 - acc: 0.4320 - val_loss: 1.1605 - val_acc: 0.4229\n",
            "Epoch 7/100\n",
            "334/334 [==============================] - 3s 9ms/step - loss: 1.1602 - acc: 0.4321 - val_loss: 1.1603 - val_acc: 0.4461\n",
            "Epoch 8/100\n",
            "334/334 [==============================] - 3s 9ms/step - loss: 1.1597 - acc: 0.4354 - val_loss: 1.1610 - val_acc: 0.3952\n",
            "Epoch 9/100\n",
            "334/334 [==============================] - 3s 9ms/step - loss: 1.1596 - acc: 0.4390 - val_loss: 1.1595 - val_acc: 0.4379\n",
            "Epoch 10/100\n",
            "334/334 [==============================] - 3s 9ms/step - loss: 1.1591 - acc: 0.4470 - val_loss: 1.1590 - val_acc: 0.4439\n",
            "Epoch 11/100\n",
            "334/334 [==============================] - 3s 9ms/step - loss: 1.1586 - acc: 0.4469 - val_loss: 1.1584 - val_acc: 0.4506\n",
            "Epoch 12/100\n",
            "334/334 [==============================] - 3s 9ms/step - loss: 1.1577 - acc: 0.4619 - val_loss: 1.1579 - val_acc: 0.4319\n",
            "Epoch 13/100\n",
            "334/334 [==============================] - 3s 9ms/step - loss: 1.1568 - acc: 0.4582 - val_loss: 1.1564 - val_acc: 0.4513\n",
            "Epoch 14/100\n",
            "334/334 [==============================] - 3s 9ms/step - loss: 1.1552 - acc: 0.4740 - val_loss: 1.1547 - val_acc: 0.4955\n",
            "Epoch 15/100\n",
            "334/334 [==============================] - 3s 9ms/step - loss: 1.1530 - acc: 0.4928 - val_loss: 1.1518 - val_acc: 0.4918\n",
            "Epoch 16/100\n",
            "334/334 [==============================] - 3s 9ms/step - loss: 1.1488 - acc: 0.5234 - val_loss: 1.1461 - val_acc: 0.4865\n",
            "Epoch 17/100\n",
            "334/334 [==============================] - 3s 9ms/step - loss: 1.1383 - acc: 0.5533 - val_loss: 1.1291 - val_acc: 0.5202\n",
            "Epoch 18/100\n",
            "334/334 [==============================] - 3s 9ms/step - loss: 1.0649 - acc: 0.6337 - val_loss: 0.9066 - val_acc: 0.6864\n",
            "Epoch 19/100\n",
            "334/334 [==============================] - 3s 9ms/step - loss: 0.7856 - acc: 0.7365 - val_loss: 0.7473 - val_acc: 0.7478\n",
            "Epoch 20/100\n",
            "334/334 [==============================] - 3s 9ms/step - loss: 0.7252 - acc: 0.7481 - val_loss: 0.7062 - val_acc: 0.7470\n",
            "Epoch 21/100\n",
            "334/334 [==============================] - 3s 9ms/step - loss: 0.7035 - acc: 0.7544 - val_loss: 0.7262 - val_acc: 0.7418\n",
            "Epoch 22/100\n",
            "334/334 [==============================] - 3s 9ms/step - loss: 0.6866 - acc: 0.7589 - val_loss: 0.6863 - val_acc: 0.7545\n",
            "Epoch 23/100\n",
            "334/334 [==============================] - 3s 9ms/step - loss: 0.6827 - acc: 0.7607 - val_loss: 0.7053 - val_acc: 0.7537\n",
            "Epoch 24/100\n",
            "334/334 [==============================] - 3s 9ms/step - loss: 0.6757 - acc: 0.7595 - val_loss: 0.6748 - val_acc: 0.7567\n",
            "Epoch 25/100\n",
            "334/334 [==============================] - 3s 9ms/step - loss: 0.6658 - acc: 0.7645 - val_loss: 0.6766 - val_acc: 0.7597\n",
            "Epoch 26/100\n",
            "334/334 [==============================] - 3s 9ms/step - loss: 0.6611 - acc: 0.7626 - val_loss: 0.6678 - val_acc: 0.7545\n",
            "Epoch 27/100\n",
            "334/334 [==============================] - 3s 9ms/step - loss: 0.6565 - acc: 0.7651 - val_loss: 0.6687 - val_acc: 0.7522\n",
            "Epoch 28/100\n",
            "334/334 [==============================] - 3s 9ms/step - loss: 0.6540 - acc: 0.7646 - val_loss: 0.6777 - val_acc: 0.7515\n",
            "Epoch 29/100\n",
            "334/334 [==============================] - 3s 9ms/step - loss: 0.6492 - acc: 0.7665 - val_loss: 0.6618 - val_acc: 0.7552\n",
            "Epoch 30/100\n",
            "334/334 [==============================] - 3s 9ms/step - loss: 0.6482 - acc: 0.7678 - val_loss: 0.6645 - val_acc: 0.7627\n",
            "Epoch 31/100\n",
            "334/334 [==============================] - 3s 9ms/step - loss: 0.6451 - acc: 0.7666 - val_loss: 0.6584 - val_acc: 0.7567\n",
            "Epoch 32/100\n",
            "334/334 [==============================] - 3s 9ms/step - loss: 0.6436 - acc: 0.7670 - val_loss: 0.6793 - val_acc: 0.7522\n",
            "Epoch 33/100\n",
            "334/334 [==============================] - 3s 9ms/step - loss: 0.6410 - acc: 0.7656 - val_loss: 0.6783 - val_acc: 0.7515\n",
            "Epoch 34/100\n",
            "334/334 [==============================] - 3s 9ms/step - loss: 0.6429 - acc: 0.7669 - val_loss: 0.6996 - val_acc: 0.7507\n",
            "Epoch 35/100\n",
            "334/334 [==============================] - 3s 9ms/step - loss: 0.6361 - acc: 0.7679 - val_loss: 0.6557 - val_acc: 0.7560\n",
            "Epoch 36/100\n",
            "334/334 [==============================] - 3s 9ms/step - loss: 0.6330 - acc: 0.7670 - val_loss: 0.6517 - val_acc: 0.7567\n",
            "Epoch 37/100\n",
            "334/334 [==============================] - 3s 9ms/step - loss: 0.6326 - acc: 0.7668 - val_loss: 0.6964 - val_acc: 0.7485\n",
            "Epoch 38/100\n",
            "334/334 [==============================] - 3s 9ms/step - loss: 0.6252 - acc: 0.7703 - val_loss: 0.6636 - val_acc: 0.7530\n",
            "Epoch 39/100\n",
            "334/334 [==============================] - 3s 9ms/step - loss: 0.6243 - acc: 0.7703 - val_loss: 0.6467 - val_acc: 0.7627\n",
            "Epoch 40/100\n",
            "334/334 [==============================] - 3s 9ms/step - loss: 0.6220 - acc: 0.7714 - val_loss: 0.6486 - val_acc: 0.7567\n",
            "Epoch 41/100\n",
            "334/334 [==============================] - 3s 9ms/step - loss: 0.6174 - acc: 0.7699 - val_loss: 0.6426 - val_acc: 0.7620\n",
            "Epoch 42/100\n",
            "334/334 [==============================] - 3s 9ms/step - loss: 0.6187 - acc: 0.7689 - val_loss: 0.6443 - val_acc: 0.7590\n",
            "Epoch 43/100\n",
            "334/334 [==============================] - 3s 9ms/step - loss: 0.6171 - acc: 0.7708 - val_loss: 0.6371 - val_acc: 0.7590\n",
            "Epoch 44/100\n",
            "334/334 [==============================] - 3s 9ms/step - loss: 0.6139 - acc: 0.7714 - val_loss: 0.6448 - val_acc: 0.7522\n",
            "Epoch 45/100\n",
            "334/334 [==============================] - 3s 9ms/step - loss: 0.6060 - acc: 0.7750 - val_loss: 0.6329 - val_acc: 0.7620\n",
            "Epoch 46/100\n",
            "334/334 [==============================] - 3s 9ms/step - loss: 0.6042 - acc: 0.7725 - val_loss: 0.6342 - val_acc: 0.7620\n",
            "Epoch 47/100\n",
            "334/334 [==============================] - 3s 9ms/step - loss: 0.5986 - acc: 0.7740 - val_loss: 0.6562 - val_acc: 0.7522\n",
            "Epoch 48/100\n",
            "334/334 [==============================] - 3s 9ms/step - loss: 0.5966 - acc: 0.7750 - val_loss: 0.6727 - val_acc: 0.7493\n",
            "Epoch 49/100\n",
            "334/334 [==============================] - 3s 9ms/step - loss: 0.5865 - acc: 0.7768 - val_loss: 0.6143 - val_acc: 0.7665\n",
            "Epoch 50/100\n",
            "334/334 [==============================] - 3s 9ms/step - loss: 0.5824 - acc: 0.7796 - val_loss: 0.6174 - val_acc: 0.7635\n",
            "Epoch 51/100\n",
            "334/334 [==============================] - 3s 9ms/step - loss: 0.5698 - acc: 0.7812 - val_loss: 0.6480 - val_acc: 0.7560\n",
            "Epoch 52/100\n",
            "334/334 [==============================] - 3s 9ms/step - loss: 0.5488 - acc: 0.7952 - val_loss: 0.6040 - val_acc: 0.7769\n",
            "Epoch 53/100\n",
            "334/334 [==============================] - 3s 9ms/step - loss: 0.5311 - acc: 0.8058 - val_loss: 0.5598 - val_acc: 0.7949\n",
            "Epoch 54/100\n",
            "334/334 [==============================] - 3s 9ms/step - loss: 0.5182 - acc: 0.8125 - val_loss: 0.5618 - val_acc: 0.7897\n",
            "Epoch 55/100\n",
            "334/334 [==============================] - 3s 9ms/step - loss: 0.5053 - acc: 0.8171 - val_loss: 0.5566 - val_acc: 0.7882\n",
            "Epoch 56/100\n",
            "334/334 [==============================] - 3s 9ms/step - loss: 0.4997 - acc: 0.8190 - val_loss: 0.5632 - val_acc: 0.7897\n",
            "Epoch 57/100\n",
            "334/334 [==============================] - 3s 9ms/step - loss: 0.4942 - acc: 0.8216 - val_loss: 0.5463 - val_acc: 0.7964\n",
            "Epoch 58/100\n",
            "334/334 [==============================] - 3s 9ms/step - loss: 0.4873 - acc: 0.8226 - val_loss: 0.5328 - val_acc: 0.8031\n",
            "Epoch 59/100\n",
            "334/334 [==============================] - 3s 9ms/step - loss: 0.4835 - acc: 0.8254 - val_loss: 0.5337 - val_acc: 0.8016\n",
            "Epoch 60/100\n",
            "334/334 [==============================] - 3s 9ms/step - loss: 0.4803 - acc: 0.8260 - val_loss: 0.5433 - val_acc: 0.8016\n",
            "Epoch 61/100\n",
            "334/334 [==============================] - 3s 9ms/step - loss: 0.4766 - acc: 0.8286 - val_loss: 0.5272 - val_acc: 0.8069\n",
            "Epoch 62/100\n",
            "334/334 [==============================] - 3s 9ms/step - loss: 0.4761 - acc: 0.8287 - val_loss: 0.5494 - val_acc: 0.8016\n",
            "Epoch 63/100\n",
            "334/334 [==============================] - 3s 9ms/step - loss: 0.4717 - acc: 0.8288 - val_loss: 0.5212 - val_acc: 0.8106\n",
            "Epoch 64/100\n",
            "334/334 [==============================] - 3s 9ms/step - loss: 0.4697 - acc: 0.8307 - val_loss: 0.5187 - val_acc: 0.8091\n",
            "Epoch 65/100\n",
            "334/334 [==============================] - 3s 9ms/step - loss: 0.4667 - acc: 0.8337 - val_loss: 0.5189 - val_acc: 0.8099\n",
            "Epoch 66/100\n",
            "334/334 [==============================] - 3s 9ms/step - loss: 0.4650 - acc: 0.8331 - val_loss: 0.5164 - val_acc: 0.8121\n",
            "Epoch 67/100\n",
            "334/334 [==============================] - 3s 9ms/step - loss: 0.4619 - acc: 0.8360 - val_loss: 0.5260 - val_acc: 0.8129\n",
            "Epoch 68/100\n",
            "334/334 [==============================] - 3s 9ms/step - loss: 0.4613 - acc: 0.8338 - val_loss: 0.5200 - val_acc: 0.8091\n",
            "Epoch 69/100\n",
            "334/334 [==============================] - 3s 9ms/step - loss: 0.4573 - acc: 0.8373 - val_loss: 0.5166 - val_acc: 0.8136\n",
            "Epoch 70/100\n",
            "334/334 [==============================] - 3s 9ms/step - loss: 0.4559 - acc: 0.8372 - val_loss: 0.5235 - val_acc: 0.8136\n",
            "Epoch 71/100\n",
            "334/334 [==============================] - 3s 9ms/step - loss: 0.4550 - acc: 0.8354 - val_loss: 0.5444 - val_acc: 0.8114\n",
            "Epoch 72/100\n",
            "334/334 [==============================] - 3s 9ms/step - loss: 0.4518 - acc: 0.8382 - val_loss: 0.5337 - val_acc: 0.8151\n",
            "Epoch 73/100\n",
            "334/334 [==============================] - 3s 9ms/step - loss: 0.4520 - acc: 0.8368 - val_loss: 0.5167 - val_acc: 0.8084\n",
            "Epoch 74/100\n",
            "334/334 [==============================] - 3s 9ms/step - loss: 0.4504 - acc: 0.8387 - val_loss: 0.5113 - val_acc: 0.8151\n",
            "Epoch 75/100\n",
            "334/334 [==============================] - 3s 9ms/step - loss: 0.4518 - acc: 0.8374 - val_loss: 0.5233 - val_acc: 0.8076\n",
            "Epoch 76/100\n",
            "334/334 [==============================] - 3s 9ms/step - loss: 0.4456 - acc: 0.8435 - val_loss: 0.5196 - val_acc: 0.8159\n",
            "Epoch 77/100\n",
            "334/334 [==============================] - 3s 9ms/step - loss: 0.4449 - acc: 0.8441 - val_loss: 0.5093 - val_acc: 0.8121\n",
            "Epoch 78/100\n",
            "334/334 [==============================] - 3s 9ms/step - loss: 0.4432 - acc: 0.8401 - val_loss: 0.5053 - val_acc: 0.8196\n",
            "Epoch 79/100\n",
            "334/334 [==============================] - 3s 9ms/step - loss: 0.4443 - acc: 0.8387 - val_loss: 0.5071 - val_acc: 0.8174\n",
            "Epoch 80/100\n",
            "334/334 [==============================] - 3s 9ms/step - loss: 0.4412 - acc: 0.8432 - val_loss: 0.5203 - val_acc: 0.8084\n",
            "Epoch 81/100\n",
            "334/334 [==============================] - 3s 9ms/step - loss: 0.4378 - acc: 0.8418 - val_loss: 0.5021 - val_acc: 0.8166\n",
            "Epoch 82/100\n",
            "334/334 [==============================] - 3s 9ms/step - loss: 0.4410 - acc: 0.8428 - val_loss: 0.5175 - val_acc: 0.8144\n",
            "Epoch 83/100\n",
            "334/334 [==============================] - 3s 9ms/step - loss: 0.4363 - acc: 0.8470 - val_loss: 0.5551 - val_acc: 0.8099\n",
            "Epoch 84/100\n",
            "334/334 [==============================] - 3s 9ms/step - loss: 0.4353 - acc: 0.8471 - val_loss: 0.5209 - val_acc: 0.8159\n",
            "Epoch 85/100\n",
            "334/334 [==============================] - 3s 9ms/step - loss: 0.4324 - acc: 0.8471 - val_loss: 0.5209 - val_acc: 0.8226\n",
            "Epoch 86/100\n",
            "334/334 [==============================] - 3s 9ms/step - loss: 0.4306 - acc: 0.8478 - val_loss: 0.5002 - val_acc: 0.8196\n",
            "Epoch 87/100\n",
            "334/334 [==============================] - 3s 9ms/step - loss: 0.4296 - acc: 0.8493 - val_loss: 0.4976 - val_acc: 0.8181\n",
            "Epoch 88/100\n",
            "334/334 [==============================] - 3s 9ms/step - loss: 0.4319 - acc: 0.8469 - val_loss: 0.5122 - val_acc: 0.8204\n",
            "Epoch 89/100\n",
            "334/334 [==============================] - 3s 9ms/step - loss: 0.4282 - acc: 0.8497 - val_loss: 0.4973 - val_acc: 0.8196\n",
            "Epoch 90/100\n",
            "334/334 [==============================] - 3s 9ms/step - loss: 0.4270 - acc: 0.8491 - val_loss: 0.5178 - val_acc: 0.8151\n",
            "Epoch 91/100\n",
            "334/334 [==============================] - 3s 9ms/step - loss: 0.4290 - acc: 0.8510 - val_loss: 0.5001 - val_acc: 0.8151\n",
            "Epoch 92/100\n",
            "334/334 [==============================] - 3s 9ms/step - loss: 0.4255 - acc: 0.8506 - val_loss: 0.5131 - val_acc: 0.8121\n",
            "Epoch 93/100\n",
            "334/334 [==============================] - 3s 9ms/step - loss: 0.4210 - acc: 0.8527 - val_loss: 0.5330 - val_acc: 0.8219\n",
            "Epoch 94/100\n",
            "334/334 [==============================] - 3s 9ms/step - loss: 0.4219 - acc: 0.8528 - val_loss: 0.5237 - val_acc: 0.8189\n",
            "Epoch 95/100\n",
            "334/334 [==============================] - 3s 9ms/step - loss: 0.4201 - acc: 0.8524 - val_loss: 0.5032 - val_acc: 0.8204\n",
            "Epoch 96/100\n",
            "334/334 [==============================] - 3s 9ms/step - loss: 0.4167 - acc: 0.8520 - val_loss: 0.5015 - val_acc: 0.8181\n",
            "Epoch 97/100\n",
            "334/334 [==============================] - 3s 9ms/step - loss: 0.4163 - acc: 0.8520 - val_loss: 0.4983 - val_acc: 0.8211\n",
            "Epoch 98/100\n",
            "334/334 [==============================] - 3s 9ms/step - loss: 0.4178 - acc: 0.8520 - val_loss: 0.4966 - val_acc: 0.8181\n",
            "Epoch 99/100\n",
            "334/334 [==============================] - 3s 9ms/step - loss: 0.4122 - acc: 0.8530 - val_loss: 0.4912 - val_acc: 0.8219\n",
            "Epoch 100/100\n",
            "334/334 [==============================] - 3s 9ms/step - loss: 0.4154 - acc: 0.8552 - val_loss: 0.5030 - val_acc: 0.8263\n",
            "CPU times: user 4min 55s, sys: 35.6 s, total: 5min 31s\n",
            "Wall time: 4min 59s\n"
          ]
        },
        {
          "output_type": "execute_result",
          "data": {
            "text/plain": [
              "<keras.callbacks.History at 0x7ff88e92f290>"
            ]
          },
          "metadata": {},
          "execution_count": 24
        }
      ]
    },
    {
      "cell_type": "code",
      "metadata": {
        "id": "x95kP4_gOQH0",
        "colab": {
          "base_uri": "https://localhost:8080/"
        },
        "outputId": "66a35dad-69c2-411b-e477-5a4641adc8ec"
      },
      "source": [
        "model.evaluate(X_test, y_test)"
      ],
      "execution_count": null,
      "outputs": [
        {
          "output_type": "stream",
          "name": "stdout",
          "text": [
            "42/42 [==============================] - 0s 5ms/step - loss: 0.4855 - acc: 0.8234\n"
          ]
        },
        {
          "output_type": "execute_result",
          "data": {
            "text/plain": [
              "[0.48549962043762207, 0.8233532905578613]"
            ]
          },
          "metadata": {},
          "execution_count": 25
        }
      ]
    }
  ]
}