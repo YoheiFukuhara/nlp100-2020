{
  "nbformat": 4,
  "nbformat_minor": 0,
  "metadata": {
    "accelerator": "GPU",
    "colab": {
      "name": "87.確率的勾配降下法によるCNNの学習.ipynb",
      "provenance": [],
      "collapsed_sections": [],
      "authorship_tag": "ABX9TyPzUy+CbIlw0znjiDcCzOIH",
      "include_colab_link": true
    },
    "kernelspec": {
      "display_name": "Python 3",
      "name": "python3"
    },
    "language_info": {
      "name": "python"
    }
  },
  "cells": [
    {
      "cell_type": "markdown",
      "metadata": {
        "id": "view-in-github",
        "colab_type": "text"
      },
      "source": [
        "<a href=\"https://colab.research.google.com/github/YoheiFukuhara/nlp100-2020/blob/main/09.RNN%2CCNN/87_%E7%A2%BA%E7%8E%87%E7%9A%84%E5%8B%BE%E9%85%8D%E9%99%8D%E4%B8%8B%E6%B3%95%E3%81%AB%E3%82%88%E3%82%8BCNN%E3%81%AE%E5%AD%A6%E7%BF%92.ipynb\" target=\"_parent\"><img src=\"https://colab.research.google.com/assets/colab-badge.svg\" alt=\"Open In Colab\"/></a>"
      ]
    },
    {
      "cell_type": "markdown",
      "metadata": {
        "id": "rSulESOsD6hv"
      },
      "source": [
        "確率的勾配降下法（SGD: Stochastic Gradient Descent）を用いて，問題86で構築したモデルを学習せよ．訓練データ上の損失と正解率，評価データ上の損失と正解率を表示しながらモデルを学習し，適当な基準（例えば10エポックなど）で終了させよ．"
      ]
    },
    {
      "cell_type": "code",
      "metadata": {
        "colab": {
          "base_uri": "https://localhost:8080/"
        },
        "id": "smIMO5cGG3pf",
        "outputId": "d5f811f0-4953-4766-82cb-268c1833f835"
      },
      "source": [
        "import numpy as np\n",
        "import nltk\n",
        "from gensim.models import KeyedVectors\n",
        "import pandas as pd\n",
        "import tensorflow as tf\n",
        "from google.colab import drive\n",
        "\n",
        "drive.mount('/content/drive')"
      ],
      "execution_count": null,
      "outputs": [
        {
          "output_type": "stream",
          "name": "stdout",
          "text": [
            "Mounted at /content/drive\n"
          ]
        }
      ]
    },
    {
      "cell_type": "code",
      "metadata": {
        "colab": {
          "base_uri": "https://localhost:8080/"
        },
        "id": "9Zfcn75JDUbC",
        "outputId": "372e3e8b-3a2f-41c5-f755-b6353deed33f"
      },
      "source": [
        "!python --version\n",
        "!pip show numpy gensim google tensorflow nltk pandas"
      ],
      "execution_count": null,
      "outputs": [
        {
          "output_type": "stream",
          "name": "stdout",
          "text": [
            "Python 3.7.12\n",
            "Name: numpy\n",
            "Version: 1.19.5\n",
            "Summary: NumPy is the fundamental package for array computing with Python.\n",
            "Home-page: https://www.numpy.org\n",
            "Author: Travis E. Oliphant et al.\n",
            "Author-email: None\n",
            "License: BSD\n",
            "Location: /usr/local/lib/python3.7/dist-packages\n",
            "Requires: \n",
            "Required-by: yellowbrick, xgboost, xarray, wordcloud, torchvision, torchtext, tifffile, thinc, Theano-PyMC, tensorflow, tensorflow-probability, tensorflow-hub, tensorflow-datasets, tensorboard, tables, statsmodels, spacy, sklearn-pandas, seaborn, scs, scipy, scikit-learn, scikit-image, resampy, qdldl, PyWavelets, python-louvain, pystan, pysndfile, pymc3, pyerfa, pyemd, pyarrow, plotnine, patsy, pandas, osqp, opt-einsum, opencv-python, opencv-contrib-python, numexpr, numba, nibabel, netCDF4, moviepy, mlxtend, mizani, missingno, matplotlib, matplotlib-venn, lightgbm, librosa, Keras-Preprocessing, kapre, jpeg4py, jaxlib, jax, imgaug, imbalanced-learn, imageio, hyperopt, holoviews, h5py, gym, gensim, folium, fix-yahoo-finance, fbprophet, fastprogress, fastdtw, fastai, fa2, ecos, daft, cvxpy, cupy-cuda111, cufflinks, cmdstanpy, cftime, Bottleneck, bokeh, blis, autograd, atari-py, astropy, arviz, altair, albumentations\n",
            "---\n",
            "Name: gensim\n",
            "Version: 3.6.0\n",
            "Summary: Python framework for fast Vector Space Modelling\n",
            "Home-page: http://radimrehurek.com/gensim\n",
            "Author: Radim Rehurek\n",
            "Author-email: me@radimrehurek.com\n",
            "License: LGPLv2.1\n",
            "Location: /usr/local/lib/python3.7/dist-packages\n",
            "Requires: smart-open, six, numpy, scipy\n",
            "Required-by: \n",
            "---\n",
            "Name: google\n",
            "Version: 2.0.3\n",
            "Summary: Python bindings to the Google search engine.\n",
            "Home-page: http://breakingcode.wordpress.com/\n",
            "Author: Mario Vilas\n",
            "Author-email: mvilas@gmail.com\n",
            "License: UNKNOWN\n",
            "Location: /usr/local/lib/python3.7/dist-packages\n",
            "Requires: beautifulsoup4\n",
            "Required-by: \n",
            "---\n",
            "Name: tensorflow\n",
            "Version: 2.7.0\n",
            "Summary: TensorFlow is an open source machine learning framework for everyone.\n",
            "Home-page: https://www.tensorflow.org/\n",
            "Author: Google Inc.\n",
            "Author-email: packages@tensorflow.org\n",
            "License: Apache 2.0\n",
            "Location: /usr/local/lib/python3.7/dist-packages\n",
            "Requires: absl-py, six, numpy, gast, keras, termcolor, google-pasta, h5py, tensorboard, libclang, wrapt, tensorflow-estimator, typing-extensions, flatbuffers, astunparse, protobuf, tensorflow-io-gcs-filesystem, opt-einsum, wheel, keras-preprocessing, grpcio\n",
            "Required-by: kapre\n",
            "---\n",
            "Name: nltk\n",
            "Version: 3.2.5\n",
            "Summary: Natural Language Toolkit\n",
            "Home-page: http://nltk.org/\n",
            "Author: Steven Bird\n",
            "Author-email: stevenbird1@gmail.com\n",
            "License: Apache License, Version 2.0\n",
            "Location: /usr/local/lib/python3.7/dist-packages\n",
            "Requires: six\n",
            "Required-by: textblob\n",
            "---\n",
            "Name: pandas\n",
            "Version: 1.1.5\n",
            "Summary: Powerful data structures for data analysis, time series, and statistics\n",
            "Home-page: https://pandas.pydata.org\n",
            "Author: None\n",
            "Author-email: None\n",
            "License: BSD\n",
            "Location: /usr/local/lib/python3.7/dist-packages\n",
            "Requires: numpy, python-dateutil, pytz\n",
            "Required-by: xarray, vega-datasets, statsmodels, sklearn-pandas, seaborn, pymc3, plotnine, pandas-profiling, pandas-gbq, pandas-datareader, mlxtend, mizani, holoviews, gspread-dataframe, google-colab, fix-yahoo-finance, fbprophet, fastai, cufflinks, cmdstanpy, arviz, altair\n"
          ]
        }
      ]
    },
    {
      "cell_type": "code",
      "metadata": {
        "id": "cJPjoNjhHTc3",
        "colab": {
          "base_uri": "https://localhost:8080/"
        },
        "outputId": "5dfdbf74-5519-465e-e61c-7731b1daa2ac"
      },
      "source": [
        "%%time\n",
        "BASE_PATH = '/content/drive/MyDrive/ColabNotebooks/ML/NLP100_2020/'\n",
        "max_len = 0\n",
        "vocabulary = []\n",
        "w2v_model = KeyedVectors.load_word2vec_format(BASE_PATH+'07.WordVector/input/GoogleNews-vectors-negative300.bin.gz', binary=True)"
      ],
      "execution_count": null,
      "outputs": [
        {
          "output_type": "stream",
          "name": "stdout",
          "text": [
            "CPU times: user 2min 20s, sys: 6.04 s, total: 2min 26s\n",
            "Wall time: 2min 30s\n"
          ]
        }
      ]
    },
    {
      "cell_type": "code",
      "metadata": {
        "id": "BGk9QJ-sHlPk"
      },
      "source": [
        "def read_dataset(type_):\n",
        "    global max_len\n",
        "    global vocabulary\n",
        "    df = pd.read_table(BASE_PATH+'06.MachineLearning/'+type_+'.feature.txt')\n",
        "    df.info()\n",
        "    sr_title = df['title'].str.split().explode()\n",
        "    max_len_ = df['title'].map(lambda x: len(x.split())).max()\n",
        "    if max_len < max_len_:\n",
        "        max_len = max_len_\n",
        "    if len(vocabulary) == 0:\n",
        "        vocabulary = [k for k, v in nltk.FreqDist(sr_title).items() if v > 1]\n",
        "    else:\n",
        "        vocabulary.extend([k for k, v in nltk.FreqDist(sr_title).items() if v > 1])\n",
        "    y = df['category'].replace({'b':0, 't':1, 'e':2, 'm':3})\n",
        "    return df['title'], tf.keras.utils.to_categorical(y, dtype='int32')  # 4値分類なので訓練・検証・テスト共通でone-hot化"
      ],
      "execution_count": null,
      "outputs": []
    },
    {
      "cell_type": "code",
      "metadata": {
        "colab": {
          "base_uri": "https://localhost:8080/"
        },
        "id": "OAx17LNLHmtI",
        "outputId": "d1a84eff-82d8-495f-84cd-b6e67f11e6f2"
      },
      "source": [
        "X_train, y_train = read_dataset('train')\n",
        "X_valid, y_valid = read_dataset('valid')\n",
        "X_test, y_test = read_dataset('test') # あまりこだわらずにテストデータセットも追加\n",
        "\n",
        "# setで重複削除し、タプル形式に設定\n",
        "tup_voc = tuple(set(vocabulary))\n",
        "\n",
        "print(f'vocabulary size before removing duplicates: {len(vocabulary)}')\n",
        "print(f'vocabulary size after removing duplicates: {len(tup_voc)}')\n",
        "print(f'sample vocabulary: {tup_voc[:10]}')\n",
        "print(f'max length is {max_len}')"
      ],
      "execution_count": null,
      "outputs": [
        {
          "output_type": "stream",
          "name": "stdout",
          "text": [
            "<class 'pandas.core.frame.DataFrame'>\n",
            "RangeIndex: 10684 entries, 0 to 10683\n",
            "Data columns (total 2 columns):\n",
            " #   Column    Non-Null Count  Dtype \n",
            "---  ------    --------------  ----- \n",
            " 0   title     10684 non-null  object\n",
            " 1   category  10684 non-null  object\n",
            "dtypes: object(2)\n",
            "memory usage: 167.1+ KB\n",
            "<class 'pandas.core.frame.DataFrame'>\n",
            "RangeIndex: 1336 entries, 0 to 1335\n",
            "Data columns (total 2 columns):\n",
            " #   Column    Non-Null Count  Dtype \n",
            "---  ------    --------------  ----- \n",
            " 0   title     1336 non-null   object\n",
            " 1   category  1336 non-null   object\n",
            "dtypes: object(2)\n",
            "memory usage: 21.0+ KB\n",
            "<class 'pandas.core.frame.DataFrame'>\n",
            "RangeIndex: 1336 entries, 0 to 1335\n",
            "Data columns (total 2 columns):\n",
            " #   Column    Non-Null Count  Dtype \n",
            "---  ------    --------------  ----- \n",
            " 0   title     1336 non-null   object\n",
            " 1   category  1336 non-null   object\n",
            "dtypes: object(2)\n",
            "memory usage: 21.0+ KB\n",
            "vocabulary size before removing duplicates: 11089\n",
            "vocabulary size after removing duplicates: 7802\n",
            "sample vocabulary: ('Musk', 'market', 'Fed', 'scientist', 'Degeneres', 'German', 'Robert', 'Offer', 'FCC', 'sit')\n",
            "max length is 18\n"
          ]
        }
      ]
    },
    {
      "cell_type": "code",
      "metadata": {
        "colab": {
          "base_uri": "https://localhost:8080/"
        },
        "id": "N_R8EAy1IPHc",
        "outputId": "529f6f4d-eae0-4773-c7a3-330d7ed91f46"
      },
      "source": [
        "vectorize_layer = tf.keras.layers.TextVectorization(\n",
        " output_mode='int',\n",
        " vocabulary=tup_voc,\n",
        " output_sequence_length=max_len)\n",
        "\n",
        "print(f'vocabulary size is {vectorize_layer.vocabulary_size()}')"
      ],
      "execution_count": null,
      "outputs": [
        {
          "output_type": "stream",
          "name": "stdout",
          "text": [
            "vocabulary size is 7804\n"
          ]
        }
      ]
    },
    {
      "cell_type": "code",
      "metadata": {
        "colab": {
          "base_uri": "https://localhost:8080/"
        },
        "id": "_eGNTfv6bWlU",
        "outputId": "1369823c-11f4-49e1-8365-b8d65841c025"
      },
      "source": [
        "%%time\n",
        "embedding_dim = 300\n",
        "hits = 0\n",
        "misses = 0\n",
        "\n",
        "embedding_matrix = np.zeros((vectorize_layer.vocabulary_size(), embedding_dim))\n",
        "for i, word in enumerate(vectorize_layer.get_vocabulary()):\n",
        "    try:\n",
        "        embedding_matrix[i] = w2v_model.get_vector(word)\n",
        "        hits += 1\n",
        "        # Words not found in embedding index will be all-zeros.\n",
        "        # This includes the representation for \"padding\" and \"OOV\"\n",
        "    except:\n",
        "        misses += 1\n",
        "        if misses < 7:  # Show 6 words as example\n",
        "            print(word)"
      ],
      "execution_count": null,
      "outputs": [
        {
          "output_type": "stream",
          "name": "stdout",
          "text": [
            "\n",
            "[UNK]\n",
            "axe\n",
            "mende\n",
            "at&t\n",
            "eia\n",
            "CPU times: user 49.2 ms, sys: 10.1 ms, total: 59.3 ms\n",
            "Wall time: 72.9 ms\n"
          ]
        }
      ]
    },
    {
      "cell_type": "code",
      "metadata": {
        "id": "Sqjy7bW159Ok"
      },
      "source": [
        "embedding_layer = tf.keras.layers.Embedding(\n",
        "    vectorize_layer.vocabulary_size(),\n",
        "    embedding_dim,\n",
        "    embeddings_initializer=tf.keras.initializers.Constant(embedding_matrix),\n",
        "    trainable=False\n",
        ")"
      ],
      "execution_count": null,
      "outputs": []
    },
    {
      "cell_type": "code",
      "metadata": {
        "colab": {
          "base_uri": "https://localhost:8080/"
        },
        "id": "r_mDjQmeHqi1",
        "outputId": "b0476132-d411-40a2-d890-201137788c47"
      },
      "source": [
        "model = tf.keras.models.Sequential()\n",
        "model.add(tf.keras.Input(shape=(1,), dtype=tf.string))\n",
        "model.add(vectorize_layer)\n",
        "model.add(embedding_layer)\n",
        "model.add(tf.keras.layers.Reshape((max_len * embedding_dim, 1)))\n",
        "model.add(tf.keras.layers.Conv1D(filters=8, \n",
        "                                 kernel_size=embedding_dim*3, \n",
        "                                 padding='same',\n",
        "                                 strides=embedding_dim,\n",
        "                                 activation='relu'))\n",
        "model.add(tf.keras.layers.MaxPooling1D(pool_size=2))\n",
        "model.add(tf.keras.layers.Flatten())\n",
        "model.add(tf.keras.layers.Dense(4, activation='softmax'))\n",
        "model.compile(loss='categorical_crossentropy', optimizer='sgd', metrics=['acc'])\n",
        "model.summary()"
      ],
      "execution_count": null,
      "outputs": [
        {
          "output_type": "stream",
          "name": "stdout",
          "text": [
            "Model: \"sequential_18\"\n",
            "_________________________________________________________________\n",
            " Layer (type)                Output Shape              Param #   \n",
            "=================================================================\n",
            " text_vectorization (TextVec  (None, 18)               0         \n",
            " torization)                                                     \n",
            "                                                                 \n",
            " embedding (Embedding)       (None, 18, 300)           2341200   \n",
            "                                                                 \n",
            " reshape_11 (Reshape)        (None, 5400, 1)           0         \n",
            "                                                                 \n",
            " conv1d_8 (Conv1D)           (None, 18, 8)             7208      \n",
            "                                                                 \n",
            " max_pooling1d_7 (MaxPooling  (None, 9, 8)             0         \n",
            " 1D)                                                             \n",
            "                                                                 \n",
            " flatten_8 (Flatten)         (None, 72)                0         \n",
            "                                                                 \n",
            " dense_8 (Dense)             (None, 4)                 292       \n",
            "                                                                 \n",
            "=================================================================\n",
            "Total params: 2,348,700\n",
            "Trainable params: 7,500\n",
            "Non-trainable params: 2,341,200\n",
            "_________________________________________________________________\n"
          ]
        }
      ]
    },
    {
      "cell_type": "code",
      "metadata": {
        "colab": {
          "base_uri": "https://localhost:8080/",
          "height": 865
        },
        "id": "8XIOoLFVL642",
        "outputId": "8a8a6a13-5133-4bd2-8eb9-1adaf51af3a1"
      },
      "source": [
        "tf.keras.utils.plot_model(model, show_shapes=True)"
      ],
      "execution_count": null,
      "outputs": [
        {
          "output_type": "execute_result",
          "data": {
            "image/png": "[encoded data removed]",
            "text/plain": [
              "<IPython.core.display.Image object>"
            ]
          },
          "metadata": {},
          "execution_count": 46
        }
      ]
    },
    {
      "cell_type": "code",
      "metadata": {
        "id": "RHoesMkQOM1p",
        "colab": {
          "base_uri": "https://localhost:8080/"
        },
        "outputId": "3c63f600-1011-4702-888f-d877cc0f16c4"
      },
      "source": [
        "%%time\n",
        "model.fit(X_train, y_train, epochs=100, validation_data=(X_valid, y_valid),\n",
        "          callbacks=[tf.keras.callbacks.EarlyStopping(patience=5, restore_best_weights=False)])"
      ],
      "execution_count": null,
      "outputs": [
        {
          "output_type": "stream",
          "name": "stdout",
          "text": [
            "Epoch 1/100\n",
            "334/334 [==============================] - 4s 9ms/step - loss: 1.1798 - acc: 0.5131 - val_loss: 1.0692 - val_acc: 0.6729\n",
            "Epoch 2/100\n",
            "334/334 [==============================] - 3s 8ms/step - loss: 0.9628 - acc: 0.7381 - val_loss: 0.8597 - val_acc: 0.7515\n",
            "Epoch 3/100\n",
            "334/334 [==============================] - 3s 8ms/step - loss: 0.7901 - acc: 0.7471 - val_loss: 0.7428 - val_acc: 0.7530\n",
            "Epoch 4/100\n",
            "334/334 [==============================] - 3s 8ms/step - loss: 0.7038 - acc: 0.7547 - val_loss: 0.6838 - val_acc: 0.7545\n",
            "Epoch 5/100\n",
            "334/334 [==============================] - 3s 8ms/step - loss: 0.6527 - acc: 0.7601 - val_loss: 0.6468 - val_acc: 0.7620\n",
            "Epoch 6/100\n",
            "334/334 [==============================] - 3s 8ms/step - loss: 0.6141 - acc: 0.7704 - val_loss: 0.6182 - val_acc: 0.7650\n",
            "Epoch 7/100\n",
            "334/334 [==============================] - 3s 8ms/step - loss: 0.5812 - acc: 0.7839 - val_loss: 0.5946 - val_acc: 0.7792\n",
            "Epoch 8/100\n",
            "334/334 [==============================] - 3s 8ms/step - loss: 0.5523 - acc: 0.8006 - val_loss: 0.5718 - val_acc: 0.7889\n",
            "Epoch 9/100\n",
            "334/334 [==============================] - 3s 8ms/step - loss: 0.5265 - acc: 0.8136 - val_loss: 0.5536 - val_acc: 0.7979\n",
            "Epoch 10/100\n",
            "334/334 [==============================] - 3s 8ms/step - loss: 0.5045 - acc: 0.8248 - val_loss: 0.5404 - val_acc: 0.8024\n",
            "Epoch 11/100\n",
            "334/334 [==============================] - 3s 8ms/step - loss: 0.4860 - acc: 0.8324 - val_loss: 0.5264 - val_acc: 0.8174\n",
            "Epoch 12/100\n",
            "334/334 [==============================] - 3s 8ms/step - loss: 0.4692 - acc: 0.8397 - val_loss: 0.5159 - val_acc: 0.8234\n",
            "Epoch 13/100\n",
            "334/334 [==============================] - 3s 8ms/step - loss: 0.4557 - acc: 0.8444 - val_loss: 0.5062 - val_acc: 0.8286\n",
            "Epoch 14/100\n",
            "334/334 [==============================] - 3s 8ms/step - loss: 0.4439 - acc: 0.8483 - val_loss: 0.4990 - val_acc: 0.8286\n",
            "Epoch 15/100\n",
            "334/334 [==============================] - 3s 8ms/step - loss: 0.4333 - acc: 0.8512 - val_loss: 0.4934 - val_acc: 0.8338\n",
            "Epoch 16/100\n",
            "334/334 [==============================] - 3s 8ms/step - loss: 0.4238 - acc: 0.8545 - val_loss: 0.4888 - val_acc: 0.8301\n",
            "Epoch 17/100\n",
            "334/334 [==============================] - 3s 8ms/step - loss: 0.4159 - acc: 0.8574 - val_loss: 0.4838 - val_acc: 0.8308\n",
            "Epoch 18/100\n",
            "334/334 [==============================] - 3s 8ms/step - loss: 0.4085 - acc: 0.8607 - val_loss: 0.4811 - val_acc: 0.8323\n",
            "Epoch 19/100\n",
            "334/334 [==============================] - 3s 8ms/step - loss: 0.4020 - acc: 0.8624 - val_loss: 0.4764 - val_acc: 0.8376\n",
            "Epoch 20/100\n",
            "334/334 [==============================] - 3s 8ms/step - loss: 0.3955 - acc: 0.8650 - val_loss: 0.4735 - val_acc: 0.8383\n",
            "Epoch 21/100\n",
            "334/334 [==============================] - 3s 8ms/step - loss: 0.3901 - acc: 0.8675 - val_loss: 0.4737 - val_acc: 0.8338\n",
            "Epoch 22/100\n",
            "334/334 [==============================] - 3s 8ms/step - loss: 0.3842 - acc: 0.8690 - val_loss: 0.4682 - val_acc: 0.8353\n",
            "Epoch 23/100\n",
            "334/334 [==============================] - 3s 8ms/step - loss: 0.3795 - acc: 0.8700 - val_loss: 0.4672 - val_acc: 0.8376\n",
            "Epoch 24/100\n",
            "334/334 [==============================] - 3s 8ms/step - loss: 0.3745 - acc: 0.8723 - val_loss: 0.4640 - val_acc: 0.8398\n",
            "Epoch 25/100\n",
            "334/334 [==============================] - 3s 8ms/step - loss: 0.3705 - acc: 0.8727 - val_loss: 0.4642 - val_acc: 0.8368\n",
            "Epoch 26/100\n",
            "334/334 [==============================] - 3s 8ms/step - loss: 0.3663 - acc: 0.8752 - val_loss: 0.4617 - val_acc: 0.8376\n",
            "Epoch 27/100\n",
            "334/334 [==============================] - 3s 8ms/step - loss: 0.3621 - acc: 0.8779 - val_loss: 0.4627 - val_acc: 0.8428\n",
            "Epoch 28/100\n",
            "334/334 [==============================] - 3s 8ms/step - loss: 0.3580 - acc: 0.8788 - val_loss: 0.4632 - val_acc: 0.8473\n",
            "Epoch 29/100\n",
            "334/334 [==============================] - 3s 8ms/step - loss: 0.3540 - acc: 0.8804 - val_loss: 0.4599 - val_acc: 0.8451\n",
            "Epoch 30/100\n",
            "334/334 [==============================] - 3s 8ms/step - loss: 0.3508 - acc: 0.8798 - val_loss: 0.4591 - val_acc: 0.8406\n",
            "Epoch 31/100\n",
            "334/334 [==============================] - 3s 8ms/step - loss: 0.3469 - acc: 0.8826 - val_loss: 0.4582 - val_acc: 0.8451\n",
            "Epoch 32/100\n",
            "334/334 [==============================] - 3s 8ms/step - loss: 0.3439 - acc: 0.8838 - val_loss: 0.4564 - val_acc: 0.8458\n",
            "Epoch 33/100\n",
            "334/334 [==============================] - 3s 8ms/step - loss: 0.3402 - acc: 0.8848 - val_loss: 0.4634 - val_acc: 0.8421\n",
            "Epoch 34/100\n",
            "334/334 [==============================] - 3s 8ms/step - loss: 0.3378 - acc: 0.8856 - val_loss: 0.4580 - val_acc: 0.8436\n",
            "Epoch 35/100\n",
            "334/334 [==============================] - 3s 8ms/step - loss: 0.3349 - acc: 0.8865 - val_loss: 0.4555 - val_acc: 0.8458\n",
            "Epoch 36/100\n",
            "334/334 [==============================] - 3s 8ms/step - loss: 0.3315 - acc: 0.8870 - val_loss: 0.4553 - val_acc: 0.8443\n",
            "Epoch 37/100\n",
            "334/334 [==============================] - 3s 8ms/step - loss: 0.3287 - acc: 0.8904 - val_loss: 0.4577 - val_acc: 0.8398\n",
            "Epoch 38/100\n",
            "334/334 [==============================] - 3s 8ms/step - loss: 0.3258 - acc: 0.8904 - val_loss: 0.4570 - val_acc: 0.8436\n",
            "Epoch 39/100\n",
            "334/334 [==============================] - 3s 8ms/step - loss: 0.3228 - acc: 0.8904 - val_loss: 0.4569 - val_acc: 0.8413\n",
            "Epoch 40/100\n",
            "334/334 [==============================] - 3s 8ms/step - loss: 0.3207 - acc: 0.8919 - val_loss: 0.4590 - val_acc: 0.8406\n",
            "Epoch 41/100\n",
            "334/334 [==============================] - 3s 8ms/step - loss: 0.3177 - acc: 0.8929 - val_loss: 0.4565 - val_acc: 0.8436\n",
            "CPU times: user 1min 27s, sys: 14 s, total: 1min 41s\n",
            "Wall time: 1min 53s\n"
          ]
        },
        {
          "output_type": "execute_result",
          "data": {
            "text/plain": [
              "<keras.callbacks.History at 0x7ff718af8e10>"
            ]
          },
          "metadata": {},
          "execution_count": 47
        }
      ]
    },
    {
      "cell_type": "code",
      "metadata": {
        "id": "x95kP4_gOQH0",
        "colab": {
          "base_uri": "https://localhost:8080/"
        },
        "outputId": "b455518d-e375-4a94-8e21-33bdb13fb992"
      },
      "source": [
        "model.evaluate(X_test, y_test)"
      ],
      "execution_count": null,
      "outputs": [
        {
          "output_type": "stream",
          "name": "stdout",
          "text": [
            "42/42 [==============================] - 0s 7ms/step - loss: 0.4202 - acc: 0.8608\n"
          ]
        },
        {
          "output_type": "execute_result",
          "data": {
            "text/plain": [
              "[0.4201797544956207, 0.8607784509658813]"
            ]
          },
          "metadata": {},
          "execution_count": 48
        }
      ]
    },
    {
      "cell_type": "code",
      "metadata": {
        "id": "EVO2x5702S7b"
      },
      "source": [
        ""
      ],
      "execution_count": null,
      "outputs": []
    }
  ]
}