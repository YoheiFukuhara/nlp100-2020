{
  "cells": [
    {
      "cell_type": "markdown",
      "metadata": {
        "id": "view-in-github",
        "colab_type": "text"
      },
      "source": [
        "<a href=\"https://colab.research.google.com/github/YoheiFukuhara/nlp100-2020/blob/main/09.RNN%2CCNN/89_%E4%BA%8B%E5%89%8D%E5%AD%A6%E7%BF%92%E6%B8%88%E3%81%BF%E8%A8%80%E8%AA%9E%E3%83%A2%E3%83%87%E3%83%AB%E3%81%8B%E3%82%89%E3%81%AE%E8%BB%A2%E7%A7%BB%E5%AD%A6%E7%BF%92.ipynb\" target=\"_parent\"><img src=\"https://colab.research.google.com/assets/colab-badge.svg\" alt=\"Open In Colab\"/></a>"
      ]
    },
    {
      "cell_type": "markdown",
      "metadata": {
        "id": "rSulESOsD6hv"
      },
      "source": [
        "事前学習済み言語モデル（例えばBERTなど）を出発点として，ニュース記事見出しをカテゴリに分類するモデルを構築せよ．"
      ]
    },
    {
      "cell_type": "code",
      "execution_count": 1,
      "metadata": {
        "colab": {
          "base_uri": "https://localhost:8080/"
        },
        "id": "Di_J5TRanr6B",
        "outputId": "6f063c98-6f8d-4266-952d-42f198e7f5f3"
      },
      "outputs": [
        {
          "output_type": "stream",
          "name": "stdout",
          "text": [
            "\u001b[33mWARNING: Skipping tensorflow-text as it is not installed.\u001b[0m\n",
            "\u001b[33mWARNING: Skipping tf-model-official as it is not installed.\u001b[0m\n",
            "\u001b[K     |████████████████████████████████| 5.9 MB 15.9 MB/s \n",
            "\u001b[K     |████████████████████████████████| 2.2 MB 42.5 MB/s \n",
            "\u001b[K     |████████████████████████████████| 578.0 MB 15 kB/s \n",
            "\u001b[K     |████████████████████████████████| 5.9 MB 46.8 MB/s \n",
            "\u001b[K     |████████████████████████████████| 1.7 MB 50.0 MB/s \n",
            "\u001b[K     |████████████████████████████████| 438 kB 71.8 MB/s \n",
            "\u001b[K     |████████████████████████████████| 38.2 MB 223 kB/s \n",
            "\u001b[K     |████████████████████████████████| 352 kB 73.8 MB/s \n",
            "\u001b[K     |████████████████████████████████| 238 kB 74.8 MB/s \n",
            "\u001b[K     |████████████████████████████████| 1.3 MB 64.6 MB/s \n",
            "\u001b[K     |████████████████████████████████| 116 kB 47.3 MB/s \n",
            "\u001b[K     |████████████████████████████████| 636 kB 72.5 MB/s \n",
            "\u001b[K     |████████████████████████████████| 43 kB 2.1 MB/s \n",
            "\u001b[K     |████████████████████████████████| 99 kB 9.0 MB/s \n",
            "\u001b[K     |████████████████████████████████| 1.1 MB 60.7 MB/s \n",
            "\u001b[?25h  Building wheel for py-cpuinfo (setup.py) ... \u001b[?25l\u001b[?25hdone\n",
            "  Building wheel for seqeval (setup.py) ... \u001b[?25l\u001b[?25hdone\n"
          ]
        }
      ],
      "source": [
        "!pip uninstall -q -y tensorflow-text tf-model-official\n",
        "!pip install -q -U tensorflow-text tf-models-official"
      ]
    },
    {
      "cell_type": "code",
      "execution_count": 2,
      "metadata": {
        "colab": {
          "base_uri": "https://localhost:8080/"
        },
        "id": "smIMO5cGG3pf",
        "outputId": "5f48b642-8f45-4ff5-b4d8-e83ed42e73ed"
      },
      "outputs": [
        {
          "output_type": "stream",
          "name": "stdout",
          "text": [
            "Mounted at /content/drive\n"
          ]
        }
      ],
      "source": [
        "from google.colab import drive\n",
        "from official.nlp import optimization  # to create AdamW optimizer\n",
        "import pandas as pd\n",
        "import tensorflow as tf\n",
        "import tensorflow_hub as hub\n",
        "import tensorflow_text as text # 明示的に使っていないが必要\n",
        "\n",
        "drive.mount('/content/drive')"
      ]
    },
    {
      "cell_type": "code",
      "execution_count": 3,
      "metadata": {
        "colab": {
          "base_uri": "https://localhost:8080/"
        },
        "id": "9Zfcn75JDUbC",
        "outputId": "740bf7b9-36da-4baf-a454-4892ee669a44"
      },
      "outputs": [
        {
          "output_type": "stream",
          "name": "stdout",
          "text": [
            "Python 3.7.14\n",
            "Name: numpy\n",
            "Version: 1.21.6\n",
            "Summary: NumPy is the fundamental package for array computing with Python.\n",
            "Home-page: https://www.numpy.org\n",
            "Author: Travis E. Oliphant et al.\n",
            "Author-email: None\n",
            "License: BSD\n",
            "Location: /usr/local/lib/python3.7/dist-packages\n",
            "Requires: \n",
            "Required-by: yellowbrick, xgboost, xarray, xarray-einstats, wordcloud, torchvision, torchtext, tifffile, thinc, tf-models-official, tensorflow, tensorflow-probability, tensorflow-model-optimization, tensorflow-hub, tensorflow-datasets, tensorboard, tables, statsmodels, spacy, sklearn-pandas, seqeval, seaborn, scs, scipy, scikit-learn, scikit-image, sacrebleu, resampy, qudida, qdldl, PyWavelets, python-louvain, pystan, pysndfile, pymc, pyerfa, pyemd, pycocotools, pyarrow, prophet, plotnine, patsy, pandas, osqp, opt-einsum, opencv-python, opencv-python-headless, opencv-contrib-python, numexpr, numba, nibabel, netCDF4, moviepy, mlxtend, mizani, missingno, matplotlib, matplotlib-venn, lightgbm, librosa, Keras-Preprocessing, kapre, jpeg4py, jaxlib, jax, imgaug, imbalanced-learn, imageio, hyperopt, httpstan, holoviews, h5py, gym, gensim, folium, fix-yahoo-finance, fastdtw, fa2, ecos, datascience, daft, cvxpy, cupy-cuda111, cufflinks, cmdstanpy, cftime, bokeh, blis, autograd, atari-py, astropy, arviz, altair, albumentations, aesara, aeppl\n",
            "---\n",
            "Name: google\n",
            "Version: 2.0.3\n",
            "Summary: Python bindings to the Google search engine.\n",
            "Home-page: http://breakingcode.wordpress.com/\n",
            "Author: Mario Vilas\n",
            "Author-email: mvilas@gmail.com\n",
            "License: UNKNOWN\n",
            "Location: /usr/local/lib/python3.7/dist-packages\n",
            "Requires: beautifulsoup4\n",
            "Required-by: \n",
            "---\n",
            "Name: tensorflow\n",
            "Version: 2.10.0\n",
            "Summary: TensorFlow is an open source machine learning framework for everyone.\n",
            "Home-page: https://www.tensorflow.org/\n",
            "Author: Google Inc.\n",
            "Author-email: packages@tensorflow.org\n",
            "License: Apache 2.0\n",
            "Location: /usr/local/lib/python3.7/dist-packages\n",
            "Requires: gast, astunparse, numpy, tensorflow-estimator, keras-preprocessing, setuptools, grpcio, tensorboard, google-pasta, keras, protobuf, flatbuffers, wrapt, six, tensorflow-io-gcs-filesystem, opt-einsum, packaging, h5py, termcolor, libclang, absl-py, typing-extensions\n",
            "Required-by: tf-models-official, tensorflow-text, kapre\n",
            "---\n",
            "Name: pandas\n",
            "Version: 1.3.5\n",
            "Summary: Powerful data structures for data analysis, time series, and statistics\n",
            "Home-page: https://pandas.pydata.org\n",
            "Author: The Pandas Development Team\n",
            "Author-email: pandas-dev@python.org\n",
            "License: BSD-3-Clause\n",
            "Location: /usr/local/lib/python3.7/dist-packages\n",
            "Requires: pytz, numpy, python-dateutil\n",
            "Required-by: xarray, vega-datasets, tf-models-official, statsmodels, sklearn-pandas, seaborn, pymc, prophet, plotnine, pandas-profiling, pandas-gbq, pandas-datareader, mlxtend, mizani, holoviews, gspread-dataframe, google-colab, fix-yahoo-finance, fastai, datascience, cufflinks, cmdstanpy, arviz, altair\n",
            "---\n",
            "Name: tensorflow-text\n",
            "Version: 2.10.0\n",
            "Summary: TF.Text is a TensorFlow library of text related ops, modules, and subgraphs.\n",
            "Home-page: http://github.com/tensorflow/text\n",
            "Author: Google Inc.\n",
            "Author-email: packages@tensorflow.org\n",
            "License: Apache 2.0\n",
            "Location: /usr/local/lib/python3.7/dist-packages\n",
            "Requires: tensorflow, tensorflow-hub\n",
            "Required-by: tf-models-official\n",
            "---\n",
            "Name: tf-models-official\n",
            "Version: 2.10.0\n",
            "Summary: TensorFlow Official Models\n",
            "Home-page: https://github.com/tensorflow/models\n",
            "Author: Google Inc.\n",
            "Author-email: packages@tensorflow.org\n",
            "License: Apache 2.0\n",
            "Location: /usr/local/lib/python3.7/dist-packages\n",
            "Requires: numpy, sacrebleu, oauth2client, pycocotools, py-cpuinfo, pyyaml, tensorflow-text, pandas, sentencepiece, matplotlib, kaggle, tensorflow-model-optimization, tensorflow-hub, seqeval, opencv-python-headless, Cython, tensorflow-addons, psutil, tensorflow, immutabledict, scipy, tensorflow-datasets, gin-config, tf-slim, Pillow, google-api-python-client, six\n",
            "Required-by: \n"
          ]
        }
      ],
      "source": [
        "!python --version\n",
        "!pip show google tensorflow pandas tensorflow-text tf-models-official"
      ]
    },
    {
      "cell_type": "code",
      "execution_count": 4,
      "metadata": {
        "id": "cJPjoNjhHTc3"
      },
      "outputs": [],
      "source": [
        "BASE_PATH = '/content/drive/MyDrive/ColabNotebooks/ML/NLP100_2020/'"
      ]
    },
    {
      "cell_type": "code",
      "execution_count": 5,
      "metadata": {
        "id": "BGk9QJ-sHlPk"
      },
      "outputs": [],
      "source": [
        "def read_dataset(type_):\n",
        "    df = pd.read_table(BASE_PATH+'06.MachineLearning/'+type_+'.feature.txt')\n",
        "    df.info()\n",
        "    sr_title = df['title'].str.split().explode()\n",
        "    y = df['category'].replace({'b':0, 't':1, 'e':2, 'm':3})\n",
        "    return df['title'], tf.keras.utils.to_categorical(y, dtype='int32')  # 4値分類なので訓練・検証・テスト共通でone-hot化"
      ]
    },
    {
      "cell_type": "code",
      "execution_count": 6,
      "metadata": {
        "colab": {
          "base_uri": "https://localhost:8080/"
        },
        "id": "OAx17LNLHmtI",
        "outputId": "a079e208-70b6-4027-859c-4aaa8ba3d923"
      },
      "outputs": [
        {
          "output_type": "stream",
          "name": "stdout",
          "text": [
            "<class 'pandas.core.frame.DataFrame'>\n",
            "RangeIndex: 10684 entries, 0 to 10683\n",
            "Data columns (total 2 columns):\n",
            " #   Column    Non-Null Count  Dtype \n",
            "---  ------    --------------  ----- \n",
            " 0   title     10684 non-null  object\n",
            " 1   category  10684 non-null  object\n",
            "dtypes: object(2)\n",
            "memory usage: 167.1+ KB\n",
            "<class 'pandas.core.frame.DataFrame'>\n",
            "RangeIndex: 1336 entries, 0 to 1335\n",
            "Data columns (total 2 columns):\n",
            " #   Column    Non-Null Count  Dtype \n",
            "---  ------    --------------  ----- \n",
            " 0   title     1336 non-null   object\n",
            " 1   category  1336 non-null   object\n",
            "dtypes: object(2)\n",
            "memory usage: 21.0+ KB\n",
            "<class 'pandas.core.frame.DataFrame'>\n",
            "RangeIndex: 1336 entries, 0 to 1335\n",
            "Data columns (total 2 columns):\n",
            " #   Column    Non-Null Count  Dtype \n",
            "---  ------    --------------  ----- \n",
            " 0   title     1336 non-null   object\n",
            " 1   category  1336 non-null   object\n",
            "dtypes: object(2)\n",
            "memory usage: 21.0+ KB\n",
            "CPU times: user 89.4 ms, sys: 19.7 ms, total: 109 ms\n",
            "Wall time: 4.9 s\n"
          ]
        }
      ],
      "source": [
        "%%time\n",
        "X_train, y_train = read_dataset('train')\n",
        "X_valid, y_valid = read_dataset('valid')\n",
        "X_test, y_test = read_dataset('test')"
      ]
    },
    {
      "cell_type": "code",
      "execution_count": 7,
      "metadata": {
        "colab": {
          "base_uri": "https://localhost:8080/"
        },
        "id": "pry-9Y4Suusa",
        "outputId": "cac4e398-bb30-4cf9-fd03-5ce429edbf33"
      },
      "outputs": [
        {
          "output_type": "stream",
          "name": "stderr",
          "text": [
            "WARNING:tensorflow:Please fix your imports. Module tensorflow.python.training.tracking.data_structures has been moved to tensorflow.python.trackable.data_structures. The old module will be deleted in version 2.11.\n"
          ]
        },
        {
          "output_type": "stream",
          "name": "stdout",
          "text": [
            "Text        : ['REFILE UPDATE car sale up for sixth month as economy recover']\n",
            "Keys       : ['input_type_ids', 'input_word_ids', 'input_mask']\n",
            "Shape      : (1, 128)\n",
            "Word Ids   : [  101 25416  9463 10651  2482  5096  2039  2005  4369  3204  2004  4610]\n",
            "Input Mask : [1 1 1 1 1 1 1 1 1 1 1 1]\n",
            "Type Ids   : [0 0 0 0 0 0 0 0 0 0 0 0]\n"
          ]
        }
      ],
      "source": [
        "preprocessor = hub.KerasLayer(\n",
        "        'https://tfhub.dev/tensorflow/bert_en_uncased_preprocess/3',\n",
        "        name='preprocessor')\n",
        "\n",
        "text_preprocessed = preprocessor([X_train[0]])\n",
        "\n",
        "print(f'Text        : {[X_train[0]]}')\n",
        "print(f'Keys       : {list(text_preprocessed.keys())}')\n",
        "print(f'Shape      : {text_preprocessed[\"input_word_ids\"].shape}')\n",
        "print(f'Word Ids   : {text_preprocessed[\"input_word_ids\"][0, :12]}')\n",
        "print(f'Input Mask : {text_preprocessed[\"input_mask\"][0, :12]}')\n",
        "print(f'Type Ids   : {text_preprocessed[\"input_type_ids\"][0, :12]}')"
      ]
    },
    {
      "cell_type": "code",
      "execution_count": 8,
      "metadata": {
        "id": "UHrYhCPCvZoB",
        "colab": {
          "base_uri": "https://localhost:8080/"
        },
        "outputId": "f7e1bf59-6624-429f-9dde-ee4c2fa9a1bb"
      },
      "outputs": [
        {
          "output_type": "stream",
          "name": "stdout",
          "text": [
            "Pooled Outputs Shape:(1, 512)\n",
            "Pooled Outputs Values:[ 0.83857816  0.8714344  -0.05869783 -0.21945992  0.14879902  0.62879145\n",
            "  0.99516565 -0.9972128   0.15385738 -0.99931264  0.3135587  -0.8180948 ]\n",
            "Sequence Outputs Shape:(1, 128, 512)\n",
            "Sequence Outputs Values:[[ 0.33862212 -0.11791104  0.3418219  ... -1.1574944   0.29415578\n",
            "   0.9472706 ]\n",
            " [ 0.28497177  0.39325225  0.60013586 ... -0.35047954  0.5410543\n",
            "   1.267122  ]\n",
            " [-0.8773053   0.01777261  0.68712896 ...  0.60109943 -0.22280091\n",
            "   1.305879  ]\n",
            " ...\n",
            " [ 0.00644314  0.17899063  0.6403154  ... -0.34970805  0.08075863\n",
            "   0.14510325]\n",
            " [-0.33870348  0.36234245  0.05213176 ... -0.7976972  -0.43191314\n",
            "   0.8580584 ]\n",
            " [-0.10936005  0.2492041   0.58715516 ...  0.34737933 -0.64347273\n",
            "   0.71053106]]\n"
          ]
        }
      ],
      "source": [
        "encoder = hub.KerasLayer(\n",
        "        'https://tfhub.dev/tensorflow/small_bert/bert_en_uncased_L-4_H-512_A-8/2',\n",
        "        trainable=True, name='BERT_encoder')\n",
        "bert_results = encoder(text_preprocessed)\n",
        "\n",
        "print(f'Pooled Outputs Shape:{bert_results[\"pooled_output\"].shape}')\n",
        "print(f'Pooled Outputs Values:{bert_results[\"pooled_output\"][0, :12]}')\n",
        "print(f'Sequence Outputs Shape:{bert_results[\"sequence_output\"].shape}')\n",
        "print(f'Sequence Outputs Values:{bert_results[\"sequence_output\"][0, :12]}')"
      ]
    },
    {
      "cell_type": "code",
      "execution_count": 9,
      "metadata": {
        "colab": {
          "base_uri": "https://localhost:8080/"
        },
        "id": "9Oz4yVDhdCPV",
        "outputId": "8b7d327d-7b48-4224-fd1a-4823bb0aec66"
      },
      "outputs": [
        {
          "output_type": "stream",
          "name": "stdout",
          "text": [
            "tf.Tensor([[0.5128579  0.56176686 0.63317573 0.5385126 ]], shape=(1, 4), dtype=float32)\n"
          ]
        }
      ],
      "source": [
        "def build_classifier_model(preprocessor, encoder):\n",
        "    text_input = tf.keras.layers.Input(shape=(), dtype=tf.string, name='text')\n",
        "    encoder_inputs = preprocessor(text_input)\n",
        "    outputs = encoder(encoder_inputs)\n",
        "    net = outputs['pooled_output'] # [batch_size, 512].\n",
        "    net = tf.keras.layers.Dropout(0.1)(net)\n",
        "    net = tf.keras.layers.Dense(4, activation='softmax', name='classifier')(net)\n",
        "    return tf.keras.Model(text_input, net)    \n",
        "\n",
        "model = build_classifier_model(preprocessor, encoder)\n",
        "bert_raw_result = model(tf.constant([X_train[0]]))\n",
        "print(tf.sigmoid(bert_raw_result))"
      ]
    },
    {
      "cell_type": "code",
      "execution_count": 10,
      "metadata": {
        "colab": {
          "base_uri": "https://localhost:8080/",
          "height": 1000
        },
        "id": "qhhVfj4evuUN",
        "outputId": "3811aebe-ad98-4879-def9-41875b73f228"
      },
      "outputs": [
        {
          "output_type": "stream",
          "name": "stdout",
          "text": [
            "Model: \"model\"\n",
            "__________________________________________________________________________________________________\n",
            " Layer (type)                   Output Shape         Param #     Connected to                     \n",
            "==================================================================================================\n",
            " text (InputLayer)              [(None,)]            0           []                               \n",
            "                                                                                                  \n",
            " preprocessor (KerasLayer)      {'input_type_ids':   0           ['text[0][0]']                   \n",
            "                                (None, 128),                                                      \n",
            "                                 'input_word_ids':                                                \n",
            "                                (None, 128),                                                      \n",
            "                                 'input_mask': (Non                                               \n",
            "                                e, 128)}                                                          \n",
            "                                                                                                  \n",
            " BERT_encoder (KerasLayer)      {'encoder_outputs':  28763649    ['preprocessor[0][0]',           \n",
            "                                 [(None, 128, 512),               'preprocessor[0][1]',           \n",
            "                                 (None, 128, 512),                'preprocessor[0][2]']           \n",
            "                                 (None, 128, 512),                                                \n",
            "                                 (None, 128, 512)],                                               \n",
            "                                 'sequence_output':                                               \n",
            "                                 (None, 128, 512),                                                \n",
            "                                 'default': (None,                                                \n",
            "                                512),                                                             \n",
            "                                 'pooled_output': (                                               \n",
            "                                None, 512)}                                                       \n",
            "                                                                                                  \n",
            " dropout (Dropout)              (None, 512)          0           ['BERT_encoder[0][5]']           \n",
            "                                                                                                  \n",
            " classifier (Dense)             (None, 4)            2052        ['dropout[0][0]']                \n",
            "                                                                                                  \n",
            "==================================================================================================\n",
            "Total params: 28,765,701\n",
            "Trainable params: 28,765,700\n",
            "Non-trainable params: 1\n",
            "__________________________________________________________________________________________________\n"
          ]
        },
        {
          "output_type": "execute_result",
          "data": {
            "image/png": "[encoded data removed]",
            "text/plain": [
              "<IPython.core.display.Image object>"
            ]
          },
          "metadata": {},
          "execution_count": 10
        }
      ],
      "source": [
        "model.summary()\n",
        "\n",
        "# show_shapes=True , then error\n",
        "tf.keras.utils.plot_model(model)"
      ]
    },
    {
      "cell_type": "code",
      "execution_count": 11,
      "metadata": {
        "id": "_-uMY7kVvuRX"
      },
      "outputs": [],
      "source": [
        "epochs = 5\n",
        "# train data 10684\n",
        "# cardinality は データ件数/バッチサイズ を切り上げ\n",
        "#steps_per_epoch = tf.data.experimental.cardinality(train_ds).numpy()\n",
        "steps_per_epoch = (len(X_train)+32-1)//32 # 除算切り上げ\n",
        "num_train_steps = steps_per_epoch * epochs\n",
        "num_warmup_steps = int(0.1*num_train_steps)\n",
        "\n",
        "optimizer = optimization.create_optimizer(init_lr=3e-5,\n",
        "                                          num_train_steps=num_train_steps,\n",
        "                                          num_warmup_steps=num_warmup_steps,\n",
        "                                          optimizer_type='adamw')\n",
        "model.compile(optimizer=optimizer,\n",
        "              loss='categorical_crossentropy',\n",
        "              metrics=['acc'])"
      ]
    },
    {
      "cell_type": "code",
      "execution_count": 12,
      "metadata": {
        "id": "e06qsQoDoidb",
        "colab": {
          "base_uri": "https://localhost:8080/"
        },
        "outputId": "21896600-9fd0-4515-ee92-9241fcb825f0"
      },
      "outputs": [
        {
          "output_type": "stream",
          "name": "stdout",
          "text": [
            "Epoch 1/30\n",
            "334/334 [==============================] - 78s 217ms/step - loss: 0.6090 - acc: 0.7742 - val_loss: 0.3382 - val_acc: 0.8885\n",
            "Epoch 2/30\n",
            "334/334 [==============================] - 75s 225ms/step - loss: 0.2616 - acc: 0.9125 - val_loss: 0.2982 - val_acc: 0.9147\n",
            "Epoch 3/30\n",
            "334/334 [==============================] - 74s 221ms/step - loss: 0.1819 - acc: 0.9405 - val_loss: 0.3111 - val_acc: 0.9124\n",
            "Epoch 4/30\n",
            "334/334 [==============================] - 73s 219ms/step - loss: 0.1337 - acc: 0.9571 - val_loss: 0.3245 - val_acc: 0.9162\n",
            "Epoch 5/30\n",
            "334/334 [==============================] - 72s 216ms/step - loss: 0.0997 - acc: 0.9677 - val_loss: 0.3327 - val_acc: 0.9184\n",
            "Epoch 6/30\n",
            "334/334 [==============================] - 73s 219ms/step - loss: 0.0947 - acc: 0.9701 - val_loss: 0.3327 - val_acc: 0.9184\n",
            "Epoch 7/30\n",
            "334/334 [==============================] - 71s 214ms/step - loss: 0.0913 - acc: 0.9715 - val_loss: 0.3327 - val_acc: 0.9184\n",
            "CPU times: user 7min 45s, sys: 48.4 s, total: 8min 33s\n",
            "Wall time: 8min 37s\n"
          ]
        },
        {
          "output_type": "execute_result",
          "data": {
            "text/plain": [
              "<keras.callbacks.History at 0x7f032a13bc90>"
            ]
          },
          "metadata": {},
          "execution_count": 12
        }
      ],
      "source": [
        "%%time\n",
        "model.fit(X_train, y_train, validation_data=(X_valid, y_valid), epochs=30,\n",
        "          callbacks=[tf.keras.callbacks.EarlyStopping(\n",
        "              patience=5, restore_best_weights=False)])"
      ]
    },
    {
      "cell_type": "code",
      "execution_count": 13,
      "metadata": {
        "id": "B0p3P90yhCHl",
        "colab": {
          "base_uri": "https://localhost:8080/"
        },
        "outputId": "19563fe3-a060-422d-e1fd-79f8f8e4ecfc"
      },
      "outputs": [
        {
          "output_type": "stream",
          "name": "stdout",
          "text": [
            "42/42 [==============================] - 4s 95ms/step - loss: 0.2419 - acc: 0.9259\n"
          ]
        },
        {
          "output_type": "execute_result",
          "data": {
            "text/plain": [
              "[0.24186475574970245, 0.9258981943130493]"
            ]
          },
          "metadata": {},
          "execution_count": 13
        }
      ],
      "source": [
        "model.evaluate(X_test, y_test)"
      ]
    },
    {
      "cell_type": "code",
      "execution_count": 13,
      "metadata": {
        "id": "G5el-xRotAgu"
      },
      "outputs": [],
      "source": []
    }
  ],
  "metadata": {
    "accelerator": "GPU",
    "colab": {
      "collapsed_sections": [],
      "provenance": [],
      "authorship_tag": "ABX9TyOWHhukvWE7rMeSYAHeBg+b",
      "include_colab_link": true
    },
    "kernelspec": {
      "display_name": "Python 3",
      "name": "python3"
    },
    "language_info": {
      "name": "python"
    }
  },
  "nbformat": 4,
  "nbformat_minor": 0
}