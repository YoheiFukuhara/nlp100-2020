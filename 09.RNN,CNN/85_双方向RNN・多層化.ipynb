{
  "nbformat": 4,
  "nbformat_minor": 0,
  "metadata": {
    "accelerator": "GPU",
    "colab": {
      "name": "85.双方向RNN・多層化.ipynb",
      "provenance": [],
      "collapsed_sections": [],
      "authorship_tag": "ABX9TyOpDCssBubJWcFgjnGnz3e1",
      "include_colab_link": true
    },
    "kernelspec": {
      "display_name": "Python 3",
      "name": "python3"
    },
    "language_info": {
      "name": "python"
    }
  },
  "cells": [
    {
      "cell_type": "markdown",
      "metadata": {
        "id": "view-in-github",
        "colab_type": "text"
      },
      "source": [
        "<a href=\"https://colab.research.google.com/github/YoheiFukuhara/nlp100-2020/blob/main/09.RNN%2CCNN/85_%E5%8F%8C%E6%96%B9%E5%90%91RNN%E3%83%BB%E5%A4%9A%E5%B1%A4%E5%8C%96.ipynb\" target=\"_parent\"><img src=\"https://colab.research.google.com/assets/colab-badge.svg\" alt=\"Open In Colab\"/></a>"
      ]
    },
    {
      "cell_type": "markdown",
      "metadata": {
        "id": "Hnhi5curHGob"
      },
      "source": [
        "順方向と逆方向のRNNの両方を用いて入力テキストをエンコードし，モデルを学習せよ．\n",
        "\n",
        "```math\n",
        "\\overleftarrow h_{T+1} = 0, \\\\\n",
        "\\overleftarrow h_t = {\\rm \\overleftarrow{RNN}}(\\mathrm{emb}(x_t), \\overleftarrow h_{t+1}), \\\\\n",
        "y = {\\rm softmax}(W^{(yh)} [\\overrightarrow h_T; \\overleftarrow h_1] + b^{(y)})\n",
        "```\n",
        "\n",
        "ただし，$\\overrightarrow h_t \\in \\mathbb{R}^{d_h}, \\overleftarrow h_t \\in \\mathbb{R}^{d_h}$はそれぞれ，順方向および逆方向のRNNで求めた時刻$t$の隠れ状態ベクトル，${\\rm \\overleftarrow{RNN}}(x,h)$は入力$x$と次時刻の隠れ状態$h$から前状態を計算するRNNユニット，$W^{(yh)} \\in \\mathbb{R}^{L \\times 2d_h}$は隠れ状態ベクトルからカテゴリを予測するための行列，$b^{(y)} \\in \\mathbb{R}^{L}$はバイアス項である．また，$[a; b]$はベクトル$a$と$b$の連結を表す。\n",
        "\n",
        "さらに，双方向RNNを多層化して実験せよ．"
      ]
    },
    {
      "cell_type": "markdown",
      "metadata": {
        "id": "Hwycp7bGVhS-"
      },
      "source": [
        "新しい記事\n",
        "https://keras.io/examples/nlp/pretrained_word_embeddings/\n",
        "\n",
        "少し古いがここの記事\n",
        "https://blog.keras.io/using-pre-trained-word-embeddings-in-a-keras-model.html\n",
        "\n",
        "解説系記事\n",
        "https://work-in-progress.hatenablog.com/entry/2019/03/03/122058"
      ]
    },
    {
      "cell_type": "code",
      "metadata": {
        "colab": {
          "base_uri": "https://localhost:8080/"
        },
        "id": "smIMO5cGG3pf",
        "outputId": "0550cab5-43a3-4d2a-a49f-282d74292a42"
      },
      "source": [
        "import numpy as np\n",
        "import nltk\n",
        "from gensim.models import KeyedVectors\n",
        "import pandas as pd\n",
        "import tensorflow as tf\n",
        "from google.colab import drive\n",
        "\n",
        "drive.mount('/content/drive')"
      ],
      "execution_count": null,
      "outputs": [
        {
          "output_type": "stream",
          "name": "stdout",
          "text": [
            "Mounted at /content/drive\n"
          ]
        }
      ]
    },
    {
      "cell_type": "markdown",
      "metadata": {
        "id": "DCxKz_XzHgAV"
      },
      "source": [
        "!python --version\n",
        "!pip show numpy gensim google tensorflow nltk pandas"
      ]
    },
    {
      "cell_type": "code",
      "metadata": {
        "id": "cJPjoNjhHTc3"
      },
      "source": [
        "BASE_PATH = '/content/drive/MyDrive/ColabNotebooks/ML/NLP100_2020/'\n",
        "max_len = 0\n",
        "vocabulary = []\n",
        "w2v_model = KeyedVectors.load_word2vec_format(BASE_PATH+'07.WordVector/input/GoogleNews-vectors-negative300.bin.gz', binary=True)"
      ],
      "execution_count": null,
      "outputs": []
    },
    {
      "cell_type": "code",
      "metadata": {
        "id": "BGk9QJ-sHlPk"
      },
      "source": [
        "def read_dataset(type_):\n",
        "    global max_len\n",
        "    global vocabulary\n",
        "    df = pd.read_table(BASE_PATH+'06.MachineLearning/'+type_+'.feature.txt')\n",
        "    df.info()\n",
        "    sr_title = df['title'].str.split().explode()\n",
        "    max_len_ = df['title'].map(lambda x: len(x.split())).max()\n",
        "    if max_len < max_len_:\n",
        "        max_len = max_len_\n",
        "    if len(vocabulary) == 0:\n",
        "        vocabulary = [k for k, v in nltk.FreqDist(sr_title).items() if v > 1]\n",
        "    else:\n",
        "        vocabulary.extend([k for k, v in nltk.FreqDist(sr_title).items() if v > 1])\n",
        "    y = df['category'].replace({'b':0, 't':1, 'e':2, 'm':3})\n",
        "    return df['title'], tf.keras.utils.to_categorical(y, dtype='int32')  # 4値分類なので訓練・検証・テスト共通でone-hot化"
      ],
      "execution_count": null,
      "outputs": []
    },
    {
      "cell_type": "code",
      "metadata": {
        "colab": {
          "base_uri": "https://localhost:8080/"
        },
        "id": "OAx17LNLHmtI",
        "outputId": "1d61b546-e054-4133-e90a-b587ce06c4f3"
      },
      "source": [
        "X_train, y_train = read_dataset('train')\n",
        "X_valid, y_valid = read_dataset('valid')\n",
        "X_test, y_test = read_dataset('test') # あまりこだわらずにテストデータセットも追加\n",
        "\n",
        "# setで重複削除し、タプル形式に設定\n",
        "tup_voc = tuple(set(vocabulary))\n",
        "\n",
        "print(f'vocabulary size before removing duplicates: {len(vocabulary)}')\n",
        "print(f'vocabulary size after removing duplicates: {len(tup_voc)}')\n",
        "print(f'sample vocabulary: {tup_voc[:10]}')\n",
        "print(f'max length is {max_len}')"
      ],
      "execution_count": null,
      "outputs": [
        {
          "output_type": "stream",
          "name": "stdout",
          "text": [
            "<class 'pandas.core.frame.DataFrame'>\n",
            "RangeIndex: 10684 entries, 0 to 10683\n",
            "Data columns (total 2 columns):\n",
            " #   Column    Non-Null Count  Dtype \n",
            "---  ------    --------------  ----- \n",
            " 0   title     10684 non-null  object\n",
            " 1   category  10684 non-null  object\n",
            "dtypes: object(2)\n",
            "memory usage: 167.1+ KB\n",
            "<class 'pandas.core.frame.DataFrame'>\n",
            "RangeIndex: 1336 entries, 0 to 1335\n",
            "Data columns (total 2 columns):\n",
            " #   Column    Non-Null Count  Dtype \n",
            "---  ------    --------------  ----- \n",
            " 0   title     1336 non-null   object\n",
            " 1   category  1336 non-null   object\n",
            "dtypes: object(2)\n",
            "memory usage: 21.0+ KB\n",
            "<class 'pandas.core.frame.DataFrame'>\n",
            "RangeIndex: 1336 entries, 0 to 1335\n",
            "Data columns (total 2 columns):\n",
            " #   Column    Non-Null Count  Dtype \n",
            "---  ------    --------------  ----- \n",
            " 0   title     1336 non-null   object\n",
            " 1   category  1336 non-null   object\n",
            "dtypes: object(2)\n",
            "memory usage: 21.0+ KB\n",
            "vocabulary size before removing duplicates: 11089\n",
            "vocabulary size after removing duplicates: 7802\n",
            "sample vocabulary: ('ingredient', 'Celine', 'step', 'restriction', 'Jonah', 'Mtv', 'Rubik', 'president', 'Shares', 'Moody')\n",
            "max length is 18\n"
          ]
        }
      ]
    },
    {
      "cell_type": "code",
      "metadata": {
        "colab": {
          "base_uri": "https://localhost:8080/"
        },
        "id": "N_R8EAy1IPHc",
        "outputId": "b3d3de69-cf8c-4bbc-8770-eb8a1f563eca"
      },
      "source": [
        "vectorize_layer = tf.keras.layers.TextVectorization(\n",
        " output_mode='int',\n",
        " vocabulary=tup_voc,\n",
        " output_sequence_length=max_len)\n",
        "\n",
        "print(f'vocabulary size is {vectorize_layer.vocabulary_size()}')"
      ],
      "execution_count": null,
      "outputs": [
        {
          "output_type": "stream",
          "name": "stdout",
          "text": [
            "vocabulary size is 7804\n"
          ]
        }
      ]
    },
    {
      "cell_type": "code",
      "metadata": {
        "id": "ySfeswMhgtYI"
      },
      "source": [
        "voc = vectorize_layer.get_vocabulary()\n",
        "word_index = dict(zip(voc, range(len(voc))))"
      ],
      "execution_count": null,
      "outputs": []
    },
    {
      "cell_type": "code",
      "metadata": {
        "colab": {
          "base_uri": "https://localhost:8080/"
        },
        "id": "_eGNTfv6bWlU",
        "outputId": "255ba49c-a1cb-4739-d7d8-74e860e1529d"
      },
      "source": [
        "%%time\n",
        "num_tokens = len(voc) + 2\n",
        "embedding_dim = 300\n",
        "hits = 0\n",
        "misses = 0\n",
        "\n",
        "# Prepare embedding matrix\n",
        "embedding_matrix = np.zeros((num_tokens, embedding_dim))\n",
        "for word, i in word_index.items():\n",
        "    try:\n",
        "        # Words not found in embedding index will be all-zeros.\n",
        "        # This includes the representation for \"padding\" and \"OOV\"\n",
        "        embedding_matrix[i] = w2v_model.get_vector(word)\n",
        "        hits += 1\n",
        "    except:\n",
        "        misses += 1\n",
        "        if misses < 7:\n",
        "            print(word)\n",
        "print(\"Converted %d words (%d misses)\" % (hits, misses))"
      ],
      "execution_count": null,
      "outputs": [
        {
          "output_type": "stream",
          "name": "stdout",
          "text": [
            "\n",
            "[UNK]\n",
            "Bangerz\n",
            "yellen\n",
            "licence\n",
            "f***e\n",
            "Converted 7664 words (140 misses)\n",
            "CPU times: user 34.6 ms, sys: 12 ms, total: 46.6 ms\n",
            "Wall time: 46 ms\n"
          ]
        }
      ]
    },
    {
      "cell_type": "code",
      "metadata": {
        "id": "Sqjy7bW159Ok"
      },
      "source": [
        "embedding_layer = tf.keras.layers.Embedding(\n",
        "    num_tokens,\n",
        "    embedding_dim,\n",
        "    embeddings_initializer=tf.keras.initializers.Constant(embedding_matrix),\n",
        "    trainable=False\n",
        ")"
      ],
      "execution_count": null,
      "outputs": []
    },
    {
      "cell_type": "code",
      "metadata": {
        "colab": {
          "base_uri": "https://localhost:8080/"
        },
        "id": "r_mDjQmeHqi1",
        "outputId": "597cdf50-801d-470f-bc0a-b97d393a4a8d"
      },
      "source": [
        "model = tf.keras.models.Sequential()\n",
        "model.add(tf.keras.Input(shape=(1,), dtype=tf.string))\n",
        "model.add(vectorize_layer)\n",
        "model.add(embedding_layer)\n",
        "model.add(tf.keras.layers.Bidirectional(tf.keras.layers.GRU(50, return_sequences=True)))\n",
        "model.add(tf.keras.layers.Bidirectional(tf.keras.layers.GRU(50)))\n",
        "model.add(tf.keras.layers.Dense(4, activation='softmax'))\n",
        "model.compile(loss='categorical_crossentropy', optimizer='sgd', metrics=['acc'])\n",
        "model.summary()"
      ],
      "execution_count": null,
      "outputs": [
        {
          "output_type": "stream",
          "name": "stdout",
          "text": [
            "Model: \"sequential_3\"\n",
            "_________________________________________________________________\n",
            " Layer (type)                Output Shape              Param #   \n",
            "=================================================================\n",
            " text_vectorization (TextVec  (None, 18)               0         \n",
            " torization)                                                     \n",
            "                                                                 \n",
            " embedding (Embedding)       (None, 18, 300)           2341800   \n",
            "                                                                 \n",
            " bidirectional_4 (Bidirectio  (None, 18, 100)          105600    \n",
            " nal)                                                            \n",
            "                                                                 \n",
            " bidirectional_5 (Bidirectio  (None, 100)              45600     \n",
            " nal)                                                            \n",
            "                                                                 \n",
            " dense_2 (Dense)             (None, 4)                 404       \n",
            "                                                                 \n",
            "=================================================================\n",
            "Total params: 2,493,404\n",
            "Trainable params: 151,604\n",
            "Non-trainable params: 2,341,800\n",
            "_________________________________________________________________\n"
          ]
        }
      ]
    },
    {
      "cell_type": "code",
      "metadata": {
        "colab": {
          "base_uri": "https://localhost:8080/",
          "height": 644
        },
        "id": "8XIOoLFVL642",
        "outputId": "3a28a164-4630-4ac2-ecc0-e477df7beda1"
      },
      "source": [
        "tf.keras.utils.plot_model(model, show_shapes=True)"
      ],
      "execution_count": null,
      "outputs": [
        {
          "output_type": "execute_result",
          "data": {
            "image/png": "[encoded data removed]",
            "text/plain": [
              "<IPython.core.display.Image object>"
            ]
          },
          "metadata": {},
          "execution_count": 16
        }
      ]
    },
    {
      "cell_type": "code",
      "metadata": {
        "id": "RHoesMkQOM1p",
        "colab": {
          "base_uri": "https://localhost:8080/"
        },
        "outputId": "c3d2a074-4704-440e-ecd3-5129a1efe0c9"
      },
      "source": [
        "%%time\n",
        "model.fit(X_train, y_train, epochs=100, validation_data=(X_valid, y_valid))"
      ],
      "execution_count": null,
      "outputs": [
        {
          "output_type": "stream",
          "name": "stdout",
          "text": [
            "Epoch 1/100\n",
            "334/334 [==============================] - 24s 35ms/step - loss: 1.1814 - acc: 0.4495 - val_loss: 1.1166 - val_acc: 0.6677\n",
            "Epoch 2/100\n",
            "334/334 [==============================] - 9s 27ms/step - loss: 1.0690 - acc: 0.6760 - val_loss: 1.0134 - val_acc: 0.7081\n",
            "Epoch 3/100\n",
            "334/334 [==============================] - 9s 27ms/step - loss: 0.9237 - acc: 0.7149 - val_loss: 0.8403 - val_acc: 0.7268\n",
            "Epoch 4/100\n",
            "334/334 [==============================] - 9s 26ms/step - loss: 0.7768 - acc: 0.7368 - val_loss: 0.7444 - val_acc: 0.7507\n",
            "Epoch 5/100\n",
            "334/334 [==============================] - 9s 27ms/step - loss: 0.7146 - acc: 0.7480 - val_loss: 0.6990 - val_acc: 0.7485\n",
            "Epoch 6/100\n",
            "334/334 [==============================] - 9s 27ms/step - loss: 0.6856 - acc: 0.7540 - val_loss: 0.7055 - val_acc: 0.7395\n",
            "Epoch 7/100\n",
            "334/334 [==============================] - 9s 27ms/step - loss: 0.6662 - acc: 0.7600 - val_loss: 0.6613 - val_acc: 0.7620\n",
            "Epoch 8/100\n",
            "334/334 [==============================] - 9s 26ms/step - loss: 0.6496 - acc: 0.7624 - val_loss: 0.6634 - val_acc: 0.7493\n",
            "Epoch 9/100\n",
            "334/334 [==============================] - 9s 26ms/step - loss: 0.6367 - acc: 0.7663 - val_loss: 0.6395 - val_acc: 0.7665\n",
            "Epoch 10/100\n",
            "334/334 [==============================] - 9s 27ms/step - loss: 0.6231 - acc: 0.7698 - val_loss: 0.6703 - val_acc: 0.7463\n",
            "Epoch 11/100\n",
            "334/334 [==============================] - 9s 27ms/step - loss: 0.6085 - acc: 0.7758 - val_loss: 0.6466 - val_acc: 0.7522\n",
            "Epoch 12/100\n",
            "334/334 [==============================] - 9s 27ms/step - loss: 0.5946 - acc: 0.7807 - val_loss: 0.6081 - val_acc: 0.7695\n",
            "Epoch 13/100\n",
            "334/334 [==============================] - 9s 27ms/step - loss: 0.5798 - acc: 0.7864 - val_loss: 0.6102 - val_acc: 0.7665\n",
            "Epoch 14/100\n",
            "334/334 [==============================] - 9s 27ms/step - loss: 0.5584 - acc: 0.7939 - val_loss: 0.5794 - val_acc: 0.7799\n",
            "Epoch 15/100\n",
            "334/334 [==============================] - 9s 27ms/step - loss: 0.5387 - acc: 0.8029 - val_loss: 0.5686 - val_acc: 0.7904\n",
            "Epoch 16/100\n",
            "334/334 [==============================] - 9s 27ms/step - loss: 0.5198 - acc: 0.8128 - val_loss: 0.5660 - val_acc: 0.7964\n",
            "Epoch 17/100\n",
            "334/334 [==============================] - 9s 26ms/step - loss: 0.5050 - acc: 0.8238 - val_loss: 0.5358 - val_acc: 0.7994\n",
            "Epoch 18/100\n",
            "334/334 [==============================] - 9s 26ms/step - loss: 0.4871 - acc: 0.8302 - val_loss: 0.5322 - val_acc: 0.8084\n",
            "Epoch 19/100\n",
            "334/334 [==============================] - 9s 26ms/step - loss: 0.4746 - acc: 0.8342 - val_loss: 0.5197 - val_acc: 0.8196\n",
            "Epoch 20/100\n",
            "334/334 [==============================] - 9s 26ms/step - loss: 0.4601 - acc: 0.8417 - val_loss: 0.5098 - val_acc: 0.8234\n",
            "Epoch 21/100\n",
            "334/334 [==============================] - 9s 26ms/step - loss: 0.4506 - acc: 0.8436 - val_loss: 0.5072 - val_acc: 0.8204\n",
            "Epoch 22/100\n",
            "334/334 [==============================] - 9s 26ms/step - loss: 0.4396 - acc: 0.8458 - val_loss: 0.4885 - val_acc: 0.8293\n",
            "Epoch 23/100\n",
            "334/334 [==============================] - 9s 27ms/step - loss: 0.4331 - acc: 0.8507 - val_loss: 0.4989 - val_acc: 0.8263\n",
            "Epoch 24/100\n",
            "334/334 [==============================] - 9s 26ms/step - loss: 0.4258 - acc: 0.8513 - val_loss: 0.4696 - val_acc: 0.8391\n",
            "Epoch 25/100\n",
            "334/334 [==============================] - 9s 27ms/step - loss: 0.4196 - acc: 0.8540 - val_loss: 0.4971 - val_acc: 0.8249\n",
            "Epoch 26/100\n",
            "334/334 [==============================] - 9s 27ms/step - loss: 0.4109 - acc: 0.8562 - val_loss: 0.4650 - val_acc: 0.8413\n",
            "Epoch 27/100\n",
            "334/334 [==============================] - 9s 27ms/step - loss: 0.4056 - acc: 0.8561 - val_loss: 0.4617 - val_acc: 0.8368\n",
            "Epoch 28/100\n",
            "334/334 [==============================] - 9s 26ms/step - loss: 0.4032 - acc: 0.8575 - val_loss: 0.4626 - val_acc: 0.8353\n",
            "Epoch 29/100\n",
            "334/334 [==============================] - 9s 26ms/step - loss: 0.3997 - acc: 0.8589 - val_loss: 0.4561 - val_acc: 0.8428\n",
            "Epoch 30/100\n",
            "334/334 [==============================] - 9s 27ms/step - loss: 0.3940 - acc: 0.8606 - val_loss: 0.5176 - val_acc: 0.8174\n",
            "Epoch 31/100\n",
            "334/334 [==============================] - 9s 26ms/step - loss: 0.3922 - acc: 0.8617 - val_loss: 0.4902 - val_acc: 0.8323\n",
            "Epoch 32/100\n",
            "334/334 [==============================] - 9s 27ms/step - loss: 0.3890 - acc: 0.8624 - val_loss: 0.4594 - val_acc: 0.8473\n",
            "Epoch 33/100\n",
            "334/334 [==============================] - 9s 26ms/step - loss: 0.3861 - acc: 0.8604 - val_loss: 0.4584 - val_acc: 0.8451\n",
            "Epoch 34/100\n",
            "334/334 [==============================] - 9s 26ms/step - loss: 0.3840 - acc: 0.8652 - val_loss: 0.4599 - val_acc: 0.8488\n",
            "Epoch 35/100\n",
            "334/334 [==============================] - 9s 26ms/step - loss: 0.3798 - acc: 0.8650 - val_loss: 0.4586 - val_acc: 0.8473\n",
            "Epoch 36/100\n",
            "334/334 [==============================] - 9s 26ms/step - loss: 0.3787 - acc: 0.8655 - val_loss: 0.4534 - val_acc: 0.8436\n",
            "Epoch 37/100\n",
            "334/334 [==============================] - 9s 26ms/step - loss: 0.3758 - acc: 0.8670 - val_loss: 0.4807 - val_acc: 0.8346\n",
            "Epoch 38/100\n",
            "334/334 [==============================] - 9s 26ms/step - loss: 0.3724 - acc: 0.8665 - val_loss: 0.4534 - val_acc: 0.8481\n",
            "Epoch 39/100\n",
            "334/334 [==============================] - 9s 26ms/step - loss: 0.3730 - acc: 0.8690 - val_loss: 0.4625 - val_acc: 0.8458\n",
            "Epoch 40/100\n",
            "334/334 [==============================] - 9s 26ms/step - loss: 0.3707 - acc: 0.8685 - val_loss: 0.4628 - val_acc: 0.8368\n",
            "Epoch 41/100\n",
            "334/334 [==============================] - 9s 26ms/step - loss: 0.3678 - acc: 0.8726 - val_loss: 0.4627 - val_acc: 0.8436\n",
            "Epoch 42/100\n",
            "334/334 [==============================] - 9s 26ms/step - loss: 0.3678 - acc: 0.8707 - val_loss: 0.4463 - val_acc: 0.8466\n",
            "Epoch 43/100\n",
            "334/334 [==============================] - 9s 26ms/step - loss: 0.3678 - acc: 0.8691 - val_loss: 0.4483 - val_acc: 0.8466\n",
            "Epoch 44/100\n",
            "334/334 [==============================] - 9s 26ms/step - loss: 0.3652 - acc: 0.8724 - val_loss: 0.4545 - val_acc: 0.8451\n",
            "Epoch 45/100\n",
            "334/334 [==============================] - 9s 27ms/step - loss: 0.3644 - acc: 0.8727 - val_loss: 0.4493 - val_acc: 0.8481\n",
            "Epoch 46/100\n",
            "334/334 [==============================] - 9s 26ms/step - loss: 0.3603 - acc: 0.8721 - val_loss: 0.4515 - val_acc: 0.8421\n",
            "Epoch 47/100\n",
            "334/334 [==============================] - 9s 26ms/step - loss: 0.3597 - acc: 0.8740 - val_loss: 0.4665 - val_acc: 0.8436\n",
            "Epoch 48/100\n",
            "334/334 [==============================] - 9s 26ms/step - loss: 0.3588 - acc: 0.8732 - val_loss: 0.4617 - val_acc: 0.8458\n",
            "Epoch 49/100\n",
            "334/334 [==============================] - 9s 26ms/step - loss: 0.3582 - acc: 0.8739 - val_loss: 0.4948 - val_acc: 0.8301\n",
            "Epoch 50/100\n",
            "334/334 [==============================] - 9s 26ms/step - loss: 0.3543 - acc: 0.8741 - val_loss: 0.4607 - val_acc: 0.8451\n",
            "Epoch 51/100\n",
            "334/334 [==============================] - 9s 26ms/step - loss: 0.3565 - acc: 0.8728 - val_loss: 0.4494 - val_acc: 0.8496\n",
            "Epoch 52/100\n",
            "334/334 [==============================] - 9s 26ms/step - loss: 0.3520 - acc: 0.8774 - val_loss: 0.4511 - val_acc: 0.8496\n",
            "Epoch 53/100\n",
            "334/334 [==============================] - 9s 26ms/step - loss: 0.3514 - acc: 0.8762 - val_loss: 0.4643 - val_acc: 0.8421\n",
            "Epoch 54/100\n",
            "334/334 [==============================] - 9s 27ms/step - loss: 0.3502 - acc: 0.8764 - val_loss: 0.4619 - val_acc: 0.8473\n",
            "Epoch 55/100\n",
            "334/334 [==============================] - 9s 26ms/step - loss: 0.3489 - acc: 0.8765 - val_loss: 0.4523 - val_acc: 0.8458\n",
            "Epoch 56/100\n",
            "334/334 [==============================] - 9s 26ms/step - loss: 0.3480 - acc: 0.8762 - val_loss: 0.4950 - val_acc: 0.8301\n",
            "Epoch 57/100\n",
            "334/334 [==============================] - 9s 26ms/step - loss: 0.3499 - acc: 0.8781 - val_loss: 0.4567 - val_acc: 0.8398\n",
            "Epoch 58/100\n",
            "334/334 [==============================] - 9s 26ms/step - loss: 0.3450 - acc: 0.8770 - val_loss: 0.4562 - val_acc: 0.8421\n",
            "Epoch 59/100\n",
            "334/334 [==============================] - 9s 27ms/step - loss: 0.3456 - acc: 0.8786 - val_loss: 0.4516 - val_acc: 0.8428\n",
            "Epoch 60/100\n",
            "334/334 [==============================] - 9s 27ms/step - loss: 0.3437 - acc: 0.8802 - val_loss: 0.4719 - val_acc: 0.8428\n",
            "Epoch 61/100\n",
            "334/334 [==============================] - 9s 27ms/step - loss: 0.3430 - acc: 0.8774 - val_loss: 0.4490 - val_acc: 0.8481\n",
            "Epoch 62/100\n",
            "334/334 [==============================] - 9s 27ms/step - loss: 0.3409 - acc: 0.8775 - val_loss: 0.4502 - val_acc: 0.8458\n",
            "Epoch 63/100\n",
            "334/334 [==============================] - 9s 27ms/step - loss: 0.3416 - acc: 0.8786 - val_loss: 0.4514 - val_acc: 0.8481\n",
            "Epoch 64/100\n",
            "334/334 [==============================] - 9s 27ms/step - loss: 0.3386 - acc: 0.8806 - val_loss: 0.4636 - val_acc: 0.8428\n",
            "Epoch 65/100\n",
            "334/334 [==============================] - 9s 27ms/step - loss: 0.3395 - acc: 0.8803 - val_loss: 0.4742 - val_acc: 0.8421\n",
            "Epoch 66/100\n",
            "334/334 [==============================] - 9s 27ms/step - loss: 0.3382 - acc: 0.8806 - val_loss: 0.4696 - val_acc: 0.8361\n",
            "Epoch 67/100\n",
            "334/334 [==============================] - 9s 27ms/step - loss: 0.3350 - acc: 0.8823 - val_loss: 0.4585 - val_acc: 0.8473\n",
            "Epoch 68/100\n",
            "334/334 [==============================] - 9s 27ms/step - loss: 0.3344 - acc: 0.8844 - val_loss: 0.4543 - val_acc: 0.8436\n",
            "Epoch 69/100\n",
            "334/334 [==============================] - 9s 27ms/step - loss: 0.3333 - acc: 0.8825 - val_loss: 0.4561 - val_acc: 0.8473\n",
            "Epoch 70/100\n",
            "334/334 [==============================] - 9s 27ms/step - loss: 0.3335 - acc: 0.8818 - val_loss: 0.4607 - val_acc: 0.8413\n",
            "Epoch 71/100\n",
            "334/334 [==============================] - 9s 27ms/step - loss: 0.3324 - acc: 0.8839 - val_loss: 0.4517 - val_acc: 0.8481\n",
            "Epoch 72/100\n",
            "334/334 [==============================] - 9s 27ms/step - loss: 0.3309 - acc: 0.8825 - val_loss: 0.4528 - val_acc: 0.8458\n",
            "Epoch 73/100\n",
            "334/334 [==============================] - 9s 27ms/step - loss: 0.3341 - acc: 0.8815 - val_loss: 0.4658 - val_acc: 0.8413\n",
            "Epoch 74/100\n",
            "334/334 [==============================] - 9s 27ms/step - loss: 0.3307 - acc: 0.8834 - val_loss: 0.4699 - val_acc: 0.8443\n",
            "Epoch 75/100\n",
            "334/334 [==============================] - 9s 27ms/step - loss: 0.3273 - acc: 0.8840 - val_loss: 0.4802 - val_acc: 0.8406\n",
            "Epoch 76/100\n",
            "334/334 [==============================] - 9s 27ms/step - loss: 0.3284 - acc: 0.8843 - val_loss: 0.4531 - val_acc: 0.8473\n",
            "Epoch 77/100\n",
            "334/334 [==============================] - 9s 28ms/step - loss: 0.3273 - acc: 0.8852 - val_loss: 0.4741 - val_acc: 0.8428\n",
            "Epoch 78/100\n",
            "334/334 [==============================] - 9s 27ms/step - loss: 0.3262 - acc: 0.8862 - val_loss: 0.4698 - val_acc: 0.8346\n",
            "Epoch 79/100\n",
            "334/334 [==============================] - 9s 28ms/step - loss: 0.3268 - acc: 0.8828 - val_loss: 0.4619 - val_acc: 0.8443\n",
            "Epoch 80/100\n",
            "334/334 [==============================] - 9s 27ms/step - loss: 0.3256 - acc: 0.8862 - val_loss: 0.4974 - val_acc: 0.8368\n",
            "Epoch 81/100\n",
            "334/334 [==============================] - 9s 27ms/step - loss: 0.3243 - acc: 0.8863 - val_loss: 0.4859 - val_acc: 0.8249\n",
            "Epoch 82/100\n",
            "334/334 [==============================] - 9s 27ms/step - loss: 0.3244 - acc: 0.8859 - val_loss: 0.4611 - val_acc: 0.8481\n",
            "Epoch 83/100\n",
            "334/334 [==============================] - 9s 27ms/step - loss: 0.3239 - acc: 0.8859 - val_loss: 0.4690 - val_acc: 0.8391\n",
            "Epoch 84/100\n",
            "334/334 [==============================] - 9s 28ms/step - loss: 0.3216 - acc: 0.8864 - val_loss: 0.4542 - val_acc: 0.8481\n",
            "Epoch 85/100\n",
            "334/334 [==============================] - 9s 28ms/step - loss: 0.3199 - acc: 0.8870 - val_loss: 0.4700 - val_acc: 0.8391\n",
            "Epoch 86/100\n",
            "334/334 [==============================] - 9s 27ms/step - loss: 0.3196 - acc: 0.8891 - val_loss: 0.4558 - val_acc: 0.8466\n",
            "Epoch 87/100\n",
            "334/334 [==============================] - 9s 27ms/step - loss: 0.3184 - acc: 0.8898 - val_loss: 0.4538 - val_acc: 0.8488\n",
            "Epoch 88/100\n",
            "334/334 [==============================] - 9s 27ms/step - loss: 0.3192 - acc: 0.8890 - val_loss: 0.4650 - val_acc: 0.8406\n",
            "Epoch 89/100\n",
            "334/334 [==============================] - 9s 27ms/step - loss: 0.3150 - acc: 0.8897 - val_loss: 0.4718 - val_acc: 0.8428\n",
            "Epoch 90/100\n",
            "334/334 [==============================] - 9s 27ms/step - loss: 0.3180 - acc: 0.8881 - val_loss: 0.4813 - val_acc: 0.8301\n",
            "Epoch 91/100\n",
            "334/334 [==============================] - 9s 27ms/step - loss: 0.3165 - acc: 0.8893 - val_loss: 0.4547 - val_acc: 0.8496\n",
            "Epoch 92/100\n",
            "334/334 [==============================] - 9s 27ms/step - loss: 0.3153 - acc: 0.8892 - val_loss: 0.4634 - val_acc: 0.8488\n",
            "Epoch 93/100\n",
            "334/334 [==============================] - 9s 27ms/step - loss: 0.3146 - acc: 0.8873 - val_loss: 0.4744 - val_acc: 0.8488\n",
            "Epoch 94/100\n",
            "334/334 [==============================] - 9s 27ms/step - loss: 0.3143 - acc: 0.8876 - val_loss: 0.4606 - val_acc: 0.8413\n",
            "Epoch 95/100\n",
            "334/334 [==============================] - 9s 27ms/step - loss: 0.3128 - acc: 0.8885 - val_loss: 0.4627 - val_acc: 0.8383\n",
            "Epoch 96/100\n",
            "334/334 [==============================] - 9s 27ms/step - loss: 0.3133 - acc: 0.8920 - val_loss: 0.4568 - val_acc: 0.8503\n",
            "Epoch 97/100\n",
            "334/334 [==============================] - 9s 27ms/step - loss: 0.3100 - acc: 0.8916 - val_loss: 0.4530 - val_acc: 0.8510\n",
            "Epoch 98/100\n",
            "334/334 [==============================] - 9s 27ms/step - loss: 0.3102 - acc: 0.8915 - val_loss: 0.4562 - val_acc: 0.8466\n",
            "Epoch 99/100\n",
            "334/334 [==============================] - 9s 27ms/step - loss: 0.3095 - acc: 0.8889 - val_loss: 0.4626 - val_acc: 0.8488\n",
            "Epoch 100/100\n",
            "334/334 [==============================] - 9s 27ms/step - loss: 0.3098 - acc: 0.8900 - val_loss: 0.4907 - val_acc: 0.8398\n",
            "CPU times: user 14min 6s, sys: 1min 36s, total: 15min 42s\n",
            "Wall time: 15min 29s\n"
          ]
        },
        {
          "output_type": "execute_result",
          "data": {
            "text/plain": [
              "<keras.callbacks.History at 0x7ff4b3c5c590>"
            ]
          },
          "metadata": {},
          "execution_count": 17
        }
      ]
    },
    {
      "cell_type": "code",
      "metadata": {
        "id": "x95kP4_gOQH0",
        "colab": {
          "base_uri": "https://localhost:8080/"
        },
        "outputId": "102d465f-61d9-4912-d41b-decfecd61102"
      },
      "source": [
        "model.evaluate(X_test, y_test)"
      ],
      "execution_count": null,
      "outputs": [
        {
          "output_type": "stream",
          "name": "stdout",
          "text": [
            "42/42 [==============================] - 1s 13ms/step - loss: 0.4558 - acc: 0.8391\n"
          ]
        },
        {
          "output_type": "execute_result",
          "data": {
            "text/plain": [
              "[0.4558217525482178, 0.8390718698501587]"
            ]
          },
          "metadata": {},
          "execution_count": 18
        }
      ]
    },
    {
      "cell_type": "code",
      "metadata": {
        "id": "oetcgmbgXZy7"
      },
      "source": [
        ""
      ],
      "execution_count": null,
      "outputs": []
    }
  ]
}