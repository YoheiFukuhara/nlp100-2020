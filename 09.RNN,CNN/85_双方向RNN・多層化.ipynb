{
  "nbformat": 4,
  "nbformat_minor": 0,
  "metadata": {
    "accelerator": "GPU",
    "colab": {
      "name": "85.双方向RNN・多層化.ipynb",
      "provenance": [],
      "collapsed_sections": [],
      "authorship_tag": "ABX9TyOo/Mn3eIvi8siHn1s9CLmV",
      "include_colab_link": true
    },
    "kernelspec": {
      "display_name": "Python 3",
      "name": "python3"
    },
    "language_info": {
      "name": "python"
    }
  },
  "cells": [
    {
      "cell_type": "markdown",
      "metadata": {
        "id": "view-in-github",
        "colab_type": "text"
      },
      "source": [
        "<a href=\"https://colab.research.google.com/github/YoheiFukuhara/nlp100-2020/blob/main/09.RNN%2CCNN/85_%E5%8F%8C%E6%96%B9%E5%90%91RNN%E3%83%BB%E5%A4%9A%E5%B1%A4%E5%8C%96.ipynb\" target=\"_parent\"><img src=\"https://colab.research.google.com/assets/colab-badge.svg\" alt=\"Open In Colab\"/></a>"
      ]
    },
    {
      "cell_type": "markdown",
      "metadata": {
        "id": "Hnhi5curHGob"
      },
      "source": [
        "順方向と逆方向のRNNの両方を用いて入力テキストをエンコードし，モデルを学習せよ．\n",
        "\n",
        "```math\n",
        "\\overleftarrow h_{T+1} = 0, \\\\\n",
        "\\overleftarrow h_t = {\\rm \\overleftarrow{RNN}}(\\mathrm{emb}(x_t), \\overleftarrow h_{t+1}), \\\\\n",
        "y = {\\rm softmax}(W^{(yh)} [\\overrightarrow h_T; \\overleftarrow h_1] + b^{(y)})\n",
        "```\n",
        "\n",
        "ただし，$\\overrightarrow h_t \\in \\mathbb{R}^{d_h}, \\overleftarrow h_t \\in \\mathbb{R}^{d_h}$はそれぞれ，順方向および逆方向のRNNで求めた時刻$t$の隠れ状態ベクトル，${\\rm \\overleftarrow{RNN}}(x,h)$は入力$x$と次時刻の隠れ状態$h$から前状態を計算するRNNユニット，$W^{(yh)} \\in \\mathbb{R}^{L \\times 2d_h}$は隠れ状態ベクトルからカテゴリを予測するための行列，$b^{(y)} \\in \\mathbb{R}^{L}$はバイアス項である．また，$[a; b]$はベクトル$a$と$b$の連結を表す。\n",
        "\n",
        "さらに，双方向RNNを多層化して実験せよ．"
      ]
    },
    {
      "cell_type": "code",
      "metadata": {
        "colab": {
          "base_uri": "https://localhost:8080/"
        },
        "id": "smIMO5cGG3pf",
        "outputId": "519c0c1b-7561-40f1-b192-ac27f29aa3d8"
      },
      "source": [
        "import numpy as np\n",
        "import nltk\n",
        "from gensim.models import KeyedVectors\n",
        "import pandas as pd\n",
        "import tensorflow as tf\n",
        "from google.colab import drive\n",
        "\n",
        "drive.mount('/content/drive')"
      ],
      "execution_count": 1,
      "outputs": [
        {
          "output_type": "stream",
          "name": "stdout",
          "text": [
            "Mounted at /content/drive\n"
          ]
        }
      ]
    },
    {
      "cell_type": "code",
      "metadata": {
        "colab": {
          "base_uri": "https://localhost:8080/"
        },
        "id": "9Zfcn75JDUbC",
        "outputId": "ab844f27-998b-4009-b354-ddf991fccced"
      },
      "source": [
        "!python --version\n",
        "!pip show numpy gensim google tensorflow nltk pandas"
      ],
      "execution_count": 2,
      "outputs": [
        {
          "output_type": "stream",
          "name": "stdout",
          "text": [
            "Python 3.7.12\n",
            "Name: numpy\n",
            "Version: 1.19.5\n",
            "Summary: NumPy is the fundamental package for array computing with Python.\n",
            "Home-page: https://www.numpy.org\n",
            "Author: Travis E. Oliphant et al.\n",
            "Author-email: None\n",
            "License: BSD\n",
            "Location: /usr/local/lib/python3.7/dist-packages\n",
            "Requires: \n",
            "Required-by: yellowbrick, xgboost, xarray, wordcloud, torchvision, torchtext, tifffile, thinc, Theano-PyMC, tensorflow, tensorflow-probability, tensorflow-hub, tensorflow-datasets, tensorboard, tables, statsmodels, spacy, sklearn-pandas, seaborn, scs, scipy, scikit-learn, scikit-image, resampy, qdldl, PyWavelets, python-louvain, pystan, pysndfile, pymc3, pyerfa, pyemd, pyarrow, plotnine, patsy, pandas, osqp, opt-einsum, opencv-python, opencv-contrib-python, numexpr, numba, nibabel, netCDF4, moviepy, mlxtend, mizani, missingno, matplotlib, matplotlib-venn, lightgbm, librosa, Keras-Preprocessing, kapre, jpeg4py, jaxlib, jax, imgaug, imbalanced-learn, imageio, hyperopt, holoviews, h5py, gym, gensim, folium, fix-yahoo-finance, fbprophet, fastprogress, fastdtw, fastai, fa2, ecos, daft, cvxpy, cupy-cuda111, cufflinks, cmdstanpy, cftime, Bottleneck, bokeh, blis, autograd, atari-py, astropy, arviz, altair, albumentations\n",
            "---\n",
            "Name: gensim\n",
            "Version: 3.6.0\n",
            "Summary: Python framework for fast Vector Space Modelling\n",
            "Home-page: http://radimrehurek.com/gensim\n",
            "Author: Radim Rehurek\n",
            "Author-email: me@radimrehurek.com\n",
            "License: LGPLv2.1\n",
            "Location: /usr/local/lib/python3.7/dist-packages\n",
            "Requires: smart-open, numpy, six, scipy\n",
            "Required-by: \n",
            "---\n",
            "Name: google\n",
            "Version: 2.0.3\n",
            "Summary: Python bindings to the Google search engine.\n",
            "Home-page: http://breakingcode.wordpress.com/\n",
            "Author: Mario Vilas\n",
            "Author-email: mvilas@gmail.com\n",
            "License: UNKNOWN\n",
            "Location: /usr/local/lib/python3.7/dist-packages\n",
            "Requires: beautifulsoup4\n",
            "Required-by: \n",
            "---\n",
            "Name: tensorflow\n",
            "Version: 2.7.0\n",
            "Summary: TensorFlow is an open source machine learning framework for everyone.\n",
            "Home-page: https://www.tensorflow.org/\n",
            "Author: Google Inc.\n",
            "Author-email: packages@tensorflow.org\n",
            "License: Apache 2.0\n",
            "Location: /usr/local/lib/python3.7/dist-packages\n",
            "Requires: tensorflow-io-gcs-filesystem, grpcio, protobuf, flatbuffers, google-pasta, absl-py, opt-einsum, h5py, wheel, tensorflow-estimator, astunparse, libclang, keras-preprocessing, keras, tensorboard, typing-extensions, wrapt, gast, termcolor, six, numpy\n",
            "Required-by: kapre\n",
            "---\n",
            "Name: nltk\n",
            "Version: 3.2.5\n",
            "Summary: Natural Language Toolkit\n",
            "Home-page: http://nltk.org/\n",
            "Author: Steven Bird\n",
            "Author-email: stevenbird1@gmail.com\n",
            "License: Apache License, Version 2.0\n",
            "Location: /usr/local/lib/python3.7/dist-packages\n",
            "Requires: six\n",
            "Required-by: textblob\n",
            "---\n",
            "Name: pandas\n",
            "Version: 1.1.5\n",
            "Summary: Powerful data structures for data analysis, time series, and statistics\n",
            "Home-page: https://pandas.pydata.org\n",
            "Author: None\n",
            "Author-email: None\n",
            "License: BSD\n",
            "Location: /usr/local/lib/python3.7/dist-packages\n",
            "Requires: python-dateutil, pytz, numpy\n",
            "Required-by: xarray, vega-datasets, statsmodels, sklearn-pandas, seaborn, pymc3, plotnine, pandas-profiling, pandas-gbq, pandas-datareader, mlxtend, mizani, holoviews, gspread-dataframe, google-colab, fix-yahoo-finance, fbprophet, fastai, cufflinks, cmdstanpy, arviz, altair\n"
          ]
        }
      ]
    },
    {
      "cell_type": "code",
      "metadata": {
        "id": "cJPjoNjhHTc3",
        "colab": {
          "base_uri": "https://localhost:8080/"
        },
        "outputId": "92cab487-2037-4f19-95eb-bc2143f73e5d"
      },
      "source": [
        "%%time\n",
        "BASE_PATH = '/content/drive/MyDrive/ColabNotebooks/ML/NLP100_2020/'\n",
        "max_len = 0\n",
        "vocabulary = []\n",
        "w2v_model = KeyedVectors.load_word2vec_format(BASE_PATH+'07.WordVector/input/GoogleNews-vectors-negative300.bin.gz', binary=True)"
      ],
      "execution_count": 3,
      "outputs": [
        {
          "output_type": "stream",
          "name": "stdout",
          "text": [
            "CPU times: user 2min 27s, sys: 5.92 s, total: 2min 33s\n",
            "Wall time: 2min 37s\n"
          ]
        }
      ]
    },
    {
      "cell_type": "code",
      "metadata": {
        "id": "BGk9QJ-sHlPk"
      },
      "source": [
        "def read_dataset(type_):\n",
        "    global max_len\n",
        "    global vocabulary\n",
        "    df = pd.read_table(BASE_PATH+'06.MachineLearning/'+type_+'.feature.txt')\n",
        "    df.info()\n",
        "    sr_title = df['title'].str.split().explode()\n",
        "    max_len_ = df['title'].map(lambda x: len(x.split())).max()\n",
        "    if max_len < max_len_:\n",
        "        max_len = max_len_\n",
        "    if len(vocabulary) == 0:\n",
        "        vocabulary = [k for k, v in nltk.FreqDist(sr_title).items() if v > 1]\n",
        "    else:\n",
        "        vocabulary.extend([k for k, v in nltk.FreqDist(sr_title).items() if v > 1])\n",
        "    y = df['category'].replace({'b':0, 't':1, 'e':2, 'm':3})\n",
        "    return df['title'], tf.keras.utils.to_categorical(y, dtype='int32')  # 4値分類なので訓練・検証・テスト共通でone-hot化"
      ],
      "execution_count": 4,
      "outputs": []
    },
    {
      "cell_type": "code",
      "metadata": {
        "colab": {
          "base_uri": "https://localhost:8080/"
        },
        "id": "OAx17LNLHmtI",
        "outputId": "73a282fb-775d-4141-f3dd-0342a358f564"
      },
      "source": [
        "X_train, y_train = read_dataset('train')\n",
        "X_valid, y_valid = read_dataset('valid')\n",
        "X_test, y_test = read_dataset('test') # あまりこだわらずにテストデータセットも追加\n",
        "\n",
        "# setで重複削除し、タプル形式に設定\n",
        "tup_voc = tuple(set(vocabulary))\n",
        "\n",
        "print(f'vocabulary size before removing duplicates: {len(vocabulary)}')\n",
        "print(f'vocabulary size after removing duplicates: {len(tup_voc)}')\n",
        "print(f'sample vocabulary: {tup_voc[:10]}')\n",
        "print(f'max length is {max_len}')"
      ],
      "execution_count": 5,
      "outputs": [
        {
          "output_type": "stream",
          "name": "stdout",
          "text": [
            "<class 'pandas.core.frame.DataFrame'>\n",
            "RangeIndex: 10684 entries, 0 to 10683\n",
            "Data columns (total 2 columns):\n",
            " #   Column    Non-Null Count  Dtype \n",
            "---  ------    --------------  ----- \n",
            " 0   title     10684 non-null  object\n",
            " 1   category  10684 non-null  object\n",
            "dtypes: object(2)\n",
            "memory usage: 167.1+ KB\n",
            "<class 'pandas.core.frame.DataFrame'>\n",
            "RangeIndex: 1336 entries, 0 to 1335\n",
            "Data columns (total 2 columns):\n",
            " #   Column    Non-Null Count  Dtype \n",
            "---  ------    --------------  ----- \n",
            " 0   title     1336 non-null   object\n",
            " 1   category  1336 non-null   object\n",
            "dtypes: object(2)\n",
            "memory usage: 21.0+ KB\n",
            "<class 'pandas.core.frame.DataFrame'>\n",
            "RangeIndex: 1336 entries, 0 to 1335\n",
            "Data columns (total 2 columns):\n",
            " #   Column    Non-Null Count  Dtype \n",
            "---  ------    --------------  ----- \n",
            " 0   title     1336 non-null   object\n",
            " 1   category  1336 non-null   object\n",
            "dtypes: object(2)\n",
            "memory usage: 21.0+ KB\n",
            "vocabulary size before removing duplicates: 11089\n",
            "vocabulary size after removing duplicates: 7802\n",
            "sample vocabulary: ('Anarchy', 'Firms', 'tax', 'quite', 'Debbie', 'Meets', 'Personal', 'Pure', 'reinstate', 'Eminem')\n",
            "max length is 18\n"
          ]
        }
      ]
    },
    {
      "cell_type": "code",
      "metadata": {
        "colab": {
          "base_uri": "https://localhost:8080/"
        },
        "id": "N_R8EAy1IPHc",
        "outputId": "d68d074a-7850-4cc4-c9c4-4f4e13757ee4"
      },
      "source": [
        "vectorize_layer = tf.keras.layers.TextVectorization(\n",
        " output_mode='int',\n",
        " vocabulary=tup_voc,\n",
        " output_sequence_length=max_len)\n",
        "\n",
        "print(f'vocabulary size is {vectorize_layer.vocabulary_size()}')"
      ],
      "execution_count": 6,
      "outputs": [
        {
          "output_type": "stream",
          "name": "stdout",
          "text": [
            "vocabulary size is 7804\n"
          ]
        }
      ]
    },
    {
      "cell_type": "code",
      "metadata": {
        "colab": {
          "base_uri": "https://localhost:8080/"
        },
        "id": "_eGNTfv6bWlU",
        "outputId": "01d8a0e3-d43d-425a-96d8-e3aa394dc66e"
      },
      "source": [
        "%%time\n",
        "embedding_dim = 300\n",
        "hits = 0\n",
        "misses = 0\n",
        "\n",
        "embedding_matrix = np.zeros((vectorize_layer.vocabulary_size(), embedding_dim))\n",
        "for i, word in enumerate(vectorize_layer.get_vocabulary()):\n",
        "    try:\n",
        "        embedding_matrix[i] = w2v_model.get_vector(word)\n",
        "        hits += 1\n",
        "        # Words not found in embedding index will be all-zeros.\n",
        "        # This includes the representation for \"padding\" and \"OOV\"\n",
        "    except:\n",
        "        misses += 1\n",
        "        if misses < 7:  # Show 6 words as example\n",
        "            print(word)"
      ],
      "execution_count": 7,
      "outputs": [
        {
          "output_type": "stream",
          "name": "stdout",
          "text": [
            "\n",
            "[UNK]\n",
            "H&M\n",
            "bulgarian\n",
            "gazprom\n",
            "Barkhad\n",
            "CPU times: user 51.6 ms, sys: 11.2 ms, total: 62.8 ms\n",
            "Wall time: 75.4 ms\n"
          ]
        }
      ]
    },
    {
      "cell_type": "code",
      "metadata": {
        "id": "Sqjy7bW159Ok"
      },
      "source": [
        "embedding_layer = tf.keras.layers.Embedding(\n",
        "    vectorize_layer.vocabulary_size(),\n",
        "    embedding_dim,\n",
        "    embeddings_initializer=tf.keras.initializers.Constant(embedding_matrix),\n",
        "    trainable=False\n",
        ")"
      ],
      "execution_count": 8,
      "outputs": []
    },
    {
      "cell_type": "code",
      "metadata": {
        "colab": {
          "base_uri": "https://localhost:8080/"
        },
        "id": "r_mDjQmeHqi1",
        "outputId": "ddc9ff9f-7358-4bdb-d537-e6a78d36b06b"
      },
      "source": [
        "model = tf.keras.models.Sequential()\n",
        "model.add(tf.keras.Input(shape=(1,), dtype=tf.string))\n",
        "model.add(vectorize_layer)\n",
        "model.add(embedding_layer)\n",
        "model.add(tf.keras.layers.Bidirectional(tf.keras.layers.GRU(50, return_sequences=True)))\n",
        "model.add(tf.keras.layers.Bidirectional(tf.keras.layers.GRU(50)))\n",
        "model.add(tf.keras.layers.Dense(4, activation='softmax'))\n",
        "model.compile(loss='categorical_crossentropy', optimizer='sgd', metrics=['acc'])\n",
        "model.summary()"
      ],
      "execution_count": 9,
      "outputs": [
        {
          "output_type": "stream",
          "name": "stdout",
          "text": [
            "Model: \"sequential\"\n",
            "_________________________________________________________________\n",
            " Layer (type)                Output Shape              Param #   \n",
            "=================================================================\n",
            " text_vectorization (TextVec  (None, 18)               0         \n",
            " torization)                                                     \n",
            "                                                                 \n",
            " embedding (Embedding)       (None, 18, 300)           2341200   \n",
            "                                                                 \n",
            " bidirectional (Bidirectiona  (None, 18, 100)          105600    \n",
            " l)                                                              \n",
            "                                                                 \n",
            " bidirectional_1 (Bidirectio  (None, 100)              45600     \n",
            " nal)                                                            \n",
            "                                                                 \n",
            " dense (Dense)               (None, 4)                 404       \n",
            "                                                                 \n",
            "=================================================================\n",
            "Total params: 2,492,804\n",
            "Trainable params: 151,604\n",
            "Non-trainable params: 2,341,200\n",
            "_________________________________________________________________\n"
          ]
        }
      ]
    },
    {
      "cell_type": "code",
      "metadata": {
        "colab": {
          "base_uri": "https://localhost:8080/",
          "height": 644
        },
        "id": "8XIOoLFVL642",
        "outputId": "2f20cc6f-79c6-4a09-adfb-571121dc13ac"
      },
      "source": [
        "tf.keras.utils.plot_model(model, show_shapes=True)"
      ],
      "execution_count": 10,
      "outputs": [
        {
          "output_type": "execute_result",
          "data": {
            "image/png": "[encoded data removed]",
            "text/plain": [
              "<IPython.core.display.Image object>"
            ]
          },
          "metadata": {},
          "execution_count": 10
        }
      ]
    },
    {
      "cell_type": "code",
      "metadata": {
        "id": "RHoesMkQOM1p",
        "colab": {
          "base_uri": "https://localhost:8080/"
        },
        "outputId": "402e2c18-efd6-4d21-ce8b-57cec84357f3"
      },
      "source": [
        "%%time\n",
        "model.fit(X_train, y_train, epochs=100, validation_data=(X_valid, y_valid),\n",
        "          callbacks=[tf.keras.callbacks.EarlyStopping(patience=5, restore_best_weights=False)])"
      ],
      "execution_count": 11,
      "outputs": [
        {
          "output_type": "stream",
          "name": "stdout",
          "text": [
            "Epoch 1/100\n",
            "334/334 [==============================] - 21s 31ms/step - loss: 1.1641 - acc: 0.5472 - val_loss: 1.1109 - val_acc: 0.6437\n",
            "Epoch 2/100\n",
            "334/334 [==============================] - 9s 26ms/step - loss: 1.0719 - acc: 0.6706 - val_loss: 1.0216 - val_acc: 0.6916\n",
            "Epoch 3/100\n",
            "334/334 [==============================] - 9s 26ms/step - loss: 0.9405 - acc: 0.7039 - val_loss: 0.8554 - val_acc: 0.7156\n",
            "Epoch 4/100\n",
            "334/334 [==============================] - 9s 26ms/step - loss: 0.7780 - acc: 0.7340 - val_loss: 0.7333 - val_acc: 0.7418\n",
            "Epoch 5/100\n",
            "334/334 [==============================] - 9s 26ms/step - loss: 0.7009 - acc: 0.7497 - val_loss: 0.6871 - val_acc: 0.7530\n",
            "Epoch 6/100\n",
            "334/334 [==============================] - 9s 26ms/step - loss: 0.6691 - acc: 0.7578 - val_loss: 0.6766 - val_acc: 0.7582\n",
            "Epoch 7/100\n",
            "334/334 [==============================] - 9s 26ms/step - loss: 0.6464 - acc: 0.7632 - val_loss: 0.6479 - val_acc: 0.7627\n",
            "Epoch 8/100\n",
            "334/334 [==============================] - 9s 26ms/step - loss: 0.6254 - acc: 0.7670 - val_loss: 0.6310 - val_acc: 0.7710\n",
            "Epoch 9/100\n",
            "334/334 [==============================] - 9s 26ms/step - loss: 0.6077 - acc: 0.7732 - val_loss: 0.6221 - val_acc: 0.7702\n",
            "Epoch 10/100\n",
            "334/334 [==============================] - 9s 26ms/step - loss: 0.5834 - acc: 0.7863 - val_loss: 0.5949 - val_acc: 0.7844\n",
            "Epoch 11/100\n",
            "334/334 [==============================] - 9s 26ms/step - loss: 0.5637 - acc: 0.7939 - val_loss: 0.5796 - val_acc: 0.7859\n",
            "Epoch 12/100\n",
            "334/334 [==============================] - 9s 26ms/step - loss: 0.5423 - acc: 0.8025 - val_loss: 0.5630 - val_acc: 0.7964\n",
            "Epoch 13/100\n",
            "334/334 [==============================] - 9s 26ms/step - loss: 0.5207 - acc: 0.8165 - val_loss: 0.5474 - val_acc: 0.7964\n",
            "Epoch 14/100\n",
            "334/334 [==============================] - 9s 26ms/step - loss: 0.5055 - acc: 0.8209 - val_loss: 0.5456 - val_acc: 0.8054\n",
            "Epoch 15/100\n",
            "334/334 [==============================] - 9s 26ms/step - loss: 0.4912 - acc: 0.8280 - val_loss: 0.5227 - val_acc: 0.8136\n",
            "Epoch 16/100\n",
            "334/334 [==============================] - 9s 26ms/step - loss: 0.4785 - acc: 0.8347 - val_loss: 0.5357 - val_acc: 0.8061\n",
            "Epoch 17/100\n",
            "334/334 [==============================] - 9s 26ms/step - loss: 0.4709 - acc: 0.8347 - val_loss: 0.5064 - val_acc: 0.8204\n",
            "Epoch 18/100\n",
            "334/334 [==============================] - 9s 26ms/step - loss: 0.4623 - acc: 0.8384 - val_loss: 0.5148 - val_acc: 0.8189\n",
            "Epoch 19/100\n",
            "334/334 [==============================] - 9s 26ms/step - loss: 0.4517 - acc: 0.8420 - val_loss: 0.4973 - val_acc: 0.8278\n",
            "Epoch 20/100\n",
            "334/334 [==============================] - 9s 26ms/step - loss: 0.4454 - acc: 0.8443 - val_loss: 0.4945 - val_acc: 0.8256\n",
            "Epoch 21/100\n",
            "334/334 [==============================] - 9s 26ms/step - loss: 0.4349 - acc: 0.8496 - val_loss: 0.4898 - val_acc: 0.8301\n",
            "Epoch 22/100\n",
            "334/334 [==============================] - 9s 26ms/step - loss: 0.4275 - acc: 0.8531 - val_loss: 0.4841 - val_acc: 0.8338\n",
            "Epoch 23/100\n",
            "334/334 [==============================] - 9s 26ms/step - loss: 0.4240 - acc: 0.8545 - val_loss: 0.4767 - val_acc: 0.8361\n",
            "Epoch 24/100\n",
            "334/334 [==============================] - 9s 26ms/step - loss: 0.4158 - acc: 0.8545 - val_loss: 0.4657 - val_acc: 0.8391\n",
            "Epoch 25/100\n",
            "334/334 [==============================] - 9s 26ms/step - loss: 0.4126 - acc: 0.8551 - val_loss: 0.4692 - val_acc: 0.8383\n",
            "Epoch 26/100\n",
            "334/334 [==============================] - 9s 26ms/step - loss: 0.4069 - acc: 0.8585 - val_loss: 0.4629 - val_acc: 0.8353\n",
            "Epoch 27/100\n",
            "334/334 [==============================] - 9s 26ms/step - loss: 0.4045 - acc: 0.8607 - val_loss: 0.4632 - val_acc: 0.8346\n",
            "Epoch 28/100\n",
            "334/334 [==============================] - 9s 26ms/step - loss: 0.3985 - acc: 0.8597 - val_loss: 0.4598 - val_acc: 0.8473\n",
            "Epoch 29/100\n",
            "334/334 [==============================] - 9s 26ms/step - loss: 0.3964 - acc: 0.8622 - val_loss: 0.4784 - val_acc: 0.8376\n",
            "Epoch 30/100\n",
            "334/334 [==============================] - 9s 26ms/step - loss: 0.3954 - acc: 0.8608 - val_loss: 0.4665 - val_acc: 0.8361\n",
            "Epoch 31/100\n",
            "334/334 [==============================] - 9s 26ms/step - loss: 0.3904 - acc: 0.8653 - val_loss: 0.4541 - val_acc: 0.8473\n",
            "Epoch 32/100\n",
            "334/334 [==============================] - 9s 26ms/step - loss: 0.3869 - acc: 0.8628 - val_loss: 0.4877 - val_acc: 0.8308\n",
            "Epoch 33/100\n",
            "334/334 [==============================] - 9s 26ms/step - loss: 0.3851 - acc: 0.8661 - val_loss: 0.4517 - val_acc: 0.8361\n",
            "Epoch 34/100\n",
            "334/334 [==============================] - 9s 26ms/step - loss: 0.3827 - acc: 0.8654 - val_loss: 0.4757 - val_acc: 0.8368\n",
            "Epoch 35/100\n",
            "334/334 [==============================] - 9s 26ms/step - loss: 0.3811 - acc: 0.8641 - val_loss: 0.4576 - val_acc: 0.8451\n",
            "Epoch 36/100\n",
            "334/334 [==============================] - 9s 26ms/step - loss: 0.3749 - acc: 0.8663 - val_loss: 0.4531 - val_acc: 0.8458\n",
            "Epoch 37/100\n",
            "334/334 [==============================] - 9s 26ms/step - loss: 0.3766 - acc: 0.8679 - val_loss: 0.5053 - val_acc: 0.8263\n",
            "Epoch 38/100\n",
            "334/334 [==============================] - 9s 26ms/step - loss: 0.3741 - acc: 0.8684 - val_loss: 0.4582 - val_acc: 0.8421\n",
            "CPU times: user 5min 8s, sys: 29.8 s, total: 5min 38s\n",
            "Wall time: 5min 42s\n"
          ]
        },
        {
          "output_type": "execute_result",
          "data": {
            "text/plain": [
              "<keras.callbacks.History at 0x7f3be1d7b290>"
            ]
          },
          "metadata": {},
          "execution_count": 11
        }
      ]
    },
    {
      "cell_type": "code",
      "metadata": {
        "id": "x95kP4_gOQH0",
        "colab": {
          "base_uri": "https://localhost:8080/"
        },
        "outputId": "6e28b5cc-7fad-4bd1-88c0-6eaa0e57f7db"
      },
      "source": [
        "model.evaluate(X_test, y_test)"
      ],
      "execution_count": 12,
      "outputs": [
        {
          "output_type": "stream",
          "name": "stdout",
          "text": [
            "42/42 [==============================] - 1s 12ms/step - loss: 0.4229 - acc: 0.8533\n"
          ]
        },
        {
          "output_type": "execute_result",
          "data": {
            "text/plain": [
              "[0.422873854637146, 0.8532934188842773]"
            ]
          },
          "metadata": {},
          "execution_count": 12
        }
      ]
    },
    {
      "cell_type": "code",
      "metadata": {
        "id": "oetcgmbgXZy7"
      },
      "source": [
        ""
      ],
      "execution_count": null,
      "outputs": []
    }
  ]
}